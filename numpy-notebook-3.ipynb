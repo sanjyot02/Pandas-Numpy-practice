{
 "cells": [
  {
   "cell_type": "markdown",
   "metadata": {
    "cell_id": "e50a6bebc3a04492adef52b9ed86ec8c",
    "deepnote_cell_type": "text-cell-h1",
    "formattedRanges": [],
    "is_collapsed": false,
    "tags": []
   },
   "source": [
    "# NumPy Notebook 3"
   ]
  },
  {
   "cell_type": "code",
   "execution_count": 1,
   "metadata": {
    "cell_id": "ebd449a645b34b6f892e60c248d955be",
    "deepnote_cell_type": "code",
    "deepnote_to_be_reexecuted": false,
    "execution_context_id": "fb6c4125-6b8b-426c-8e1c-f0584e4a426d",
    "execution_millis": 0,
    "execution_start": 1735360425476,
    "source_hash": "b7dcc9c8",
    "tags": []
   },
   "outputs": [],
   "source": [
    "import numpy as np\n",
    "import pandas as pd"
   ]
  },
  {
   "cell_type": "markdown",
   "metadata": {
    "cell_id": "1f16b567d3b6448cb02b8227fcedf937",
    "deepnote_cell_type": "text-cell-h3",
    "formattedRanges": [],
    "is_collapsed": false,
    "tags": []
   },
   "source": [
    "### 85. Print the data type of the numpy array below "
   ]
  },
  {
   "cell_type": "code",
   "execution_count": 2,
   "metadata": {
    "cell_id": "ebe679272df641ff955b322f67170b95",
    "deepnote_cell_height": 115,
    "deepnote_cell_type": "code",
    "execution_context_id": "fb6c4125-6b8b-426c-8e1c-f0584e4a426d",
    "execution_millis": 1,
    "execution_start": 1735360488250,
    "source_hash": "d5c4f8d1",
    "tags": []
   },
   "outputs": [
    {
     "name": "stdout",
     "output_type": "stream",
     "text": [
      "<class 'numpy.ndarray'>\n"
     ]
    }
   ],
   "source": [
    "a = np.array([[1, 2, 3], [4, 5, 6]], np.int32)\n",
    "\n",
    "data_type = type(a)\n",
    "print(data_type)"
   ]
  },
  {
   "cell_type": "markdown",
   "metadata": {
    "cell_id": "d74bbb6c49884c758c7fabf0e03d93c1",
    "deepnote_cell_type": "text-cell-h3",
    "formattedRanges": [],
    "is_collapsed": false,
    "tags": []
   },
   "source": [
    "### 86. Print the second element in the first row"
   ]
  },
  {
   "cell_type": "code",
   "execution_count": 3,
   "metadata": {
    "cell_id": "21a4c44214d8421a910e14ba2dc001e7",
    "deepnote_cell_height": 115,
    "deepnote_cell_type": "code",
    "execution_context_id": "fb6c4125-6b8b-426c-8e1c-f0584e4a426d",
    "execution_millis": 1,
    "execution_start": 1735360515886,
    "source_hash": "2f9b3fe3",
    "tags": []
   },
   "outputs": [
    {
     "name": "stdout",
     "output_type": "stream",
     "text": [
      "2\n"
     ]
    }
   ],
   "source": [
    "a = np.array([[1, 2, 3], [4, 5, 6]], np.int32)\n",
    "\n",
    "element = a[0,1]\n",
    "print(element)"
   ]
  },
  {
   "cell_type": "markdown",
   "metadata": {
    "cell_id": "65f8606a8d3641e4b16be3928a33ce76",
    "deepnote_cell_type": "text-cell-h3",
    "formattedRanges": [],
    "is_collapsed": false,
    "tags": []
   },
   "source": [
    "### 87. Print the first column"
   ]
  },
  {
   "cell_type": "code",
   "execution_count": 4,
   "metadata": {
    "cell_id": "29b147cd8a634ae085d489554a477054",
    "deepnote_cell_height": 115,
    "deepnote_cell_type": "code",
    "execution_context_id": "fb6c4125-6b8b-426c-8e1c-f0584e4a426d",
    "execution_millis": 1,
    "execution_start": 1735360552131,
    "source_hash": "7dfd3324",
    "tags": []
   },
   "outputs": [
    {
     "name": "stdout",
     "output_type": "stream",
     "text": [
      "[1 4]\n"
     ]
    }
   ],
   "source": [
    "a = np.array([[1, 2, 3], [4, 5, 6]], np.int32)\n",
    "\n",
    "column = a[:,0]\n",
    "print(column)"
   ]
  },
  {
   "cell_type": "markdown",
   "metadata": {
    "cell_id": "3ca071f479a84cd0b710b4a9e1b07e05",
    "deepnote_cell_type": "text-cell-h3",
    "formattedRanges": [],
    "is_collapsed": false,
    "tags": []
   },
   "source": [
    "### 88. Print the real part of the NumPy array"
   ]
  },
  {
   "cell_type": "code",
   "execution_count": 5,
   "metadata": {
    "cell_id": "97f95ad568d548df9ead41e8ded6a4f3",
    "deepnote_cell_height": 115,
    "deepnote_cell_type": "code",
    "execution_context_id": "fb6c4125-6b8b-426c-8e1c-f0584e4a426d",
    "execution_millis": 1,
    "execution_start": 1735360571274,
    "source_hash": "9f567f0f",
    "tags": []
   },
   "outputs": [
    {
     "name": "stdout",
     "output_type": "stream",
     "text": [
      "[1. 2. 4.]\n"
     ]
    }
   ],
   "source": [
    "a = np.array([1+2j, 2+5j, 4+9j])\n",
    "\n",
    "real = a.real\n",
    "print(real)"
   ]
  },
  {
   "cell_type": "markdown",
   "metadata": {
    "cell_id": "cfc7c57b36364a8a9a22d4aaa955fe33",
    "deepnote_cell_type": "text-cell-h3",
    "formattedRanges": [],
    "is_collapsed": false,
    "tags": []
   },
   "source": [
    "### 89. Print the imaginary part of the NumPy array"
   ]
  },
  {
   "cell_type": "code",
   "execution_count": 6,
   "metadata": {
    "cell_id": "fe1ccbcddaef4812b4f33304c625f67e",
    "deepnote_cell_height": 115,
    "deepnote_cell_type": "code",
    "execution_context_id": "fb6c4125-6b8b-426c-8e1c-f0584e4a426d",
    "execution_millis": 1,
    "execution_start": 1735360588237,
    "source_hash": "450625a4",
    "tags": []
   },
   "outputs": [
    {
     "name": "stdout",
     "output_type": "stream",
     "text": [
      "[2. 5. 9.]\n"
     ]
    }
   ],
   "source": [
    "a = np.array([1+2j, 2+5j, 4+9j])\n",
    "\n",
    "img = a.imag\n",
    "print(img)"
   ]
  },
  {
   "cell_type": "markdown",
   "metadata": {
    "cell_id": "bd106c4ca36a43f8bb4d04ef80b830bf",
    "deepnote_cell_type": "text-cell-h3",
    "formattedRanges": [],
    "is_collapsed": false,
    "tags": []
   },
   "source": [
    "### 90. Convert the data type from int to float"
   ]
  },
  {
   "cell_type": "code",
   "execution_count": 7,
   "metadata": {
    "cell_id": "5a85af3bbf8049a48b874fc559b045a6",
    "deepnote_cell_height": 115,
    "deepnote_cell_type": "code",
    "execution_context_id": "fb6c4125-6b8b-426c-8e1c-f0584e4a426d",
    "execution_millis": 1,
    "execution_start": 1735360643931,
    "source_hash": "267e5e69",
    "tags": []
   },
   "outputs": [
    {
     "name": "stdout",
     "output_type": "stream",
     "text": [
      "[[1. 2. 3.]\n",
      " [4. 5. 6.]]\n",
      "float64\n"
     ]
    }
   ],
   "source": [
    "a = np.array([[1, 2, 3], [4, 5, 6]], np.int32)\n",
    "\n",
    "np_array = a.astype(float)\n",
    "print(np_array)\n",
    "print(np_array.dtype)"
   ]
  },
  {
   "cell_type": "markdown",
   "metadata": {
    "cell_id": "28778e9acf64465b8d95a9d80d3c33fb",
    "deepnote_cell_type": "text-cell-h3",
    "formattedRanges": [],
    "is_collapsed": false,
    "tags": []
   },
   "source": [
    "### 91. Create a copy of the NumPy array"
   ]
  },
  {
   "cell_type": "code",
   "execution_count": 8,
   "metadata": {
    "cell_id": "abe3c297d1fe47368056c9f5ddd20a19",
    "deepnote_cell_height": 115,
    "deepnote_cell_type": "code",
    "execution_context_id": "fb6c4125-6b8b-426c-8e1c-f0584e4a426d",
    "execution_millis": 2,
    "execution_start": 1735360669872,
    "source_hash": "a647b417",
    "tags": []
   },
   "outputs": [
    {
     "name": "stdout",
     "output_type": "stream",
     "text": [
      "[[1 2 3]\n",
      " [4 5 6]]\n"
     ]
    }
   ],
   "source": [
    "a = np.array([[1, 2, 3], [4, 5, 6]])\n",
    "\n",
    "np_array = a.copy()\n",
    "print(np_array)"
   ]
  },
  {
   "cell_type": "markdown",
   "metadata": {
    "cell_id": "afe1e6a5f1144abd9049898b32ef2edd",
    "deepnote_cell_type": "text-cell-h3",
    "formattedRanges": [],
    "is_collapsed": false,
    "tags": []
   },
   "source": [
    "### 92. Print the diagonal of the NumPy array"
   ]
  },
  {
   "cell_type": "code",
   "execution_count": 9,
   "metadata": {
    "cell_id": "f6695b35af6b4b5885ff40ab09b87ca3",
    "deepnote_cell_height": 115,
    "deepnote_cell_type": "code",
    "execution_context_id": "fb6c4125-6b8b-426c-8e1c-f0584e4a426d",
    "execution_millis": 1,
    "execution_start": 1735360729094,
    "source_hash": "9b22e60c",
    "tags": []
   },
   "outputs": [
    {
     "name": "stdout",
     "output_type": "stream",
     "text": [
      "[1 5]\n"
     ]
    }
   ],
   "source": [
    "a = np.array([[1, 2, 3], [4, 5, 6]])\n",
    "\n",
    "diag = a.diagonal()\n",
    "print(diag)"
   ]
  },
  {
   "cell_type": "markdown",
   "metadata": {
    "cell_id": "4762347cb7c647c394bbfdf15f3cf43e",
    "deepnote_cell_type": "text-cell-h3",
    "formattedRanges": [],
    "is_collapsed": false,
    "tags": []
   },
   "source": [
    "### 93. Change the value of third element in 2nd row to 10"
   ]
  },
  {
   "cell_type": "code",
   "execution_count": 10,
   "metadata": {
    "cell_id": "af582e3164284069bd0391f091173031",
    "deepnote_cell_height": 115,
    "deepnote_cell_type": "code",
    "execution_context_id": "fb6c4125-6b8b-426c-8e1c-f0584e4a426d",
    "execution_millis": 1,
    "execution_start": 1735360817424,
    "source_hash": "c29464b2",
    "tags": []
   },
   "outputs": [
    {
     "name": "stdout",
     "output_type": "stream",
     "text": [
      "[[ 1  2  3]\n",
      " [ 4  5 10]]\n"
     ]
    }
   ],
   "source": [
    "a = np.array([[1, 2, 3], [4, 5, 6]])\n",
    "\n",
    "a[1,2] = 10\n",
    "print(a)"
   ]
  },
  {
   "cell_type": "markdown",
   "metadata": {
    "cell_id": "e6a8166b463f435aaacb44d08c923001",
    "deepnote_cell_type": "text-cell-h3",
    "formattedRanges": [],
    "is_collapsed": false,
    "tags": []
   },
   "source": [
    "### 94. Create a numpy array of ones with the same shape as the array 'a'. "
   ]
  },
  {
   "cell_type": "code",
   "execution_count": 11,
   "metadata": {
    "cell_id": "d3ff11a345d44d758152149dd6fc9146",
    "deepnote_cell_height": 115,
    "deepnote_cell_type": "code",
    "execution_context_id": "fb6c4125-6b8b-426c-8e1c-f0584e4a426d",
    "execution_millis": 1,
    "execution_start": 1735360860951,
    "source_hash": "88a7168e",
    "tags": []
   },
   "outputs": [
    {
     "name": "stdout",
     "output_type": "stream",
     "text": [
      "[[1 1 1]\n",
      " [1 1 1]]\n"
     ]
    }
   ],
   "source": [
    "a = np.array([[1, 2, 3], [4, 5, 6]])\n",
    "\n",
    "np_array = np.ones_like(a)\n",
    "print(np_array)"
   ]
  },
  {
   "cell_type": "markdown",
   "metadata": {
    "cell_id": "d3c7a2579ddd4b7eb5499237a3510dfb",
    "deepnote_cell_type": "text-cell-h3",
    "formattedRanges": [],
    "is_collapsed": false,
    "tags": []
   },
   "source": [
    "### 95. Create a numpy array of zeros with the same shape as the array 'a'. "
   ]
  },
  {
   "cell_type": "code",
   "execution_count": 12,
   "metadata": {
    "cell_id": "57fe3a0bd2f941b2add138506fdac25f",
    "deepnote_cell_height": 115,
    "deepnote_cell_type": "code",
    "execution_context_id": "fb6c4125-6b8b-426c-8e1c-f0584e4a426d",
    "execution_millis": 0,
    "execution_start": 1735360886102,
    "source_hash": "ef5ee74",
    "tags": []
   },
   "outputs": [
    {
     "name": "stdout",
     "output_type": "stream",
     "text": [
      "[[0 0 0]\n",
      " [0 0 0]]\n"
     ]
    }
   ],
   "source": [
    "a = np.array([[1, 2, 3], [4, 5, 6]])\n",
    "\n",
    "np_array = np.zeros_like(a)\n",
    "print(np_array)"
   ]
  },
  {
   "cell_type": "markdown",
   "metadata": {
    "cell_id": "003c6886557e43e89a34f3ac5460bcb3",
    "deepnote_cell_type": "text-cell-h3",
    "formattedRanges": [],
    "is_collapsed": false,
    "tags": []
   },
   "source": [
    "### 96. Print the sum of the diagonal elements."
   ]
  },
  {
   "cell_type": "markdown",
   "metadata": {
    "cell_id": "3aefca45bb9f42dcaa2885685ae33cb5",
    "deepnote_cell_type": "text-cell-p",
    "formattedRanges": [
     {
      "fromCodePoint": 48,
      "marks": {
       "bold": true
      },
      "toCodePoint": 53
     }
    ],
    "is_collapsed": false,
    "tags": []
   },
   "source": [
    "The sum of diagonal elements is also called its trace. "
   ]
  },
  {
   "cell_type": "code",
   "execution_count": 13,
   "metadata": {
    "cell_id": "c07019645c1143cdbb115f52120d54b1",
    "deepnote_cell_height": 115,
    "deepnote_cell_type": "code",
    "execution_context_id": "fb6c4125-6b8b-426c-8e1c-f0584e4a426d",
    "execution_millis": 1,
    "execution_start": 1735360909902,
    "source_hash": "f4746ee",
    "tags": []
   },
   "outputs": [
    {
     "name": "stdout",
     "output_type": "stream",
     "text": [
      "6\n"
     ]
    }
   ],
   "source": [
    "a = np.array([[1, 2, 3], [4, 5, 6]])\n",
    "\n",
    "trace = np.trace(a)\n",
    "print(trace)"
   ]
  },
  {
   "cell_type": "markdown",
   "metadata": {
    "cell_id": "cf8674867b9f441483e45bc8a4021b9c",
    "deepnote_cell_type": "text-cell-h3",
    "formattedRanges": [],
    "is_collapsed": false,
    "tags": []
   },
   "source": [
    "### 97. Check whether all the elements of the array are finite or not "
   ]
  },
  {
   "cell_type": "code",
   "execution_count": 14,
   "metadata": {
    "cell_id": "23fb654faa084d028b6cbc5cce230f61",
    "deepnote_cell_height": 115,
    "deepnote_cell_type": "code",
    "execution_context_id": "fb6c4125-6b8b-426c-8e1c-f0584e4a426d",
    "execution_millis": 1,
    "execution_start": 1735360995006,
    "source_hash": "6b9a383f",
    "tags": []
   },
   "outputs": [
    {
     "name": "stdout",
     "output_type": "stream",
     "text": [
      "True\n"
     ]
    }
   ],
   "source": [
    "a = np.array([[1, 2, 3], [4, 5, 6]])\n",
    "\n",
    "check_finite = np.all(np.isfinite(a))\n",
    "print(check_finite)"
   ]
  },
  {
   "cell_type": "markdown",
   "metadata": {
    "cell_id": "289402394ff64c8baa44b34e0ad88f91",
    "deepnote_cell_type": "text-cell-h3",
    "formattedRanges": [],
    "is_collapsed": false,
    "tags": []
   },
   "source": [
    "### 98. Check whether all the elements of the array are finite or not "
   ]
  },
  {
   "cell_type": "code",
   "execution_count": 15,
   "metadata": {
    "allow_embed": "code",
    "cell_id": "6163244f822841a8af7145fc55aaeef1",
    "deepnote_cell_height": 115,
    "deepnote_cell_type": "code",
    "execution_context_id": "fb6c4125-6b8b-426c-8e1c-f0584e4a426d",
    "execution_millis": 1,
    "execution_start": 1735361032544,
    "source_hash": "1f970fdf",
    "tags": []
   },
   "outputs": [
    {
     "name": "stdout",
     "output_type": "stream",
     "text": [
      "False\n"
     ]
    }
   ],
   "source": [
    "a = np.array([[1, 2, 3], [4, 5, np.nan]])\n",
    "\n",
    "check_finite = np.all(np.isfinite(a))\n",
    "print(check_finite)"
   ]
  },
  {
   "cell_type": "markdown",
   "metadata": {
    "cell_id": "3a435a5bcea54252b41f93ec6960df59",
    "deepnote_cell_type": "text-cell-h3",
    "formattedRanges": [],
    "is_collapsed": false,
    "tags": []
   },
   "source": [
    "### 99. Check whether the two numpy arrays are equal or not. "
   ]
  },
  {
   "cell_type": "code",
   "execution_count": 16,
   "metadata": {
    "cell_id": "9267e735a6244ef08461f87616cb1e7b",
    "deepnote_cell_height": 133,
    "deepnote_cell_type": "code",
    "execution_context_id": "fb6c4125-6b8b-426c-8e1c-f0584e4a426d",
    "execution_millis": 0,
    "execution_start": 1735361053461,
    "source_hash": "573451d5",
    "tags": []
   },
   "outputs": [
    {
     "name": "stdout",
     "output_type": "stream",
     "text": [
      "True\n"
     ]
    }
   ],
   "source": [
    "a = np.array([[1, 2, 3], [4, 5, 6]])\n",
    "b = np.array([[1, 2, 3], [4, 5, 6]])\n",
    "\n",
    "check_equal= np.array_equal(a,b)\n",
    "print(check_equal)"
   ]
  },
  {
   "cell_type": "markdown",
   "metadata": {
    "cell_id": "385f8020e80446069e64536680015542",
    "deepnote_cell_type": "text-cell-h3",
    "formattedRanges": [],
    "is_collapsed": false,
    "tags": []
   },
   "source": [
    "### 100. Check whether the two numpy arrays are equal or not. "
   ]
  },
  {
   "cell_type": "code",
   "execution_count": 17,
   "metadata": {
    "cell_id": "8e1416dbe73c49e3ab9fd50ddee8e49f",
    "deepnote_cell_height": 133,
    "deepnote_cell_type": "code",
    "execution_context_id": "fb6c4125-6b8b-426c-8e1c-f0584e4a426d",
    "execution_millis": 21,
    "execution_start": 1735361070788,
    "source_hash": "86f5c9df",
    "tags": []
   },
   "outputs": [
    {
     "name": "stdout",
     "output_type": "stream",
     "text": [
      "True\n"
     ]
    }
   ],
   "source": [
    "a = np.array([[1, 2, 3], [4, 5, 6]])\n",
    "b = np.array([[1, 2, 3], [4, 5, 6]], np.float32)\n",
    "\n",
    "check_equal= np.array_equal(a,b)\n",
    "print(check_equal)"
   ]
  },
  {
   "cell_type": "markdown",
   "metadata": {
    "cell_id": "fcd93808f78c4b40a020f7ba5420fd3d",
    "deepnote_cell_type": "text-cell-h3",
    "formattedRanges": [],
    "is_collapsed": false,
    "tags": []
   },
   "source": [
    "### 101. Sum of array elements"
   ]
  },
  {
   "cell_type": "code",
   "execution_count": 18,
   "metadata": {
    "cell_id": "074fbf62dcaa4664a1f56cfb445ce443",
    "deepnote_cell_height": 115,
    "deepnote_cell_type": "code",
    "execution_context_id": "fb6c4125-6b8b-426c-8e1c-f0584e4a426d",
    "execution_millis": 5,
    "execution_start": 1735361182923,
    "source_hash": "840c1c9a",
    "tags": []
   },
   "outputs": [
    {
     "name": "stdout",
     "output_type": "stream",
     "text": [
      "nan\n"
     ]
    }
   ],
   "source": [
    "a = np.array([[1, 2, 3], [4, 5, np.nan]])\n",
    "\n",
    "array_sum = np.sum(a)\n",
    "print(array_sum)"
   ]
  },
  {
   "cell_type": "markdown",
   "metadata": {
    "cell_id": "a801a4c7f06c46f58f8261f5cdbc7b96",
    "deepnote_cell_type": "text-cell-h3",
    "formattedRanges": [],
    "is_collapsed": false,
    "tags": []
   },
   "source": [
    "### 102. Find the sum ignoring the nan elements"
   ]
  },
  {
   "cell_type": "code",
   "execution_count": 19,
   "metadata": {
    "allow_embed": "code",
    "cell_id": "ef026191f14f4f71afc3dccc4e906107",
    "deepnote_cell_height": 115,
    "deepnote_cell_type": "code",
    "execution_context_id": "fb6c4125-6b8b-426c-8e1c-f0584e4a426d",
    "execution_millis": 20,
    "execution_start": 1735361192587,
    "source_hash": "3f29df04",
    "tags": []
   },
   "outputs": [
    {
     "name": "stdout",
     "output_type": "stream",
     "text": [
      "15.0\n"
     ]
    }
   ],
   "source": [
    "a = np.array([[1, 2, 3], [4, 5, np.nan]])\n",
    "\n",
    "array_sum = np.nansum(a)\n",
    "print(array_sum)"
   ]
  },
  {
   "cell_type": "markdown",
   "metadata": {
    "cell_id": "bda0a41e0e6e43b8b16f00203a891ad6",
    "deepnote_cell_type": "text-cell-h3",
    "formattedRanges": [],
    "is_collapsed": false,
    "tags": []
   },
   "source": [
    "### 103. Find the product ignoring the nan elements"
   ]
  },
  {
   "cell_type": "code",
   "execution_count": 20,
   "metadata": {
    "cell_id": "8a45235dd88c43b7a6ab5288e8ab9ca9",
    "deepnote_cell_height": 115,
    "deepnote_cell_type": "code",
    "execution_context_id": "fb6c4125-6b8b-426c-8e1c-f0584e4a426d",
    "execution_millis": 19,
    "execution_start": 1735361209498,
    "source_hash": "b6138c67",
    "tags": []
   },
   "outputs": [
    {
     "name": "stdout",
     "output_type": "stream",
     "text": [
      "120.0\n"
     ]
    }
   ],
   "source": [
    "a = np.array([[1, 2, 3], [4, 5, np.nan]])\n",
    "\n",
    "array_prod = np.nanprod(a)\n",
    "print(array_prod)"
   ]
  },
  {
   "cell_type": "markdown",
   "metadata": {
    "cell_id": "57a9041b5a254369be7a34cecd6f71c5",
    "deepnote_cell_type": "text-cell-h3",
    "formattedRanges": [],
    "is_collapsed": false,
    "tags": []
   },
   "source": [
    "### 104. Find the element-wise absolute value"
   ]
  },
  {
   "cell_type": "code",
   "execution_count": 21,
   "metadata": {
    "cell_id": "5cdf4e9d771e42ecb372dd14c9077937",
    "deepnote_cell_height": 115,
    "deepnote_cell_type": "code",
    "execution_context_id": "fb6c4125-6b8b-426c-8e1c-f0584e4a426d",
    "execution_millis": 17,
    "execution_start": 1735361227517,
    "source_hash": "43456aef",
    "tags": []
   },
   "outputs": [
    {
     "name": "stdout",
     "output_type": "stream",
     "text": [
      "[[1 2 3]\n",
      " [4 5 6]]\n"
     ]
    }
   ],
   "source": [
    "a = np.array([[1, -2, 3], [4, -5, 6]])\n",
    "\n",
    "np_array = np.abs(a)\n",
    "print(np_array)"
   ]
  },
  {
   "cell_type": "markdown",
   "metadata": {
    "cell_id": "97de1017e35a4c25b09c36dfb1339e08",
    "deepnote_cell_type": "text-cell-h3",
    "formattedRanges": [],
    "is_collapsed": false,
    "tags": []
   },
   "source": [
    "### 105. Count the number of non-zero elements"
   ]
  },
  {
   "cell_type": "code",
   "execution_count": 22,
   "metadata": {
    "cell_id": "8a7a33df17f94be0992d1c7bdbb52030",
    "deepnote_cell_height": 115,
    "deepnote_cell_type": "code",
    "execution_context_id": "fb6c4125-6b8b-426c-8e1c-f0584e4a426d",
    "execution_millis": 1,
    "execution_start": 1735361242458,
    "source_hash": "b289587c",
    "tags": []
   },
   "outputs": [
    {
     "name": "stdout",
     "output_type": "stream",
     "text": [
      "5\n"
     ]
    }
   ],
   "source": [
    "a = np.array([[0, -2, 3], [4, -5, 6]])\n",
    "\n",
    "count_non_zero = np.count_nonzero(a)\n",
    "print(count_non_zero)"
   ]
  },
  {
   "cell_type": "markdown",
   "metadata": {
    "cell_id": "405b0dec6bad41e48b4361487a0494e6",
    "deepnote_cell_type": "text-cell-h3",
    "formattedRanges": [],
    "is_collapsed": false,
    "tags": []
   },
   "source": [
    "### 106. Count the number of non-zero elements row-wise"
   ]
  },
  {
   "cell_type": "code",
   "execution_count": 23,
   "metadata": {
    "cell_id": "7179b2a664e242b78435c15c9c155433",
    "deepnote_cell_height": 115,
    "deepnote_cell_type": "code",
    "execution_context_id": "fb6c4125-6b8b-426c-8e1c-f0584e4a426d",
    "execution_millis": 1,
    "execution_start": 1735361263982,
    "source_hash": "6ee8730a",
    "tags": []
   },
   "outputs": [
    {
     "name": "stdout",
     "output_type": "stream",
     "text": [
      "[1 2 2]\n"
     ]
    }
   ],
   "source": [
    "a = np.array([[0, -2, 3], [4, -5, 6]])\n",
    "\n",
    "count_non_zero = np.count_nonzero(a, axis=0)\n",
    "print(count_non_zero)"
   ]
  },
  {
   "cell_type": "markdown",
   "metadata": {
    "cell_id": "90e0f5bc081d484986426c43b83e53fe",
    "deepnote_cell_type": "text-cell-h3",
    "formattedRanges": [],
    "is_collapsed": false,
    "tags": []
   },
   "source": [
    "### 106. Count the number of non-zero elements column-wise"
   ]
  },
  {
   "cell_type": "code",
   "execution_count": 24,
   "metadata": {
    "cell_id": "3da90cc2fba34b25811d6a4865e16059",
    "deepnote_cell_height": 115,
    "deepnote_cell_type": "code",
    "execution_context_id": "fb6c4125-6b8b-426c-8e1c-f0584e4a426d",
    "execution_millis": 7,
    "execution_start": 1735361331710,
    "source_hash": "e986ecd9",
    "tags": []
   },
   "outputs": [
    {
     "name": "stdout",
     "output_type": "stream",
     "text": [
      "[2 3]\n"
     ]
    }
   ],
   "source": [
    "a = np.array([[0, -2, 3], [4, -5, 6]])\n",
    "\n",
    "count_non_zero = np.count_nonzero(a, axis=1)\n",
    "print(count_non_zero)"
   ]
  },
  {
   "cell_type": "markdown",
   "metadata": {
    "cell_id": "11c7481bf5f74d069b20da47a9682e73",
    "deepnote_cell_type": "text-cell-h3",
    "formattedRanges": [],
    "is_collapsed": false,
    "tags": []
   },
   "source": [
    "### 107. Find the mean ignoring the nan elements"
   ]
  },
  {
   "cell_type": "code",
   "execution_count": 25,
   "metadata": {
    "cell_id": "6c1c84a71af841df9f2f052934f46b51",
    "deepnote_cell_height": 115,
    "deepnote_cell_type": "code",
    "execution_context_id": "fb6c4125-6b8b-426c-8e1c-f0584e4a426d",
    "execution_millis": 1,
    "execution_start": 1735361395098,
    "source_hash": "9c275c3",
    "tags": []
   },
   "outputs": [
    {
     "name": "stdout",
     "output_type": "stream",
     "text": [
      "3.0\n"
     ]
    }
   ],
   "source": [
    "a = np.array([[1, 2, 3], [4, 5, np.nan]])\n",
    "\n",
    "array_mean = np.nanmean(a)\n",
    "print(array_mean)"
   ]
  },
  {
   "cell_type": "markdown",
   "metadata": {
    "cell_id": "f6a9d5ae7a2740958ba633a290f7361d",
    "deepnote_cell_type": "text-cell-h3",
    "formattedRanges": [],
    "is_collapsed": false,
    "tags": []
   },
   "source": [
    "### 108. Find the std dev ignoring the nan elements"
   ]
  },
  {
   "cell_type": "code",
   "execution_count": 26,
   "metadata": {
    "cell_id": "0e9ed4aa020042aab0f8e2dad45dbb3b",
    "deepnote_cell_height": 115,
    "deepnote_cell_type": "code",
    "execution_context_id": "fb6c4125-6b8b-426c-8e1c-f0584e4a426d",
    "execution_millis": 15,
    "execution_start": 1735361417357,
    "source_hash": "727f6a6c",
    "tags": []
   },
   "outputs": [
    {
     "name": "stdout",
     "output_type": "stream",
     "text": [
      "1.4142135623730951\n"
     ]
    }
   ],
   "source": [
    "a = np.array([[1, 2, 3], [4, 5, np.nan]])\n",
    "\n",
    "array_std = np.nanstd(a)\n",
    "print(array_std)"
   ]
  },
  {
   "cell_type": "markdown",
   "metadata": {
    "cell_id": "d2f8955d9eb8414b9c1ec1b388197ed1",
    "deepnote_cell_type": "text-cell-h3",
    "formattedRanges": [],
    "is_collapsed": false,
    "tags": []
   },
   "source": [
    "### 109. Find the median ignoring the nan elements"
   ]
  },
  {
   "cell_type": "code",
   "execution_count": 27,
   "metadata": {
    "cell_id": "3ca35348f64a400aa4d8a591f79f8dae",
    "deepnote_cell_height": 115,
    "deepnote_cell_type": "code",
    "execution_context_id": "fb6c4125-6b8b-426c-8e1c-f0584e4a426d",
    "execution_millis": 0,
    "execution_start": 1735361430575,
    "source_hash": "6fe73fd6",
    "tags": []
   },
   "outputs": [
    {
     "name": "stdout",
     "output_type": "stream",
     "text": [
      "3.0\n"
     ]
    }
   ],
   "source": [
    "a = np.array([[1, 2, 3], [4, 5, np.nan]])\n",
    "\n",
    "array_median = np.nanmedian(a)\n",
    "print(array_median)"
   ]
  },
  {
   "cell_type": "markdown",
   "metadata": {
    "cell_id": "bc2c2edb4bff43dd9918718b4fd65fc2",
    "deepnote_cell_type": "text-cell-h3",
    "formattedRanges": [],
    "is_collapsed": false,
    "tags": []
   },
   "source": [
    "### 110. Clip the array elements to a range"
   ]
  },
  {
   "cell_type": "code",
   "execution_count": 28,
   "metadata": {
    "cell_id": "708de97987b54c10a29e33a910261f21",
    "deepnote_cell_height": 133,
    "deepnote_cell_type": "code",
    "execution_context_id": "fb6c4125-6b8b-426c-8e1c-f0584e4a426d",
    "execution_millis": 1,
    "execution_start": 1735361460386,
    "source_hash": "9d64b14b",
    "tags": []
   },
   "outputs": [
    {
     "name": "stdout",
     "output_type": "stream",
     "text": [
      "[[2 2 3]\n",
      " [4 5 5]]\n"
     ]
    }
   ],
   "source": [
    "a = np.array([[1, 2, 3], [4, 5, 6]])\n",
    "\n",
    "min_range, max_range = (2, 5)\n",
    "np_array = np.clip(a, min_range, max_range)\n",
    "print(np_array)"
   ]
  }
 ],
 "metadata": {
  "deepnote_notebook_id": "79743b179a32461398c33ebe97e04f40",
  "kernelspec": {
   "display_name": "base",
   "language": "python",
   "name": "python3"
  },
  "language_info": {
   "codemirror_mode": {
    "name": "ipython",
    "version": 3
   },
   "file_extension": ".py",
   "mimetype": "text/x-python",
   "name": "python",
   "nbconvert_exporter": "python",
   "pygments_lexer": "ipython3",
   "version": "3.12.7"
  }
 },
 "nbformat": 4,
 "nbformat_minor": 0
}

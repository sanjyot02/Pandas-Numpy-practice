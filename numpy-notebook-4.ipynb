{
 "cells": [
  {
   "cell_type": "markdown",
   "metadata": {},
   "source": [
    "# NumPy Notebook 4"
   ]
  },
  {
   "cell_type": "code",
   "execution_count": 88,
   "metadata": {},
   "outputs": [],
   "source": [
    "import numpy as np"
   ]
  },
  {
   "cell_type": "markdown",
   "metadata": {},
   "source": [
    "### 111. Generate 10 random numbers from a uniform distribution between 0 and 1."
   ]
  },
  {
   "cell_type": "code",
   "execution_count": 89,
   "metadata": {},
   "outputs": [
    {
     "data": {
      "text/plain": [
       "array([0.68384312, 0.20587172, 0.6164337 , 0.92447161, 0.07962825,\n",
       "       0.48539683, 0.69856363, 0.08156848, 0.86910236, 0.43310568])"
      ]
     },
     "execution_count": 89,
     "metadata": {},
     "output_type": "execute_result"
    }
   ],
   "source": [
    "np.random.rand(10)"
   ]
  },
  {
   "cell_type": "markdown",
   "metadata": {},
   "source": [
    "### 112. Create an array of 5 random integers between 50 and 100."
   ]
  },
  {
   "cell_type": "code",
   "execution_count": 90,
   "metadata": {},
   "outputs": [
    {
     "data": {
      "text/plain": [
       "array([66, 98, 96, 74, 65])"
      ]
     },
     "execution_count": 90,
     "metadata": {},
     "output_type": "execute_result"
    }
   ],
   "source": [
    "np.random.randint(50, 101, size=5)"
   ]
  },
  {
   "cell_type": "markdown",
   "metadata": {},
   "source": [
    "### 113. Generate 15 random numbers from a standard normal distribution (mean=0, std=1)."
   ]
  },
  {
   "cell_type": "code",
   "execution_count": 91,
   "metadata": {},
   "outputs": [
    {
     "data": {
      "text/plain": [
       "array([-0.4981647 ,  2.0763131 , -1.92853502,  1.64785998, -1.00448234,\n",
       "       -0.90135582,  0.893222  ,  0.51187765, -0.8690435 ,  2.39840183,\n",
       "       -1.00139033,  1.60247324,  1.498786  ,  0.52521122,  0.83108041])"
      ]
     },
     "execution_count": 91,
     "metadata": {},
     "output_type": "execute_result"
    }
   ],
   "source": [
    "np.random.randn(15)"
   ]
  },
  {
   "cell_type": "markdown",
   "metadata": {},
   "source": [
    "### 114. Create a 4x4 matrix with random values between -1 and 1."
   ]
  },
  {
   "cell_type": "code",
   "execution_count": 92,
   "metadata": {},
   "outputs": [
    {
     "data": {
      "text/plain": [
       "array([[-0.3920718 , -0.01399453,  0.95872068, -0.35298346],\n",
       "       [-0.62086565, -0.38954178, -0.31177615,  0.35906058],\n",
       "       [-0.89237001,  0.61320752,  0.20590038,  0.31042637],\n",
       "       [ 0.49531958,  0.07125235, -0.78168704, -0.00760743]])"
      ]
     },
     "execution_count": 92,
     "metadata": {},
     "output_type": "execute_result"
    }
   ],
   "source": [
    "np.random.uniform(-1, 1, size=(4,4))"
   ]
  },
  {
   "cell_type": "markdown",
   "metadata": {},
   "source": [
    "### 115. Generate a random float between 0 and 10."
   ]
  },
  {
   "cell_type": "code",
   "execution_count": 93,
   "metadata": {},
   "outputs": [
    {
     "data": {
      "text/plain": [
       "1.7234262762093788"
      ]
     },
     "execution_count": 93,
     "metadata": {},
     "output_type": "execute_result"
    }
   ],
   "source": [
    "np.random.uniform(0, 10)"
   ]
  },
  {
   "cell_type": "markdown",
   "metadata": {},
   "source": [
    "### 116. Generate 20 random numbers from a normal distribution (mean=5, std=2)."
   ]
  },
  {
   "cell_type": "code",
   "execution_count": 94,
   "metadata": {},
   "outputs": [
    {
     "data": {
      "text/plain": [
       "array([5.04473549, 5.63580659, 8.92223689, 2.026502  , 7.01428212,\n",
       "       7.6688689 , 4.92922832, 3.88620774, 4.86950588, 3.49738417,\n",
       "       1.69188702, 2.0425492 , 2.64407903, 5.24532979, 7.71871383,\n",
       "       2.99068633, 5.28254303, 4.34293873, 7.8587662 , 0.28039953])"
      ]
     },
     "execution_count": 94,
     "metadata": {},
     "output_type": "execute_result"
    }
   ],
   "source": [
    "np.random.normal(5, 2, size=20)"
   ]
  },
  {
   "cell_type": "markdown",
   "metadata": {},
   "source": [
    "### 117. Create an array of 12 random integers from a Poisson distribution (mean=4)."
   ]
  },
  {
   "cell_type": "code",
   "execution_count": 95,
   "metadata": {},
   "outputs": [
    {
     "data": {
      "text/plain": [
       "array([3, 8, 3, 6, 5, 8, 7, 3, 3, 4, 5, 2])"
      ]
     },
     "execution_count": 95,
     "metadata": {},
     "output_type": "execute_result"
    }
   ],
   "source": [
    "np.random.poisson(4, size=12)"
   ]
  },
  {
   "cell_type": "markdown",
   "metadata": {},
   "source": [
    "### 118. Generate a 3x3 array of random numbers from an exponential distribution (scale=2)."
   ]
  },
  {
   "cell_type": "code",
   "execution_count": 96,
   "metadata": {},
   "outputs": [
    {
     "data": {
      "text/plain": [
       "array([[1.80993813e-03, 4.40003184e+00, 8.29205877e-01],\n",
       "       [1.99293212e+00, 8.03065344e-01, 4.39626527e+00],\n",
       "       [2.61365360e+00, 1.98140183e-01, 2.45312684e+00]])"
      ]
     },
     "execution_count": 96,
     "metadata": {},
     "output_type": "execute_result"
    }
   ],
   "source": [
    "np.random.exponential(scale=2, size=(3,3))"
   ]
  },
  {
   "cell_type": "markdown",
   "metadata": {},
   "source": [
    "### 119. Create 100 random numbers from a binomial distribution (n=10, p=0.3)."
   ]
  },
  {
   "cell_type": "code",
   "execution_count": 97,
   "metadata": {},
   "outputs": [
    {
     "data": {
      "text/plain": [
       "array([5, 3, 6, 3, 1, 3, 3, 3, 4, 2, 5, 3, 3, 3, 1, 3, 3, 2, 5, 3, 2, 3,\n",
       "       3, 4, 4, 3, 3, 4, 4, 3, 4, 2, 3, 3, 1, 4, 4, 3, 3, 1, 3, 3, 3, 4,\n",
       "       1, 6, 1, 1, 3, 3, 2, 3, 5, 4, 1, 2, 3, 3, 3, 2, 3, 3, 1, 1, 1, 3,\n",
       "       3, 1, 2, 4, 4, 1, 4, 2, 6, 2, 2, 3, 3, 1, 3, 4, 3, 3, 4, 3, 3, 4,\n",
       "       4, 2, 4, 3, 5, 2, 2, 3, 5, 1, 4, 4])"
      ]
     },
     "execution_count": 97,
     "metadata": {},
     "output_type": "execute_result"
    }
   ],
   "source": [
    "np.random.binomial(10, 0.3, size=100)"
   ]
  },
  {
   "cell_type": "markdown",
   "metadata": {},
   "source": [
    "### 120. Generate a random number from a geometric distribution (p=0.2)."
   ]
  },
  {
   "cell_type": "code",
   "execution_count": 98,
   "metadata": {},
   "outputs": [
    {
     "data": {
      "text/plain": [
       "10"
      ]
     },
     "execution_count": 98,
     "metadata": {},
     "output_type": "execute_result"
    }
   ],
   "source": [
    "np.random.geometric(0.2)"
   ]
  },
  {
   "cell_type": "markdown",
   "metadata": {},
   "source": [
    "### 121. Create a 1D array of integers from 1 to 10 and shuffle them randomly."
   ]
  },
  {
   "cell_type": "code",
   "execution_count": 99,
   "metadata": {},
   "outputs": [
    {
     "name": "stdout",
     "output_type": "stream",
     "text": [
      "[ 3  1  5  4  2  6  9 10  8  7]\n"
     ]
    }
   ],
   "source": [
    "array = np.arange(1, 11)\n",
    "np.random.shuffle(array)\n",
    "print(array)"
   ]
  },
  {
   "cell_type": "markdown",
   "metadata": {},
   "source": [
    "### 122. Choose 5 random elements from a list without replacement."
   ]
  },
  {
   "cell_type": "code",
   "execution_count": 100,
   "metadata": {},
   "outputs": [
    {
     "data": {
      "text/plain": [
       "array([40, 60, 90, 80, 30])"
      ]
     },
     "execution_count": 100,
     "metadata": {},
     "output_type": "execute_result"
    }
   ],
   "source": [
    "list1 = [10, 20, 30, 40, 50, 60, 70, 80, 90, 100]\n",
    "np.random.choice(list1, size=5, replace=False)"
   ]
  },
  {
   "cell_type": "markdown",
   "metadata": {},
   "source": [
    "### 123. Select 7 random integers between 1 and 100 with replacement."
   ]
  },
  {
   "cell_type": "code",
   "execution_count": 101,
   "metadata": {},
   "outputs": [
    {
     "data": {
      "text/plain": [
       "array([ 6, 94, 84, 73, 82,  3, 36])"
      ]
     },
     "execution_count": 101,
     "metadata": {},
     "output_type": "execute_result"
    }
   ],
   "source": [
    "r = np.arange(1, 101)\n",
    "np.random.choice(r, size=7, replace=True)"
   ]
  },
  {
   "cell_type": "markdown",
   "metadata": {},
   "source": [
    "### 124. Shuffle the rows of a 3x3 matrix randomly."
   ]
  },
  {
   "cell_type": "code",
   "execution_count": 102,
   "metadata": {},
   "outputs": [
    {
     "name": "stdout",
     "output_type": "stream",
     "text": [
      "[[1 2 3]\n",
      " [7 8 9]\n",
      " [4 5 6]]\n"
     ]
    }
   ],
   "source": [
    "matrix = np.arange(1, 10).reshape(3,3)\n",
    "np.random.shuffle(matrix)\n",
    "print(matrix)"
   ]
  },
  {
   "cell_type": "markdown",
   "metadata": {},
   "source": [
    "### 125. Choose 4 random elements from [1, 2, 3, 4, 5, 6, 7, 8] with specific probabilities."
   ]
  },
  {
   "cell_type": "code",
   "execution_count": 103,
   "metadata": {},
   "outputs": [
    {
     "data": {
      "text/plain": [
       "array([5, 7, 2, 3])"
      ]
     },
     "execution_count": 103,
     "metadata": {},
     "output_type": "execute_result"
    }
   ],
   "source": [
    "list1 = [1, 2, 3, 4, 5, 6, 7, 8]\n",
    "np.random.choice(list1, size=4, p=[0.1, 0.2, 0.1, 0.15, 0.1, 0.1, 0.1, 0.15])"
   ]
  },
  {
   "cell_type": "markdown",
   "metadata": {},
   "source": [
    "### 126. Set a random seed of 42 and generate a 5x5 matrix of random values."
   ]
  },
  {
   "cell_type": "code",
   "execution_count": 104,
   "metadata": {},
   "outputs": [
    {
     "name": "stdout",
     "output_type": "stream",
     "text": [
      "[[0.37454012 0.95071431 0.73199394 0.59865848 0.15601864]\n",
      " [0.15599452 0.05808361 0.86617615 0.60111501 0.70807258]\n",
      " [0.02058449 0.96990985 0.83244264 0.21233911 0.18182497]\n",
      " [0.18340451 0.30424224 0.52475643 0.43194502 0.29122914]\n",
      " [0.61185289 0.13949386 0.29214465 0.36636184 0.45606998]]\n",
      "\n",
      "[[0.37454012 0.95071431 0.73199394 0.59865848 0.15601864]\n",
      " [0.15599452 0.05808361 0.86617615 0.60111501 0.70807258]\n",
      " [0.02058449 0.96990985 0.83244264 0.21233911 0.18182497]\n",
      " [0.18340451 0.30424224 0.52475643 0.43194502 0.29122914]\n",
      " [0.61185289 0.13949386 0.29214465 0.36636184 0.45606998]]\n"
     ]
    }
   ],
   "source": [
    "np.random.seed(42)\n",
    "result1 = np.random.rand(5, 5)\n",
    "print(result1)\n",
    "print()\n",
    "\n",
    "# repeating to verify\n",
    "np.random.seed(42)\n",
    "result2 = np.random.rand(5, 5)\n",
    "print(result2)"
   ]
  },
  {
   "cell_type": "markdown",
   "metadata": {},
   "source": [
    "### 127. Set a random seed, generate 10 random numbers, and reset the seed to generate the same numbers again."
   ]
  },
  {
   "cell_type": "code",
   "execution_count": 105,
   "metadata": {},
   "outputs": [
    {
     "name": "stdout",
     "output_type": "stream",
     "text": [
      "[0.69646919 0.28613933 0.22685145 0.55131477 0.71946897 0.42310646\n",
      " 0.9807642  0.68482974 0.4809319  0.39211752]\n",
      "\n",
      "[0.69646919 0.28613933 0.22685145 0.55131477 0.71946897 0.42310646\n",
      " 0.9807642  0.68482974 0.4809319  0.39211752]\n"
     ]
    }
   ],
   "source": [
    "np.random.seed(123)\n",
    "result1 = np.random.rand(10)\n",
    "print(result1)\n",
    "print()\n",
    "\n",
    "# reset seed\n",
    "np.random.seed(123)\n",
    "result2 = np.random.rand(10)\n",
    "print(result2)\n"
   ]
  },
  {
   "cell_type": "markdown",
   "metadata": {},
   "source": [
    "### 128. Create a 5x5 matrix of random integers between 1 and 50 and replace values > 25 with -1."
   ]
  },
  {
   "cell_type": "code",
   "execution_count": 106,
   "metadata": {},
   "outputs": [
    {
     "name": "stdout",
     "output_type": "stream",
     "text": [
      "[[-1 -1 -1 -1 20]\n",
      " [15 -1 -1 17  5]\n",
      " [-1  4  3 21 -1]\n",
      " [ 3 21 -1 -1  8]\n",
      " [-1 -1 -1 -1 -1]]\n"
     ]
    }
   ],
   "source": [
    "matrix = np.random.randint(1, 51, size=(5,5))\n",
    "matrix[matrix > 25] = -1\n",
    "print(matrix)"
   ]
  },
  {
   "cell_type": "markdown",
   "metadata": {},
   "source": [
    "### 129. Generate a 1D array of 10 random integers (1 to 20) and find the index of the largest number."
   ]
  },
  {
   "cell_type": "code",
   "execution_count": 107,
   "metadata": {},
   "outputs": [
    {
     "name": "stdout",
     "output_type": "stream",
     "text": [
      "[ 3  2 13  9  4 11  6  1 12  3]\n",
      "Index of largest number: 2\n"
     ]
    }
   ],
   "source": [
    "array = np.random.randint(1, 21, size=10)\n",
    "index = np.argmax(array)\n",
    "print(array)\n",
    "print(\"Index of largest number:\", index)"
   ]
  },
  {
   "cell_type": "markdown",
   "metadata": {},
   "source": [
    "### 130. Generate a 1D array of 10 random integers (1 to 100). Sort the array in ascending order and retrieve the sorted indices. Then use these indices to display the sorted array."
   ]
  },
  {
   "cell_type": "code",
   "execution_count": 108,
   "metadata": {},
   "outputs": [
    {
     "name": "stdout",
     "output_type": "stream",
     "text": [
      "[59 11 23 78 19 16 28 31 53 71]\n",
      "Sorted indices: [1 5 4 2 6 7 8 0 9 3]\n",
      "Sorted array: [11 16 19 23 28 31 53 59 71 78]\n"
     ]
    }
   ],
   "source": [
    "array = np.random.randint(1, 101, size=10)\n",
    "sorted_indices = np.argsort(array)\n",
    "sorted_array = array[sorted_indices]\n",
    "print(array)\n",
    "print(\"Sorted indices:\", sorted_indices)\n",
    "print(\"Sorted array:\", sorted_array)"
   ]
  }
 ],
 "metadata": {
  "kernelspec": {
   "display_name": "base",
   "language": "python",
   "name": "python3"
  },
  "language_info": {
   "codemirror_mode": {
    "name": "ipython",
    "version": 3
   },
   "file_extension": ".py",
   "mimetype": "text/x-python",
   "name": "python",
   "nbconvert_exporter": "python",
   "pygments_lexer": "ipython3",
   "version": "3.12.7"
  }
 },
 "nbformat": 4,
 "nbformat_minor": 2
}

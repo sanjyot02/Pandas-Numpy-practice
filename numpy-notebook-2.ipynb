{
 "cells": [
  {
   "cell_type": "markdown",
   "metadata": {
    "cell_id": "3c5c5562eb7a4e4589da555a79311b03",
    "deepnote_cell_type": "text-cell-h1",
    "formattedRanges": [],
    "is_collapsed": false,
    "tags": []
   },
   "source": [
    "# NumPy Notebook 2"
   ]
  },
  {
   "cell_type": "markdown",
   "metadata": {
    "cell_id": "0e68ccfee1b84228b7eb0abb4f100764",
    "deepnote_cell_type": "text-cell-h2",
    "formattedRanges": [],
    "is_collapsed": false,
    "tags": []
   },
   "source": [
    "## Mathematical Operations on NumPy Arrays"
   ]
  },
  {
   "cell_type": "code",
   "execution_count": 53,
   "metadata": {
    "cell_id": "c1f300a963d745f38c9dd8ceec0b3697",
    "deepnote_cell_height": 79,
    "deepnote_cell_type": "code",
    "execution_context_id": "980d38d6-8d08-40c1-a257-5f46cf3030a3",
    "execution_millis": 1,
    "execution_start": 1735277827234,
    "source_hash": "b7dcc9c8",
    "tags": []
   },
   "outputs": [],
   "source": [
    "import numpy as np\n",
    "import pandas as pd"
   ]
  },
  {
   "cell_type": "markdown",
   "metadata": {
    "cell_id": "b91ef2bcdfee42a4b26e1882f3d8ea06",
    "deepnote_cell_type": "text-cell-h3",
    "formattedRanges": [],
    "is_collapsed": false,
    "tags": []
   },
   "source": [
    "### 36. Add two numpy arrays element-wise"
   ]
  },
  {
   "cell_type": "code",
   "execution_count": 54,
   "metadata": {
    "cell_id": "87e87d499e2a4e3d98ad7caa020b212d",
    "deepnote_cell_height": 133,
    "deepnote_cell_type": "code",
    "execution_context_id": "463ba3f9-9b15-4d2a-9aae-2f95db013dbd",
    "execution_millis": 1,
    "execution_start": 1735277827286,
    "source_hash": "31c52943",
    "tags": []
   },
   "outputs": [
    {
     "name": "stdout",
     "output_type": "stream",
     "text": [
      "[[2 3 6]\n",
      " [2 3 6]\n",
      " [3 4 8]]\n"
     ]
    }
   ],
   "source": [
    "a = np.array([[1, 1, 3], [1, 1, 3], [1, 1, 4]])\n",
    "b = np.array([[1, 2, 3], [1, 2, 3], [2, 3, 4]])\n",
    "\n",
    "np_array = np.add(a, b)\n",
    "print(np_array)"
   ]
  },
  {
   "cell_type": "markdown",
   "metadata": {
    "cell_id": "be1d041f2ca64570b1b0da78d0ad686a",
    "deepnote_cell_type": "text-cell-h3",
    "formattedRanges": [],
    "is_collapsed": false,
    "tags": []
   },
   "source": [
    "### 37. Multiply two numpy arrays element-wise"
   ]
  },
  {
   "cell_type": "code",
   "execution_count": 55,
   "metadata": {
    "cell_id": "50486162dd7441418c04afa45edab3ea",
    "deepnote_cell_height": 133,
    "deepnote_cell_type": "code",
    "execution_context_id": "463ba3f9-9b15-4d2a-9aae-2f95db013dbd",
    "execution_millis": 1,
    "execution_start": 1735277827342,
    "source_hash": "984c046f",
    "tags": []
   },
   "outputs": [
    {
     "name": "stdout",
     "output_type": "stream",
     "text": [
      "[[ 1  2  9]\n",
      " [ 1  2  9]\n",
      " [ 2  3 16]]\n"
     ]
    }
   ],
   "source": [
    "a = np.array([[1, 1, 3], [1, 1, 3], [1, 1, 4]])\n",
    "b = np.array([[1, 2, 3], [1, 2, 3], [2, 3, 4]])\n",
    "\n",
    "np_array = np.multiply(a, b)\n",
    "print(np_array)"
   ]
  },
  {
   "cell_type": "markdown",
   "metadata": {
    "cell_id": "cac9eca662e64a15aa5b9469b930fd22",
    "deepnote_cell_type": "text-cell-h3",
    "formattedRanges": [],
    "is_collapsed": false,
    "tags": []
   },
   "source": [
    "### 38. Subtract two numpy arrays element-wise"
   ]
  },
  {
   "cell_type": "code",
   "execution_count": 56,
   "metadata": {
    "cell_id": "80001a6f19b84cbc897c672cedea5268",
    "deepnote_cell_height": 133,
    "deepnote_cell_type": "code",
    "execution_context_id": "463ba3f9-9b15-4d2a-9aae-2f95db013dbd",
    "execution_millis": 1,
    "execution_start": 1735277827394,
    "source_hash": "d165d0f6",
    "tags": []
   },
   "outputs": [
    {
     "name": "stdout",
     "output_type": "stream",
     "text": [
      "[[ 0 -1  0]\n",
      " [ 0 -1  0]\n",
      " [-1 -2  0]]\n"
     ]
    }
   ],
   "source": [
    "a = np.array([[1, 1, 3], [1, 1, 3], [1, 1, 4]])\n",
    "b = np.array([[1, 2, 3], [1, 2, 3], [2, 3, 4]])\n",
    "\n",
    "np_array = np.subtract(a, b)\n",
    "print(np_array)"
   ]
  },
  {
   "cell_type": "markdown",
   "metadata": {
    "cell_id": "aca3e4962379404d89086122a49ddc60",
    "deepnote_cell_type": "text-cell-h3",
    "formattedRanges": [],
    "is_collapsed": false,
    "tags": []
   },
   "source": [
    "### 39. Divide two numpy arrays element-wise"
   ]
  },
  {
   "cell_type": "code",
   "execution_count": 57,
   "metadata": {
    "cell_id": "c32dd38bfb554cfdaa2f1ed79c8d47a4",
    "deepnote_cell_height": 133,
    "deepnote_cell_type": "code",
    "execution_context_id": "463ba3f9-9b15-4d2a-9aae-2f95db013dbd",
    "execution_millis": 1,
    "execution_start": 1735277827446,
    "source_hash": "659eb5e1",
    "tags": []
   },
   "outputs": [
    {
     "name": "stdout",
     "output_type": "stream",
     "text": [
      "[[1.         0.5        1.        ]\n",
      " [1.         0.5        1.        ]\n",
      " [0.5        0.33333333 1.        ]]\n"
     ]
    }
   ],
   "source": [
    "a = np.array([[1, 1, 3], [1, 1, 3], [1, 1, 4]])\n",
    "b = np.array([[1, 2, 3], [1, 2, 3], [2, 3, 4]])\n",
    "\n",
    "np_array = np.divide(a, b)\n",
    "print(np_array)"
   ]
  },
  {
   "cell_type": "markdown",
   "metadata": {
    "cell_id": "72f1876fbcdd47459b7a711b45bb40e1",
    "deepnote_cell_type": "text-cell-h3",
    "formattedRanges": [],
    "is_collapsed": false,
    "tags": []
   },
   "source": [
    "### 40-42. Trigonometric functions"
   ]
  },
  {
   "cell_type": "markdown",
   "metadata": {
    "cell_id": "20a8df91672843ed812e56457c4731cc",
    "deepnote_cell_type": "text-cell-h3",
    "formattedRanges": [],
    "is_collapsed": false,
    "tags": []
   },
   "source": [
    "sin(x)"
   ]
  },
  {
   "cell_type": "code",
   "execution_count": 58,
   "metadata": {
    "cell_id": "baf9490af1094bb1bb73ff423d592bb6",
    "deepnote_cell_height": 115,
    "deepnote_cell_type": "code",
    "execution_context_id": "463ba3f9-9b15-4d2a-9aae-2f95db013dbd",
    "execution_millis": 1,
    "execution_start": 1735277827498,
    "source_hash": "d3f1ab89",
    "tags": []
   },
   "outputs": [
    {
     "name": "stdout",
     "output_type": "stream",
     "text": [
      "[0.84147098 0.90929743 0.14112001]\n"
     ]
    }
   ],
   "source": [
    "a = np.array([1,2,3])\n",
    "\n",
    "np_array = np.sin(a)\n",
    "print(np_array)"
   ]
  },
  {
   "cell_type": "markdown",
   "metadata": {
    "cell_id": "32efe40b3fcd448dac0501224e649a48",
    "deepnote_cell_type": "text-cell-h3",
    "formattedRanges": [],
    "is_collapsed": false,
    "tags": []
   },
   "source": [
    "cos(x)"
   ]
  },
  {
   "cell_type": "code",
   "execution_count": 59,
   "metadata": {
    "cell_id": "236d2da26dc44596a7dbcb7bf760810f",
    "deepnote_cell_height": 115,
    "deepnote_cell_type": "code",
    "execution_context_id": "463ba3f9-9b15-4d2a-9aae-2f95db013dbd",
    "execution_millis": 1,
    "execution_start": 1735277827550,
    "source_hash": "a4abae9a",
    "tags": []
   },
   "outputs": [
    {
     "name": "stdout",
     "output_type": "stream",
     "text": [
      "[ 0.54030231 -0.41614684 -0.9899925 ]\n"
     ]
    }
   ],
   "source": [
    "a = np.array([1,2,3])\n",
    "\n",
    "np_array = np.cos(a)\n",
    "print(np_array)"
   ]
  },
  {
   "cell_type": "markdown",
   "metadata": {
    "cell_id": "49942968f4c14f2eb75656d6d331d692",
    "deepnote_cell_type": "text-cell-h3",
    "formattedRanges": [],
    "is_collapsed": false,
    "tags": []
   },
   "source": [
    "tan(x)"
   ]
  },
  {
   "cell_type": "code",
   "execution_count": 60,
   "metadata": {
    "cell_id": "fa68f07f963f4b1081012621be8267d9",
    "deepnote_cell_height": 115,
    "deepnote_cell_type": "code",
    "execution_context_id": "463ba3f9-9b15-4d2a-9aae-2f95db013dbd",
    "execution_millis": 1,
    "execution_start": 1735277827602,
    "source_hash": "9baf87bb",
    "tags": []
   },
   "outputs": [
    {
     "name": "stdout",
     "output_type": "stream",
     "text": [
      "[ 1.55740772 -2.18503986 -0.14254654]\n"
     ]
    }
   ],
   "source": [
    "a = np.array([1,2,3])\n",
    "\n",
    "np_array = np.tan(a)\n",
    "print(np_array)"
   ]
  },
  {
   "cell_type": "markdown",
   "metadata": {
    "cell_id": "d684f4f9993e4a8d8690e506937d986f",
    "deepnote_cell_type": "text-cell-h3",
    "formattedRanges": [],
    "is_collapsed": false,
    "tags": []
   },
   "source": [
    "### 43. Print the element-wise floor "
   ]
  },
  {
   "cell_type": "code",
   "execution_count": 61,
   "metadata": {
    "cell_id": "371bc64ac06948a1b692bad9e41bc5e6",
    "deepnote_cell_height": 115,
    "deepnote_cell_type": "code",
    "execution_context_id": "463ba3f9-9b15-4d2a-9aae-2f95db013dbd",
    "execution_millis": 1,
    "execution_start": 1735277827650,
    "source_hash": "36f4776",
    "tags": []
   },
   "outputs": [
    {
     "name": "stdout",
     "output_type": "stream",
     "text": [
      "[1. 1. 1. 1. 2.]\n"
     ]
    }
   ],
   "source": [
    "a = np.linspace(1, 2, 5)\n",
    "\n",
    "np_array = np.floor(a)\n",
    "print(np_array)"
   ]
  },
  {
   "cell_type": "markdown",
   "metadata": {
    "cell_id": "aec083f7e3c04828ae4766589bcad8c6",
    "deepnote_cell_type": "text-cell-h3",
    "formattedRanges": [],
    "is_collapsed": false,
    "tags": []
   },
   "source": [
    "### 44. Print the element-wise ceil"
   ]
  },
  {
   "cell_type": "code",
   "execution_count": 62,
   "metadata": {
    "cell_id": "06aba05e3c2f400fa5d4e1095a9c8cf7",
    "deepnote_cell_height": 115,
    "deepnote_cell_type": "code",
    "execution_context_id": "463ba3f9-9b15-4d2a-9aae-2f95db013dbd",
    "execution_millis": 1,
    "execution_start": 1735277827702,
    "source_hash": "d74f4908",
    "tags": []
   },
   "outputs": [
    {
     "name": "stdout",
     "output_type": "stream",
     "text": [
      "[1. 2. 2. 2. 2.]\n"
     ]
    }
   ],
   "source": [
    "a = np.linspace(1, 2, 5)\n",
    "\n",
    "np_array = np.ceil(a)\n",
    "print(np_array)"
   ]
  },
  {
   "cell_type": "markdown",
   "metadata": {
    "cell_id": "3d5db459b25d491d937f09d61fe4b68e",
    "deepnote_cell_type": "text-cell-h3",
    "formattedRanges": [],
    "is_collapsed": false,
    "tags": []
   },
   "source": [
    "### 45. Print the element-wise nearest integer"
   ]
  },
  {
   "cell_type": "code",
   "execution_count": 63,
   "metadata": {
    "cell_id": "3317b5e4aed84f8c99ad5a2c9180ea29",
    "deepnote_cell_height": 115,
    "deepnote_cell_type": "code",
    "execution_context_id": "463ba3f9-9b15-4d2a-9aae-2f95db013dbd",
    "execution_millis": 1,
    "execution_start": 1735277827750,
    "source_hash": "1ccf1a4e",
    "tags": []
   },
   "outputs": [
    {
     "name": "stdout",
     "output_type": "stream",
     "text": [
      "[1. 1. 2. 2. 2.]\n"
     ]
    }
   ],
   "source": [
    "a = np.linspace(1, 2, 5)\n",
    "\n",
    "np_array = np.round(a)\n",
    "print(np_array)"
   ]
  },
  {
   "cell_type": "markdown",
   "metadata": {
    "cell_id": "783a1a50a5404463bfb13033b334571c",
    "deepnote_cell_type": "text-cell-h3",
    "formattedRanges": [],
    "is_collapsed": false,
    "tags": []
   },
   "source": [
    "### 46. Round to given number of decimal places"
   ]
  },
  {
   "cell_type": "code",
   "execution_count": 64,
   "metadata": {
    "cell_id": "fe2885927cb04467a27a7231cbeaac76",
    "deepnote_cell_height": 133,
    "deepnote_cell_type": "code",
    "execution_context_id": "463ba3f9-9b15-4d2a-9aae-2f95db013dbd",
    "execution_millis": 1,
    "execution_start": 1735277827798,
    "source_hash": "76855f62",
    "tags": []
   },
   "outputs": [
    {
     "name": "stdout",
     "output_type": "stream",
     "text": [
      "[1.   1.17 1.33 1.5  1.67 1.83 2.  ]\n"
     ]
    }
   ],
   "source": [
    "a = np.linspace(1, 2, 7)\n",
    "decimal_places = 2\n",
    "\n",
    "np_array = np.round(a, decimal_places)\n",
    "print(np_array)"
   ]
  },
  {
   "cell_type": "markdown",
   "metadata": {
    "cell_id": "a0d11c541d5345bfbe905cef21fffc70",
    "deepnote_cell_type": "text-cell-h3",
    "formattedRanges": [],
    "is_collapsed": false,
    "tags": []
   },
   "source": [
    "### 47. Calculate the element-wise exponential"
   ]
  },
  {
   "cell_type": "code",
   "execution_count": 65,
   "metadata": {
    "cell_id": "dd4ff57ee0274dcb98bedfae983212c9",
    "deepnote_cell_height": 133,
    "deepnote_cell_type": "code",
    "execution_context_id": "463ba3f9-9b15-4d2a-9aae-2f95db013dbd",
    "execution_millis": 1,
    "execution_start": 1735277827850,
    "source_hash": "234ac22c",
    "tags": []
   },
   "outputs": [
    {
     "name": "stdout",
     "output_type": "stream",
     "text": [
      "[  2.71828183   7.3890561   20.08553692  54.59815003 148.4131591 ]\n"
     ]
    }
   ],
   "source": [
    "a = np.arange(1, 6)\n",
    "## array([1, 2, 3, 4, 5])\n",
    "\n",
    "np_array = np.exp(a)\n",
    "print(np_array)"
   ]
  },
  {
   "cell_type": "markdown",
   "metadata": {
    "cell_id": "0a32063595f24659a4d0729ac0e64113",
    "deepnote_cell_type": "text-cell-h3",
    "formattedRanges": [],
    "is_collapsed": false,
    "tags": []
   },
   "source": [
    "### 48. Calculate the element-wise exponential and round to two decimal places"
   ]
  },
  {
   "cell_type": "code",
   "execution_count": 66,
   "metadata": {
    "cell_id": "17cfbd5ffb264c09ae2dde4b2c35220c",
    "deepnote_cell_height": 133,
    "deepnote_cell_type": "code",
    "execution_context_id": "463ba3f9-9b15-4d2a-9aae-2f95db013dbd",
    "execution_millis": 1,
    "execution_start": 1735277827902,
    "source_hash": "25af755e",
    "tags": []
   },
   "outputs": [
    {
     "name": "stdout",
     "output_type": "stream",
     "text": [
      "[  2.72   7.39  20.09  54.6  148.41]\n"
     ]
    }
   ],
   "source": [
    "a = np.arange(1, 6)\n",
    "## array([1, 2, 3, 4, 5])\n",
    "\n",
    "np_array = np.round(np.exp(a), 2)\n",
    "print(np_array)"
   ]
  },
  {
   "cell_type": "markdown",
   "metadata": {
    "cell_id": "72a27e4025e24d07b821fece88488426",
    "deepnote_cell_type": "text-cell-h3",
    "formattedRanges": [],
    "is_collapsed": false,
    "tags": []
   },
   "source": [
    "### 49. Calculate the element-wise natural logarithm "
   ]
  },
  {
   "cell_type": "code",
   "execution_count": 67,
   "metadata": {
    "cell_id": "48cc199705e345d3806e24846a25c143",
    "deepnote_cell_height": 133,
    "deepnote_cell_type": "code",
    "execution_context_id": "463ba3f9-9b15-4d2a-9aae-2f95db013dbd",
    "execution_millis": 1,
    "execution_start": 1735277827950,
    "source_hash": "b4d3ac9b",
    "tags": []
   },
   "outputs": [
    {
     "name": "stdout",
     "output_type": "stream",
     "text": [
      "[0.         0.69314718 1.09861229 1.38629436 1.60943791]\n"
     ]
    }
   ],
   "source": [
    "a = np.arange(1, 6)\n",
    "## array([1, 2, 3, 4, 5])\n",
    "\n",
    "np_array = np.log(a)\n",
    "print(np_array)"
   ]
  },
  {
   "cell_type": "markdown",
   "metadata": {
    "cell_id": "59c6ef9aa2de4a3286e70692118eb438",
    "deepnote_cell_type": "text-cell-h3",
    "formattedRanges": [],
    "is_collapsed": false,
    "tags": []
   },
   "source": [
    "### 50. Calculate the element-wise natural logarithm and round to two decimal places"
   ]
  },
  {
   "cell_type": "code",
   "execution_count": 68,
   "metadata": {
    "cell_id": "05cb238d72394de2a5043e0fe82b4de3",
    "deepnote_cell_height": 133,
    "deepnote_cell_type": "code",
    "execution_context_id": "463ba3f9-9b15-4d2a-9aae-2f95db013dbd",
    "execution_millis": 1,
    "execution_start": 1735277828002,
    "source_hash": "c29f1c00",
    "tags": []
   },
   "outputs": [
    {
     "name": "stdout",
     "output_type": "stream",
     "text": [
      "[0.   0.69 1.1  1.39 1.61]\n"
     ]
    }
   ],
   "source": [
    "a = np.arange(1, 6)\n",
    "## array([1, 2, 3, 4, 5])\n",
    "\n",
    "np_array = np.round(np.log(a), 2)\n",
    "print(np_array)"
   ]
  },
  {
   "cell_type": "markdown",
   "metadata": {
    "cell_id": "9b4e653f0dd344e7af0d140da51575fd",
    "deepnote_cell_type": "text-cell-h3",
    "formattedRanges": [],
    "is_collapsed": false,
    "tags": []
   },
   "source": [
    "### 51. Calculate the element-wise logarithm at base 2"
   ]
  },
  {
   "cell_type": "code",
   "execution_count": 69,
   "metadata": {
    "cell_id": "b374d841306e483196dd41c883844b2f",
    "deepnote_cell_height": 151,
    "deepnote_cell_type": "code",
    "execution_context_id": "463ba3f9-9b15-4d2a-9aae-2f95db013dbd",
    "execution_millis": 0,
    "execution_start": 1735277828059,
    "source_hash": "d7b0d377",
    "tags": []
   },
   "outputs": [
    {
     "name": "stdout",
     "output_type": "stream",
     "text": [
      "[0.         1.         1.5849625  2.         2.32192809]\n"
     ]
    }
   ],
   "source": [
    "a = np.arange(1, 6)\n",
    "## array([1, 2, 3, 4, 5])\n",
    "\n",
    "\n",
    "np_array = np.log2(a)\n",
    "print(np_array)"
   ]
  },
  {
   "cell_type": "markdown",
   "metadata": {
    "cell_id": "4879c26bd11b4930a5137c8815bc64ce",
    "deepnote_cell_type": "text-cell-h3",
    "formattedRanges": [],
    "is_collapsed": false,
    "tags": []
   },
   "source": [
    "### 52. Calculate the element-wise logarithm at base 2 and take floor of the result"
   ]
  },
  {
   "cell_type": "code",
   "execution_count": 70,
   "metadata": {
    "cell_id": "bd45bb6a4f74407dba5e0c1c719e4a1c",
    "deepnote_cell_height": 133,
    "deepnote_cell_type": "code",
    "execution_context_id": "463ba3f9-9b15-4d2a-9aae-2f95db013dbd",
    "execution_millis": 1,
    "execution_start": 1735277828110,
    "source_hash": "bd822784",
    "tags": []
   },
   "outputs": [
    {
     "name": "stdout",
     "output_type": "stream",
     "text": [
      "[0. 1. 1. 2. 2.]\n"
     ]
    }
   ],
   "source": [
    "a = np.arange(1, 6)\n",
    "## array([1, 2, 3, 4, 5])\n",
    "\n",
    "np_array = np.floor(np.log2(a))\n",
    "print(np_array)"
   ]
  },
  {
   "cell_type": "markdown",
   "metadata": {
    "cell_id": "50c87a32643d49b699dbdad5758e7467",
    "deepnote_cell_type": "text-cell-h3",
    "formattedRanges": [],
    "is_collapsed": false,
    "tags": []
   },
   "source": [
    "### 53. Find the sum of numpy array elements"
   ]
  },
  {
   "cell_type": "code",
   "execution_count": 71,
   "metadata": {
    "cell_id": "20413d851eb8425c94e485a1697815b5",
    "deepnote_cell_height": 115,
    "deepnote_cell_type": "code",
    "execution_context_id": "463ba3f9-9b15-4d2a-9aae-2f95db013dbd",
    "execution_millis": 1,
    "execution_start": 1735277828166,
    "source_hash": "c33b9179",
    "tags": []
   },
   "outputs": [
    {
     "name": "stdout",
     "output_type": "stream",
     "text": [
      "10\n"
     ]
    }
   ],
   "source": [
    "a = np.array([[1, 2], [3, 4]])\n",
    "\n",
    "sum_of_array = np.sum(a)\n",
    "print(sum_of_array)"
   ]
  },
  {
   "cell_type": "markdown",
   "metadata": {
    "cell_id": "75c4fe8765e1400eb31918dfd8ad3845",
    "deepnote_cell_type": "text-cell-h3",
    "formattedRanges": [],
    "is_collapsed": false,
    "tags": []
   },
   "source": [
    "### 54. Find the row-wise sum of numpy array elements"
   ]
  },
  {
   "cell_type": "code",
   "execution_count": 72,
   "metadata": {
    "cell_id": "dae11a69ece24d3e9331ba8f3a9fc5e5",
    "deepnote_cell_height": 115,
    "deepnote_cell_type": "code",
    "execution_context_id": "463ba3f9-9b15-4d2a-9aae-2f95db013dbd",
    "execution_millis": 1,
    "execution_start": 1735277828222,
    "source_hash": "f556fc73",
    "tags": []
   },
   "outputs": [
    {
     "name": "stdout",
     "output_type": "stream",
     "text": [
      "[4 6]\n"
     ]
    }
   ],
   "source": [
    "a = np.array([[1, 2], [3, 4]])\n",
    "\n",
    "sum_of_array = np.sum(a, axis=0)\n",
    "print(sum_of_array)"
   ]
  },
  {
   "cell_type": "markdown",
   "metadata": {
    "cell_id": "99bf948dc5c1453bac383be1cf9885bc",
    "deepnote_cell_type": "text-cell-h3",
    "formattedRanges": [],
    "is_collapsed": false,
    "tags": []
   },
   "source": [
    "### 55. Find the column-wise sum of numpy array elements"
   ]
  },
  {
   "cell_type": "code",
   "execution_count": 73,
   "metadata": {
    "cell_id": "5745cef4ca604545b669e0dcbae9d5ed",
    "deepnote_cell_height": 115,
    "deepnote_cell_type": "code",
    "execution_context_id": "463ba3f9-9b15-4d2a-9aae-2f95db013dbd",
    "execution_millis": 1,
    "execution_start": 1735277828274,
    "source_hash": "a5f3a3ef",
    "tags": []
   },
   "outputs": [
    {
     "name": "stdout",
     "output_type": "stream",
     "text": [
      "[3 7]\n"
     ]
    }
   ],
   "source": [
    "a = np.array([[1, 2], [3, 4]])\n",
    "\n",
    "sum_of_array = np.sum(a, axis=1)\n",
    "print(sum_of_array)"
   ]
  },
  {
   "cell_type": "markdown",
   "metadata": {
    "cell_id": "48773d2292ab404bbf4e355e1313d9a6",
    "deepnote_cell_type": "text-cell-h3",
    "formattedRanges": [],
    "is_collapsed": false,
    "tags": []
   },
   "source": [
    "### 56. Calculate the product of array elements"
   ]
  },
  {
   "cell_type": "code",
   "execution_count": 74,
   "metadata": {
    "cell_id": "e29d413497a647509dd2f541f47e9102",
    "deepnote_cell_height": 115,
    "deepnote_cell_type": "code",
    "execution_context_id": "463ba3f9-9b15-4d2a-9aae-2f95db013dbd",
    "execution_millis": 1,
    "execution_start": 1735277828326,
    "source_hash": "c4c253ed",
    "tags": []
   },
   "outputs": [
    {
     "name": "stdout",
     "output_type": "stream",
     "text": [
      "24\n"
     ]
    }
   ],
   "source": [
    "a = np.array([[1, 2], [3, 4]])\n",
    "\n",
    "prod_of_array = np.prod(a)\n",
    "print(prod_of_array)"
   ]
  },
  {
   "cell_type": "markdown",
   "metadata": {
    "cell_id": "2626a299182b49c8a3989acc5460d686",
    "deepnote_cell_type": "text-cell-h3",
    "formattedRanges": [],
    "is_collapsed": false,
    "tags": []
   },
   "source": [
    "### 57. Find the row-wise product of numpy array elements"
   ]
  },
  {
   "cell_type": "code",
   "execution_count": 75,
   "metadata": {
    "cell_id": "bd447615bb5540209ffd2fdbc73e7c9e",
    "deepnote_cell_height": 115,
    "deepnote_cell_type": "code",
    "execution_context_id": "463ba3f9-9b15-4d2a-9aae-2f95db013dbd",
    "execution_millis": 1,
    "execution_start": 1735277828374,
    "source_hash": "34caa1c3",
    "tags": []
   },
   "outputs": [
    {
     "name": "stdout",
     "output_type": "stream",
     "text": [
      "[3 8]\n"
     ]
    }
   ],
   "source": [
    "a = np.array([[1, 2], [3, 4]])\n",
    "\n",
    "prod_of_array = np.prod(a, axis=0)\n",
    "print(prod_of_array)"
   ]
  },
  {
   "cell_type": "markdown",
   "metadata": {
    "cell_id": "28893756944e4cf79298300d2fa1ec78",
    "deepnote_cell_type": "text-cell-h3",
    "formattedRanges": [],
    "is_collapsed": false,
    "tags": []
   },
   "source": [
    "### 58. Find the column-wise product of numpy array element"
   ]
  },
  {
   "cell_type": "code",
   "execution_count": 76,
   "metadata": {
    "cell_id": "7170502f02414ff58fac141fd2e77844",
    "deepnote_cell_height": 115,
    "deepnote_cell_type": "code",
    "execution_context_id": "463ba3f9-9b15-4d2a-9aae-2f95db013dbd",
    "execution_millis": 1,
    "execution_start": 1735277828426,
    "source_hash": "8ddfbc5b",
    "tags": []
   },
   "outputs": [
    {
     "name": "stdout",
     "output_type": "stream",
     "text": [
      "[ 2 12]\n"
     ]
    }
   ],
   "source": [
    "a = np.array([[1, 2], [3, 4]])\n",
    "\n",
    "prod_of_array = np.prod(a, axis=1)\n",
    "print(prod_of_array)"
   ]
  },
  {
   "cell_type": "markdown",
   "metadata": {
    "cell_id": "63fe9a4ee60a48f8ba133f469022b050",
    "deepnote_cell_type": "text-cell-h3",
    "formattedRanges": [],
    "is_collapsed": false,
    "tags": []
   },
   "source": [
    "### 59. Compute the square root of array elements"
   ]
  },
  {
   "cell_type": "code",
   "execution_count": 77,
   "metadata": {
    "cell_id": "ac7f2e0594a04cc0b94a7840d7d05ee1",
    "deepnote_cell_height": 115,
    "deepnote_cell_type": "code",
    "execution_context_id": "463ba3f9-9b15-4d2a-9aae-2f95db013dbd",
    "execution_millis": 1,
    "execution_start": 1735277828475,
    "source_hash": "9cba6374",
    "tags": []
   },
   "outputs": [
    {
     "name": "stdout",
     "output_type": "stream",
     "text": [
      "[[1.         1.41421356]\n",
      " [1.73205081 2.        ]]\n"
     ]
    }
   ],
   "source": [
    "a = np.array([[1, 2], [3, 4]])\n",
    "\n",
    "np_array = np.sqrt(a)\n",
    "print(np_array)"
   ]
  },
  {
   "cell_type": "markdown",
   "metadata": {
    "cell_id": "5085bad857274077b158254223517fcc",
    "deepnote_cell_type": "text-cell-h2",
    "formattedRanges": [],
    "is_collapsed": false,
    "tags": []
   },
   "source": [
    "## Matrix and Vector Operations"
   ]
  },
  {
   "cell_type": "markdown",
   "metadata": {
    "cell_id": "6bd03356e9d34f0a9d8b8a11f241ca0d",
    "deepnote_cell_type": "text-cell-h3",
    "formattedRanges": [],
    "is_collapsed": false,
    "tags": []
   },
   "source": [
    "### 60. Compute the dot product of two NumPy arrays "
   ]
  },
  {
   "cell_type": "code",
   "execution_count": 78,
   "metadata": {
    "cell_id": "1addf2be58b14181809a3f275620864c",
    "deepnote_cell_height": 133,
    "deepnote_cell_type": "code",
    "execution_context_id": "463ba3f9-9b15-4d2a-9aae-2f95db013dbd",
    "execution_millis": 1,
    "execution_start": 1735277828534,
    "source_hash": "d492d478",
    "tags": []
   },
   "outputs": [
    {
     "name": "stdout",
     "output_type": "stream",
     "text": [
      "[[3 3]\n",
      " [7 7]]\n"
     ]
    }
   ],
   "source": [
    "a = np.array([[1, 2], [3, 4]])\n",
    "b = np.array([[1, 1], [1, 1]])\n",
    "\n",
    "np_array = np.dot(a, b)\n",
    "print(np_array)"
   ]
  },
  {
   "cell_type": "markdown",
   "metadata": {
    "cell_id": "925e7375c30a419ab1e863bd019cee51",
    "deepnote_cell_type": "text-cell-h3",
    "formattedRanges": [],
    "is_collapsed": false,
    "tags": []
   },
   "source": [
    "### 61. Compute the row-wise dot product of two NumPy arrays "
   ]
  },
  {
   "cell_type": "code",
   "execution_count": 79,
   "metadata": {
    "cell_id": "0270823031484bbda78e259cd8ae2f02",
    "deepnote_cell_height": 133,
    "deepnote_cell_type": "code",
    "execution_context_id": "463ba3f9-9b15-4d2a-9aae-2f95db013dbd",
    "execution_millis": 1,
    "execution_start": 1735277828586,
    "source_hash": "4474e61c",
    "tags": []
   },
   "outputs": [
    {
     "name": "stdout",
     "output_type": "stream",
     "text": [
      "[3 7]\n"
     ]
    }
   ],
   "source": [
    "a = np.array([[1, 2], [3, 4]])\n",
    "b = np.array([[1, 1], [1, 1]])\n",
    "\n",
    "np_array = np.einsum(\"ij,ij->i\", a, b)\n",
    "print(np_array)"
   ]
  },
  {
   "cell_type": "markdown",
   "metadata": {
    "cell_id": "25d22de402514b7ba6bdd430cec1c192",
    "deepnote_cell_type": "text-cell-h3",
    "formattedRanges": [],
    "is_collapsed": false,
    "tags": []
   },
   "source": [
    "### 62. Compute the matrix product of two NumPy arrays"
   ]
  },
  {
   "cell_type": "code",
   "execution_count": 80,
   "metadata": {
    "cell_id": "1f62a7f5e0f34d0da3f1aa15d53f5929",
    "deepnote_cell_height": 133,
    "deepnote_cell_type": "code",
    "execution_context_id": "463ba3f9-9b15-4d2a-9aae-2f95db013dbd",
    "execution_millis": 1,
    "execution_start": 1735277884442,
    "source_hash": "6623ed56",
    "tags": []
   },
   "outputs": [
    {
     "name": "stdout",
     "output_type": "stream",
     "text": [
      "[[3 3]\n",
      " [7 7]]\n"
     ]
    }
   ],
   "source": [
    "a = np.array([[1, 2], [3, 4]])\n",
    "b = np.array([[1, 1], [1, 1]])\n",
    "\n",
    "np_array = np.matmul(a, b)\n",
    "print(np_array)"
   ]
  },
  {
   "cell_type": "markdown",
   "metadata": {
    "cell_id": "ba6ff3f8d0484c248a04c5d37888d6b7",
    "deepnote_cell_type": "text-cell-h3",
    "formattedRanges": [],
    "is_collapsed": false,
    "tags": []
   },
   "source": [
    "### 63. Compute the matrix product of two NumPy arrays using the @ operator"
   ]
  },
  {
   "cell_type": "code",
   "execution_count": 81,
   "metadata": {
    "cell_id": "73df939751b944e399b826f8f1c1e46e",
    "deepnote_cell_height": 133,
    "deepnote_cell_type": "code",
    "execution_context_id": "463ba3f9-9b15-4d2a-9aae-2f95db013dbd",
    "execution_millis": 0,
    "execution_start": 1735278017472,
    "source_hash": "ddd51f16",
    "tags": []
   },
   "outputs": [
    {
     "name": "stdout",
     "output_type": "stream",
     "text": [
      "[[3 3]\n",
      " [7 7]]\n"
     ]
    }
   ],
   "source": [
    "a = np.array([[1, 2], [3, 4]])\n",
    "b = np.array([[1, 1], [1, 1]])\n",
    "\n",
    "np_array = a @ b\n",
    "print(np_array)"
   ]
  },
  {
   "cell_type": "markdown",
   "metadata": {
    "cell_id": "4eae931e36064a6c9addc5b84da97442",
    "deepnote_cell_type": "text-cell-h3",
    "formattedRanges": [],
    "is_collapsed": false,
    "tags": []
   },
   "source": [
    "### 64. Compute the length of the vector"
   ]
  },
  {
   "cell_type": "code",
   "execution_count": 82,
   "metadata": {
    "cell_id": "e65d0c91ddb448469a490909f8740e18",
    "deepnote_cell_height": 115,
    "deepnote_cell_type": "code",
    "execution_context_id": "463ba3f9-9b15-4d2a-9aae-2f95db013dbd",
    "execution_millis": 1,
    "execution_start": 1735278163038,
    "source_hash": "97d79ee8",
    "tags": []
   },
   "outputs": [
    {
     "name": "stdout",
     "output_type": "stream",
     "text": [
      "7.745966692414834\n"
     ]
    }
   ],
   "source": [
    "a = np.arange(-4, 5)\n",
    "\n",
    "vec_len = np.linalg.norm(a)\n",
    "print(vec_len)"
   ]
  },
  {
   "cell_type": "markdown",
   "metadata": {
    "cell_id": "11bf171262be49c496fe3261463ba538",
    "deepnote_cell_type": "text-cell-h3",
    "formattedRanges": [],
    "is_collapsed": false,
    "tags": []
   },
   "source": [
    "### 65. Sort the array inplace row-wise"
   ]
  },
  {
   "cell_type": "code",
   "execution_count": 83,
   "metadata": {
    "cell_id": "5eb3a214f61141408f50e1e5f5928a7c",
    "deepnote_cell_height": 115,
    "deepnote_cell_type": "code",
    "execution_context_id": "463ba3f9-9b15-4d2a-9aae-2f95db013dbd",
    "execution_millis": 1,
    "execution_start": 1735278182637,
    "source_hash": "11a7c31f",
    "tags": []
   },
   "outputs": [
    {
     "name": "stdout",
     "output_type": "stream",
     "text": [
      "[[1 1]\n",
      " [3 4]]\n"
     ]
    }
   ],
   "source": [
    "a = np.array([[1,4],[3,1]])\n",
    "\n",
    "np_array = np.sort(a, axis=0)\n",
    "print(np_array)"
   ]
  },
  {
   "cell_type": "markdown",
   "metadata": {
    "cell_id": "7f9ad7a7f7964d728d827c2ad476523a",
    "deepnote_cell_type": "text-cell-h3",
    "formattedRanges": [],
    "is_collapsed": false,
    "tags": []
   },
   "source": [
    "### 66. Sort the array inplace column-wise"
   ]
  },
  {
   "cell_type": "code",
   "execution_count": 84,
   "metadata": {
    "cell_id": "35a8eb7ddf2f414490ce979ac9df9729",
    "deepnote_cell_height": 115,
    "deepnote_cell_type": "code",
    "execution_context_id": "463ba3f9-9b15-4d2a-9aae-2f95db013dbd",
    "execution_millis": 1,
    "execution_start": 1735278369066,
    "source_hash": "a8b01f6b",
    "tags": []
   },
   "outputs": [
    {
     "name": "stdout",
     "output_type": "stream",
     "text": [
      "[[1 4]\n",
      " [1 3]]\n"
     ]
    }
   ],
   "source": [
    "a = np.array([[1,4],[3,1]])\n",
    "\n",
    "np_array = np.sort(a, axis=1)\n",
    "print(np_array)"
   ]
  },
  {
   "cell_type": "markdown",
   "metadata": {
    "cell_id": "05fdcc9325494e529cf311c351eca14a",
    "deepnote_cell_type": "text-cell-h3",
    "formattedRanges": [],
    "is_collapsed": false,
    "tags": []
   },
   "source": [
    "### 67. Sort the flattened array"
   ]
  },
  {
   "cell_type": "code",
   "execution_count": 85,
   "metadata": {
    "cell_id": "c8f5b6f02c9e477b8918eca86a629244",
    "deepnote_cell_height": 115,
    "deepnote_cell_type": "code",
    "execution_context_id": "463ba3f9-9b15-4d2a-9aae-2f95db013dbd",
    "execution_millis": 2,
    "execution_start": 1735278391938,
    "source_hash": "86353251",
    "tags": []
   },
   "outputs": [
    {
     "name": "stdout",
     "output_type": "stream",
     "text": [
      "[1 1 3 4]\n"
     ]
    }
   ],
   "source": [
    "a = np.array([[1,4],[3,1]])\n",
    "\n",
    "np_array = np.sort(a, axis=None)\n",
    "print(np_array)"
   ]
  },
  {
   "cell_type": "markdown",
   "metadata": {
    "cell_id": "9d0b1a7e2ea34ecd9022f29fc6c7d4f5",
    "deepnote_cell_type": "text-cell-h3",
    "formattedRanges": [],
    "is_collapsed": false,
    "tags": []
   },
   "source": [
    "### 68. Order of Indices in a Sorted NumPy Array"
   ]
  },
  {
   "cell_type": "code",
   "execution_count": 86,
   "metadata": {
    "cell_id": "c1be31efc852418c8a23d076ab148cab",
    "deepnote_cell_height": 115,
    "deepnote_cell_type": "code",
    "execution_context_id": "463ba3f9-9b15-4d2a-9aae-2f95db013dbd",
    "execution_millis": 1,
    "execution_start": 1735278543806,
    "source_hash": "30ffde8",
    "tags": []
   },
   "outputs": [
    {
     "name": "stdout",
     "output_type": "stream",
     "text": [
      "[1 2 0]\n"
     ]
    }
   ],
   "source": [
    "a = np.array([3, 1, 2])\n",
    "\n",
    "np_array = np.argsort(a)\n",
    "print(np_array)"
   ]
  },
  {
   "cell_type": "markdown",
   "metadata": {
    "cell_id": "ceb8a50bab2743faa617415361cfa160",
    "deepnote_cell_type": "text-cell-h3",
    "formattedRanges": [],
    "is_collapsed": false,
    "tags": []
   },
   "source": [
    "### 69-71. Find the index corresponding to the Maximum Values."
   ]
  },
  {
   "cell_type": "code",
   "execution_count": 87,
   "metadata": {
    "cell_id": "5780c912e16c4574baea0c3d50d700a0",
    "deepnote_cell_height": 79,
    "deepnote_cell_type": "code",
    "execution_context_id": "463ba3f9-9b15-4d2a-9aae-2f95db013dbd",
    "execution_millis": 0,
    "execution_start": 1735278557126,
    "source_hash": "4a56d14b",
    "tags": []
   },
   "outputs": [],
   "source": [
    "a = np.array([[15, 13, 10,  1, 18],\n",
    "              [14, 19, 19, 17,  8]])"
   ]
  },
  {
   "cell_type": "markdown",
   "metadata": {
    "cell_id": "f657814bc30c419bae712f76ae4d023e",
    "deepnote_cell_type": "text-cell-h3",
    "formattedRanges": [],
    "is_collapsed": false,
    "tags": []
   },
   "source": [
    "#### In a flattened array"
   ]
  },
  {
   "cell_type": "code",
   "execution_count": 88,
   "metadata": {
    "cell_id": "29453604ab7d4406b18f0f856ec4f2aa",
    "deepnote_cell_height": 79,
    "deepnote_cell_type": "code",
    "execution_context_id": "463ba3f9-9b15-4d2a-9aae-2f95db013dbd",
    "execution_millis": 1,
    "execution_start": 1735278705683,
    "source_hash": "a6600ef5",
    "tags": []
   },
   "outputs": [
    {
     "name": "stdout",
     "output_type": "stream",
     "text": [
      "6\n"
     ]
    }
   ],
   "source": [
    "max_index = np.argmax(a)\n",
    "print(max_index)"
   ]
  },
  {
   "cell_type": "markdown",
   "metadata": {
    "cell_id": "64b5810ce07c4975abcaa09810f087d2",
    "deepnote_cell_type": "text-cell-h3",
    "formattedRanges": [],
    "is_collapsed": false,
    "tags": []
   },
   "source": [
    "#### Indices of max along column"
   ]
  },
  {
   "cell_type": "code",
   "execution_count": 89,
   "metadata": {
    "cell_id": "a3c3bb5f05e5490d8c52064052b2fe18",
    "deepnote_cell_height": 79,
    "deepnote_cell_type": "code",
    "execution_context_id": "463ba3f9-9b15-4d2a-9aae-2f95db013dbd",
    "execution_millis": 5,
    "execution_start": 1735278723973,
    "source_hash": "d920ef07",
    "tags": []
   },
   "outputs": [
    {
     "name": "stdout",
     "output_type": "stream",
     "text": [
      "[4 1]\n"
     ]
    }
   ],
   "source": [
    "max_index = np.argmax(a, axis=1)\n",
    "print(max_index)"
   ]
  },
  {
   "cell_type": "markdown",
   "metadata": {
    "cell_id": "04e2ebeee1ce4f43ac6925bdebe0dcb4",
    "deepnote_cell_type": "text-cell-h3",
    "formattedRanges": [],
    "is_collapsed": false,
    "tags": []
   },
   "source": [
    "#### Indices of max along row"
   ]
  },
  {
   "cell_type": "code",
   "execution_count": 90,
   "metadata": {
    "cell_id": "d49f6cd5d1f24a4cac647f9591da6d02",
    "deepnote_cell_height": 79,
    "deepnote_cell_type": "code",
    "execution_context_id": "463ba3f9-9b15-4d2a-9aae-2f95db013dbd",
    "execution_millis": 1,
    "execution_start": 1735278785410,
    "source_hash": "f5b7178c",
    "tags": []
   },
   "outputs": [
    {
     "name": "stdout",
     "output_type": "stream",
     "text": [
      "[0 1 1 1 0]\n"
     ]
    }
   ],
   "source": [
    "max_index = np.argmax(a, axis=0)\n",
    "print(max_index)"
   ]
  },
  {
   "cell_type": "markdown",
   "metadata": {
    "cell_id": "fd5330c2451b4b4e9726c183e496b44c",
    "deepnote_cell_type": "text-cell-h3",
    "formattedRanges": [],
    "is_collapsed": false,
    "tags": []
   },
   "source": [
    "### 72-74. Find the index corresponding to the Minimum Values."
   ]
  },
  {
   "cell_type": "code",
   "execution_count": 91,
   "metadata": {
    "cell_id": "251257ed62f443d5a4ccf0a060475cbb",
    "deepnote_cell_height": 79,
    "deepnote_cell_type": "code",
    "execution_context_id": "463ba3f9-9b15-4d2a-9aae-2f95db013dbd",
    "execution_millis": 0,
    "execution_start": 1735278802418,
    "source_hash": "4a56d14b",
    "tags": []
   },
   "outputs": [],
   "source": [
    "a = np.array([[15, 13, 10,  1, 18],\n",
    "              [14, 19, 19, 17,  8]])"
   ]
  },
  {
   "cell_type": "markdown",
   "metadata": {
    "cell_id": "39502dac3be3400c854a7cb84ba4b9ee",
    "deepnote_cell_type": "text-cell-h3",
    "formattedRanges": [],
    "is_collapsed": false,
    "tags": []
   },
   "source": [
    "#### In a flattened array"
   ]
  },
  {
   "cell_type": "code",
   "execution_count": 92,
   "metadata": {
    "cell_id": "9907cd67c02d4886b73f40bda1b6e2d4",
    "deepnote_cell_height": 79,
    "deepnote_cell_type": "code",
    "execution_context_id": "463ba3f9-9b15-4d2a-9aae-2f95db013dbd",
    "execution_millis": 2,
    "execution_start": 1735278814651,
    "source_hash": "5230f913",
    "tags": []
   },
   "outputs": [
    {
     "name": "stdout",
     "output_type": "stream",
     "text": [
      "3\n"
     ]
    }
   ],
   "source": [
    "min_index = np.argmin(a)\n",
    "print(min_index)"
   ]
  },
  {
   "cell_type": "markdown",
   "metadata": {
    "cell_id": "fa5e58e2b7314c7fb1c88723324ababd",
    "deepnote_cell_type": "text-cell-h3",
    "formattedRanges": [],
    "is_collapsed": false,
    "tags": []
   },
   "source": [
    "#### Indices of min along column"
   ]
  },
  {
   "cell_type": "code",
   "execution_count": 93,
   "metadata": {
    "cell_id": "e67ffd8df8124980aaa272643c288e1b",
    "deepnote_cell_height": 79,
    "deepnote_cell_type": "code",
    "execution_context_id": "463ba3f9-9b15-4d2a-9aae-2f95db013dbd",
    "execution_millis": 0,
    "execution_start": 1735278831538,
    "source_hash": "f1a03274",
    "tags": []
   },
   "outputs": [
    {
     "name": "stdout",
     "output_type": "stream",
     "text": [
      "[3 4]\n"
     ]
    }
   ],
   "source": [
    "min_index = np.argmin(a, axis=1)\n",
    "print(min_index)"
   ]
  },
  {
   "cell_type": "markdown",
   "metadata": {
    "cell_id": "5260846a2d6046378a7323ff361e4c27",
    "deepnote_cell_type": "text-cell-h3",
    "formattedRanges": [],
    "is_collapsed": false,
    "tags": []
   },
   "source": [
    "#### Indices of min along row"
   ]
  },
  {
   "cell_type": "code",
   "execution_count": 94,
   "metadata": {
    "cell_id": "7fc24e4c763a426fb9725faf87a12181",
    "deepnote_cell_height": 79,
    "deepnote_cell_type": "code",
    "execution_context_id": "463ba3f9-9b15-4d2a-9aae-2f95db013dbd",
    "execution_millis": 0,
    "execution_start": 1735278845179,
    "source_hash": "e47eb107",
    "tags": []
   },
   "outputs": [
    {
     "name": "stdout",
     "output_type": "stream",
     "text": [
      "[1 0 0 0 1]\n"
     ]
    }
   ],
   "source": [
    "min_index = np.argmin(a, axis=0)\n",
    "print(min_index)"
   ]
  },
  {
   "cell_type": "markdown",
   "metadata": {
    "cell_id": "0e6deb5020cb48c59e1a1b3c63dc7ca8",
    "deepnote_cell_type": "text-cell-h3",
    "formattedRanges": [],
    "is_collapsed": false,
    "tags": []
   },
   "source": [
    "### 75. Print the indices of non-zero elements"
   ]
  },
  {
   "cell_type": "code",
   "execution_count": 95,
   "metadata": {
    "cell_id": "ca7823d8475e47babc8f001f853b3b87",
    "deepnote_cell_height": 115,
    "deepnote_cell_type": "code",
    "execution_context_id": "463ba3f9-9b15-4d2a-9aae-2f95db013dbd",
    "execution_millis": 0,
    "execution_start": 1735278864775,
    "source_hash": "8f0bd8d2",
    "tags": []
   },
   "outputs": [
    {
     "name": "stdout",
     "output_type": "stream",
     "text": [
      "(array([0, 1, 2, 2], dtype=int64), array([0, 1, 0, 1], dtype=int64))\n"
     ]
    }
   ],
   "source": [
    "a = np.array([[3, 0, 0], [0, 4, 0], [5, 6, 0]])\n",
    "\n",
    "non_zero_ind = np.nonzero(a)\n",
    "print(non_zero_ind)"
   ]
  },
  {
   "cell_type": "markdown",
   "metadata": {
    "cell_id": "c20fc613064b402bad2e0750c68cd681",
    "deepnote_cell_type": "text-cell-h3",
    "formattedRanges": [],
    "is_collapsed": false,
    "tags": []
   },
   "source": [
    "### 76. Find the mean of the whole numpy array"
   ]
  },
  {
   "cell_type": "code",
   "execution_count": 96,
   "metadata": {
    "cell_id": "117057b7230840d3a5e32ca0d3c74706",
    "deepnote_cell_height": 115,
    "deepnote_cell_type": "code",
    "execution_context_id": "463ba3f9-9b15-4d2a-9aae-2f95db013dbd",
    "execution_millis": 1,
    "execution_start": 1735279118850,
    "source_hash": "e507b216",
    "tags": []
   },
   "outputs": [
    {
     "name": "stdout",
     "output_type": "stream",
     "text": [
      "2.5\n"
     ]
    }
   ],
   "source": [
    "a = np.array([[1, 2], [3, 4]])\n",
    "\n",
    "mean = np.mean(a)\n",
    "print(mean)"
   ]
  },
  {
   "cell_type": "markdown",
   "metadata": {
    "cell_id": "1dfc200e8efc45ddba2888e41cdce5ae",
    "deepnote_cell_type": "text-cell-h3",
    "formattedRanges": [],
    "is_collapsed": false,
    "tags": []
   },
   "source": [
    "### 77. Find the mean of the numpy array along row-axis"
   ]
  },
  {
   "cell_type": "code",
   "execution_count": 97,
   "metadata": {
    "cell_id": "3384d957d2bb443ab1898e1d1e203ab1",
    "deepnote_cell_height": 115,
    "deepnote_cell_type": "code",
    "execution_context_id": "463ba3f9-9b15-4d2a-9aae-2f95db013dbd",
    "execution_millis": 2,
    "execution_start": 1735279152543,
    "source_hash": "1dd8dc02",
    "tags": []
   },
   "outputs": [
    {
     "name": "stdout",
     "output_type": "stream",
     "text": [
      "[2. 3.]\n"
     ]
    }
   ],
   "source": [
    "a = np.array([[1, 2], [3, 4]])\n",
    "\n",
    "mean = np.mean(a, axis=0)\n",
    "print(mean)"
   ]
  },
  {
   "cell_type": "markdown",
   "metadata": {
    "cell_id": "816e8afdd1ff4dcdb6238193656d68b1",
    "deepnote_cell_type": "text-cell-h3",
    "formattedRanges": [],
    "is_collapsed": false,
    "tags": []
   },
   "source": [
    "### 78. Find the mean of the numpy array along column-axis"
   ]
  },
  {
   "cell_type": "code",
   "execution_count": 98,
   "metadata": {
    "cell_id": "9fe95e19a6f6411db0d7f5cad777eb53",
    "deepnote_cell_height": 115,
    "deepnote_cell_type": "code",
    "execution_context_id": "463ba3f9-9b15-4d2a-9aae-2f95db013dbd",
    "execution_millis": 2,
    "execution_start": 1735279166648,
    "source_hash": "597a393c",
    "tags": []
   },
   "outputs": [
    {
     "name": "stdout",
     "output_type": "stream",
     "text": [
      "[1.5 3.5]\n"
     ]
    }
   ],
   "source": [
    "a = np.array([[1, 2], [3, 4]])\n",
    "\n",
    "mean = np.mean(a, axis=1)\n",
    "print(mean)"
   ]
  },
  {
   "cell_type": "markdown",
   "metadata": {
    "cell_id": "b2378d95493c4e519c68d0e920c9438d",
    "deepnote_cell_type": "text-cell-h3",
    "formattedRanges": [],
    "is_collapsed": false,
    "tags": []
   },
   "source": [
    "### 79. Find the median of the whole numpy array"
   ]
  },
  {
   "cell_type": "code",
   "execution_count": 99,
   "metadata": {
    "cell_id": "9fc1db1c61ed4fbbb79d42df7a408467",
    "deepnote_cell_height": 115,
    "deepnote_cell_type": "code",
    "execution_context_id": "463ba3f9-9b15-4d2a-9aae-2f95db013dbd",
    "execution_millis": 1,
    "execution_start": 1735279178214,
    "source_hash": "52af92a6",
    "tags": []
   },
   "outputs": [
    {
     "name": "stdout",
     "output_type": "stream",
     "text": [
      "2.5\n"
     ]
    }
   ],
   "source": [
    "a = np.array([[1, 2], [3, 4]])\n",
    "\n",
    "median = np.median(a)\n",
    "print(median)"
   ]
  },
  {
   "cell_type": "markdown",
   "metadata": {
    "cell_id": "6cc706ee1a864438bad4ea3eadd1b359",
    "deepnote_cell_type": "text-cell-h3",
    "formattedRanges": [],
    "is_collapsed": false,
    "tags": []
   },
   "source": [
    "### 80. Find the median of the numpy array along row-axis"
   ]
  },
  {
   "cell_type": "code",
   "execution_count": 100,
   "metadata": {
    "cell_id": "2b1fab4e88a544149dd031245c18f4ac",
    "deepnote_cell_height": 115,
    "deepnote_cell_type": "code",
    "execution_context_id": "463ba3f9-9b15-4d2a-9aae-2f95db013dbd",
    "execution_millis": 3,
    "execution_start": 1735279195455,
    "source_hash": "49806a90",
    "tags": []
   },
   "outputs": [
    {
     "name": "stdout",
     "output_type": "stream",
     "text": [
      "[2. 3.]\n"
     ]
    }
   ],
   "source": [
    "a = np.array([[1, 2], [3, 4]])\n",
    "\n",
    "median = np.median(a, axis=0)\n",
    "print(median)"
   ]
  },
  {
   "cell_type": "markdown",
   "metadata": {
    "cell_id": "017b2e80bf384cd19591bb44be23ba80",
    "deepnote_cell_type": "text-cell-h3",
    "formattedRanges": [],
    "is_collapsed": false,
    "tags": []
   },
   "source": [
    "### 81. Find the median of the numpy array along column-axis"
   ]
  },
  {
   "cell_type": "code",
   "execution_count": 101,
   "metadata": {
    "cell_id": "9606e95492b2480b85f8ddd50d915508",
    "deepnote_cell_height": 115,
    "deepnote_cell_type": "code",
    "execution_context_id": "463ba3f9-9b15-4d2a-9aae-2f95db013dbd",
    "execution_millis": 1,
    "execution_start": 1735279209486,
    "source_hash": "575ffcc",
    "tags": []
   },
   "outputs": [
    {
     "name": "stdout",
     "output_type": "stream",
     "text": [
      "[1.5 3.5]\n"
     ]
    }
   ],
   "source": [
    "a = np.array([[1, 2], [3, 4]])\n",
    "\n",
    "median = np.median(a, axis=1)\n",
    "print(median)"
   ]
  },
  {
   "cell_type": "markdown",
   "metadata": {
    "cell_id": "351b18104006455491314f91ad470223",
    "deepnote_cell_type": "text-cell-h3",
    "formattedRanges": [],
    "is_collapsed": false,
    "tags": []
   },
   "source": [
    "### 82. Find the std dev of the whole numpy array"
   ]
  },
  {
   "cell_type": "code",
   "execution_count": 102,
   "metadata": {
    "cell_id": "3152b01e9c3c4ca69bc16a4cae5768fc",
    "deepnote_cell_height": 115,
    "deepnote_cell_type": "code",
    "execution_context_id": "463ba3f9-9b15-4d2a-9aae-2f95db013dbd",
    "execution_millis": 3,
    "execution_start": 1735279227779,
    "source_hash": "45c212ba",
    "tags": []
   },
   "outputs": [
    {
     "name": "stdout",
     "output_type": "stream",
     "text": [
      "1.118033988749895\n"
     ]
    }
   ],
   "source": [
    "a = np.array([[1, 2], [3, 4]])\n",
    "\n",
    "std_dev = np.std(a)\n",
    "print(std_dev)"
   ]
  },
  {
   "cell_type": "markdown",
   "metadata": {
    "cell_id": "88e37149e06143eaa49ad231a47c4fea",
    "deepnote_cell_type": "text-cell-h3",
    "formattedRanges": [],
    "is_collapsed": false,
    "tags": []
   },
   "source": [
    "### 83. Find the std dev of the numpy array along row-axis"
   ]
  },
  {
   "cell_type": "code",
   "execution_count": 103,
   "metadata": {
    "cell_id": "3e7b300735ba4a39a80a8eb77519b10b",
    "deepnote_cell_height": 115,
    "deepnote_cell_type": "code",
    "execution_context_id": "463ba3f9-9b15-4d2a-9aae-2f95db013dbd",
    "execution_millis": 1,
    "execution_start": 1735279242695,
    "source_hash": "5b6a6bfa",
    "tags": []
   },
   "outputs": [
    {
     "name": "stdout",
     "output_type": "stream",
     "text": [
      "[1. 1.]\n"
     ]
    }
   ],
   "source": [
    "a = np.array([[1, 2], [3, 4]])\n",
    "\n",
    "std_dev = np.std(a, axis=0)\n",
    "print(std_dev)"
   ]
  },
  {
   "cell_type": "markdown",
   "metadata": {
    "cell_id": "50bb1e7da9f84d5685e94b42ae4b2502",
    "deepnote_cell_type": "text-cell-h3",
    "formattedRanges": [],
    "is_collapsed": false,
    "tags": []
   },
   "source": [
    "### 84. Find the std dev of the numpy array along column-axis"
   ]
  },
  {
   "cell_type": "code",
   "execution_count": 104,
   "metadata": {
    "cell_id": "4186fbfcbc6b4315a9c99bbf80a1a82a",
    "deepnote_cell_height": 115,
    "deepnote_cell_type": "code",
    "execution_context_id": "463ba3f9-9b15-4d2a-9aae-2f95db013dbd",
    "execution_millis": 2,
    "execution_start": 1735279257207,
    "source_hash": "cac1b1c5",
    "tags": []
   },
   "outputs": [
    {
     "name": "stdout",
     "output_type": "stream",
     "text": [
      "[0.5 0.5]\n"
     ]
    }
   ],
   "source": [
    "a = np.array([[1, 2], [3, 4]])\n",
    "\n",
    "std_dev = np.std(a, axis=1)\n",
    "print(std_dev)"
   ]
  }
 ],
 "metadata": {
  "deepnote_notebook_id": "15ffab846b5946d7a27dd66e0e5a7f27",
  "deepnote_persisted_session": {
   "createdAt": "2024-12-27T05:35:14.914Z"
  },
  "kernelspec": {
   "display_name": "base",
   "language": "python",
   "name": "python3"
  },
  "language_info": {
   "codemirror_mode": {
    "name": "ipython",
    "version": 3
   },
   "file_extension": ".py",
   "mimetype": "text/x-python",
   "name": "python",
   "nbconvert_exporter": "python",
   "pygments_lexer": "ipython3",
   "version": "3.12.7"
  }
 },
 "nbformat": 4,
 "nbformat_minor": 0
}

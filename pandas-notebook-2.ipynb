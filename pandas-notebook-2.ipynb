{
 "cells": [
  {
   "cell_type": "markdown",
   "metadata": {
    "cell_id": "c37a414ec0f34eccb86d29f89d694970",
    "deepnote_cell_type": "text-cell-h1",
    "formattedRanges": [],
    "is_collapsed": false,
    "tags": []
   },
   "source": [
    "# Pandas Notebook 2"
   ]
  },
  {
   "cell_type": "markdown",
   "metadata": {
    "cell_id": "bcdceb4ff8634d5aaea9340e6f66a015",
    "deepnote_cell_type": "text-cell-h3",
    "formattedRanges": [],
    "is_collapsed": false,
    "tags": []
   },
   "source": [
    "### 31. Read the CSV file. "
   ]
  },
  {
   "cell_type": "code",
   "execution_count": 1,
   "metadata": {
    "cell_id": "a15b94d1cb6d4a759e74d4896a4db940",
    "deepnote_cell_height": 97,
    "deepnote_cell_type": "code",
    "execution_context_id": "0f47c3fb-5162-489e-a3a4-f4fc5f716c6d",
    "execution_millis": 636,
    "execution_start": 1734958501649,
    "source_hash": "85c60b4a",
    "tags": []
   },
   "outputs": [],
   "source": [
    "import pandas as pd\n",
    "\n",
    "file_name = \"employee_dataset.csv\"\n",
    "\n",
    "df = pd.read_csv(file_name)"
   ]
  },
  {
   "cell_type": "markdown",
   "metadata": {
    "cell_id": "89a3f9c6b33d4814aa00e42b6beb06e4",
    "deepnote_cell_type": "text-cell-h3",
    "formattedRanges": [],
    "is_collapsed": false,
    "tags": []
   },
   "source": [
    "### 32. Print the first 5 rows."
   ]
  },
  {
   "cell_type": "code",
   "execution_count": 2,
   "metadata": {
    "cell_id": "d6d9ad4f6c824df7be83ef31b78d9bb6",
    "deepnote_cell_height": 97,
    "deepnote_cell_type": "code",
    "execution_context_id": "4a31f327-0b89-4407-a3a3-087c2902dcce",
    "execution_millis": 0,
    "execution_start": 1734958502333,
    "source_hash": "b16dbb31",
    "tags": []
   },
   "outputs": [
    {
     "name": "stdout",
     "output_type": "stream",
     "text": [
      "             Name                  Company_Name  \\\n",
      "0  Spencer Adkins                James and Sons   \n",
      "1    Julie Morton                 Nichols-James   \n",
      "2    Matthew Hall                     Scott Inc   \n",
      "3      Brad Scott  Johnston, Fleming and Tanner   \n",
      "4   Theresa Owens      Baker, Allen and Edwards   \n",
      "\n",
      "                        Employee_Job_Title      Employee_City  \\\n",
      "0                          Equities trader     New Russellton   \n",
      "1  Diplomatic Services operational officer  North Melissafurt   \n",
      "2               Regulatory affairs officer           Wardfort   \n",
      "3                      Production engineer     West Jamesview   \n",
      "4                      Production engineer          Whiteside   \n",
      "\n",
      "        Employee_Country  Employee_Salary Employment_Status  Employee_Rating  \n",
      "0  Palestinian Territory           321520         Full Time              3.9  \n",
      "1       Marshall Islands           589090         Full Time              4.3  \n",
      "2               Anguilla           630890         Full Time              3.1  \n",
      "3   Syrian Arab Republic           116400         Full Time              3.1  \n",
      "4               Dominica           523499         Full Time              4.8  \n"
     ]
    }
   ],
   "source": [
    "df_temp = df.head()\n",
    "\n",
    "print(df_temp)"
   ]
  },
  {
   "cell_type": "markdown",
   "metadata": {
    "cell_id": "595f800e66634b65860f7110b2f4e0cb",
    "deepnote_cell_type": "text-cell-h3",
    "formattedRanges": [],
    "is_collapsed": false,
    "tags": []
   },
   "source": [
    "### 33. Print the last 10 rows."
   ]
  },
  {
   "cell_type": "code",
   "execution_count": 3,
   "metadata": {
    "cell_id": "9768d0da2ea14cada7ff2bf7b9fe8132",
    "deepnote_cell_height": 97,
    "deepnote_cell_type": "code",
    "execution_context_id": "4a31f327-0b89-4407-a3a3-087c2902dcce",
    "execution_millis": 1,
    "execution_start": 1734958502385,
    "source_hash": "3daaec13",
    "tags": []
   },
   "outputs": [
    {
     "name": "stdout",
     "output_type": "stream",
     "text": [
      "                     Name                  Company_Name  \\\n",
      "299990      Monica Bender    Wallace, Smith and Shepard   \n",
      "299991  William Rodriguez                     Scott Inc   \n",
      "299992    Steven Thornton      Baker, Allen and Edwards   \n",
      "299993         Terry Hill       White, Mcclain and Cobb   \n",
      "299994      Kelly Bennett       White, Mcclain and Cobb   \n",
      "299995         Nancy Neal              Bullock-Carrillo   \n",
      "299996     Michele Butler  Johnston, Fleming and Tanner   \n",
      "299997        Lynn Wilson                 Nichols-James   \n",
      "299998      Lindsey Keith                 Nichols-James   \n",
      "299999      Karen Delgado                James and Sons   \n",
      "\n",
      "                  Employee_Job_Title      Employee_City Employee_Country  \\\n",
      "299990           Production engineer   New Cindychester       Bangladesh   \n",
      "299991                    Ergonomist          Whiteside      New Zealand   \n",
      "299992               Patent examiner         Aliciafort            Benin   \n",
      "299993  Investment banker, corporate   New Cindychester           Sweden   \n",
      "299994     Radiographer, therapeutic           Wardfort             Fiji   \n",
      "299995                   Optometrist  North Melissafurt            Samoa   \n",
      "299996                 Administrator         Aliciafort             Cuba   \n",
      "299997                 Administrator   New Cindychester          Bolivia   \n",
      "299998                          Make       Whitakerbury   Western Sahara   \n",
      "299999                       Actuary     New Russellton   United Kingdom   \n",
      "\n",
      "        Employee_Salary Employment_Status  Employee_Rating  \n",
      "299990           852660         Full Time              3.0  \n",
      "299991           214400         Full Time              1.5  \n",
      "299992            60240         Full Time              4.3  \n",
      "299993           414720            Intern              2.3  \n",
      "299994           182270         Full Time              3.6  \n",
      "299995            99670            Intern              3.3  \n",
      "299996           949580            Intern              2.6  \n",
      "299997           802830         Full Time              0.6  \n",
      "299998           257240         Full Time              2.4  \n",
      "299999           575770            Intern              3.3  \n"
     ]
    }
   ],
   "source": [
    "df_temp = df.tail(10)\n",
    "\n",
    "print(df_temp)"
   ]
  },
  {
   "cell_type": "markdown",
   "metadata": {
    "cell_id": "b50215f2556d4859921879392d7a8a21",
    "deepnote_cell_type": "text-cell-h3",
    "formattedRanges": [],
    "is_collapsed": false,
    "tags": []
   },
   "source": [
    "### 34. Print the number of rows."
   ]
  },
  {
   "cell_type": "code",
   "execution_count": 4,
   "metadata": {
    "cell_id": "88b642763a0a493db793286067d0f090",
    "deepnote_cell_height": 97,
    "deepnote_cell_type": "code",
    "execution_context_id": "4a31f327-0b89-4407-a3a3-087c2902dcce",
    "execution_millis": 1,
    "execution_start": 1734958502437,
    "source_hash": "cac7bc58",
    "tags": []
   },
   "outputs": [
    {
     "name": "stdout",
     "output_type": "stream",
     "text": [
      "300000\n"
     ]
    }
   ],
   "source": [
    "rows = df.shape[0]\n",
    "\n",
    "print(rows)"
   ]
  },
  {
   "cell_type": "markdown",
   "metadata": {
    "cell_id": "ae469fbd5f28477693038bf206b0f757",
    "deepnote_cell_type": "text-cell-h3",
    "formattedRanges": [],
    "is_collapsed": false,
    "tags": []
   },
   "source": [
    "### 35. Print the number of columns."
   ]
  },
  {
   "cell_type": "code",
   "execution_count": 5,
   "metadata": {
    "cell_id": "4f735cd6ead642828001c7b0c6d2410c",
    "deepnote_cell_height": 97,
    "deepnote_cell_type": "code",
    "execution_context_id": "4a31f327-0b89-4407-a3a3-087c2902dcce",
    "execution_millis": 0,
    "execution_start": 1734958502489,
    "source_hash": "41549386",
    "tags": []
   },
   "outputs": [
    {
     "name": "stdout",
     "output_type": "stream",
     "text": [
      "8\n"
     ]
    }
   ],
   "source": [
    "columns = df.shape[1]\n",
    "\n",
    "print(columns)"
   ]
  },
  {
   "cell_type": "markdown",
   "metadata": {
    "cell_id": "2604726c94f347ca8a6e7c913f62661d",
    "deepnote_cell_type": "text-cell-h3",
    "formattedRanges": [],
    "is_collapsed": false,
    "tags": []
   },
   "source": [
    "### 36. Print all column names."
   ]
  },
  {
   "cell_type": "code",
   "execution_count": 6,
   "metadata": {
    "cell_id": "cf5bdbf4f26d41ae9185675055cf33ab",
    "deepnote_cell_height": 97,
    "deepnote_cell_type": "code",
    "execution_context_id": "4a31f327-0b89-4407-a3a3-087c2902dcce",
    "execution_millis": 0,
    "execution_start": 1734958502541,
    "source_hash": "a4999813",
    "tags": []
   },
   "outputs": [
    {
     "name": "stdout",
     "output_type": "stream",
     "text": [
      "Index(['Name', 'Company_Name', 'Employee_Job_Title', 'Employee_City',\n",
      "       'Employee_Country', 'Employee_Salary', 'Employment_Status',\n",
      "       'Employee_Rating'],\n",
      "      dtype='object')\n"
     ]
    }
   ],
   "source": [
    "column_names = df.columns\n",
    "\n",
    "print(column_names)"
   ]
  },
  {
   "cell_type": "markdown",
   "metadata": {
    "cell_id": "f19b5ae46a1f47f9b331535378f96851",
    "deepnote_cell_type": "text-cell-h3",
    "formattedRanges": [
     {
      "fromCodePoint": 10,
      "marks": {
       "bold": true
      },
      "toCodePoint": 13
     }
    ],
    "is_collapsed": false,
    "tags": []
   },
   "source": [
    "### 37. Print the mean of Employee_Salary."
   ]
  },
  {
   "cell_type": "code",
   "execution_count": 7,
   "metadata": {
    "cell_id": "5b004dec649944e28f9726bc0f3b3a10",
    "deepnote_cell_height": 61,
    "deepnote_cell_type": "code",
    "execution_context_id": "4a31f327-0b89-4407-a3a3-087c2902dcce",
    "execution_millis": 0,
    "execution_start": 1734958502593,
    "source_hash": "9ecae95f",
    "tags": []
   },
   "outputs": [
    {
     "data": {
      "text/plain": [
       "500224.20772666665"
      ]
     },
     "execution_count": 7,
     "metadata": {},
     "output_type": "execute_result"
    }
   ],
   "source": [
    "df[\"Employee_Salary\"].mean()"
   ]
  },
  {
   "cell_type": "markdown",
   "metadata": {
    "cell_id": "cdbb998fc6e24e69acb70b44236e0319",
    "deepnote_cell_type": "text-cell-h3",
    "formattedRanges": [
     {
      "fromCodePoint": 10,
      "marks": {
       "bold": true
      },
      "toCodePoint": 13
     }
    ],
    "is_collapsed": false,
    "tags": []
   },
   "source": [
    "### 38. Print the mean of Employee_Rating."
   ]
  },
  {
   "cell_type": "code",
   "execution_count": 8,
   "metadata": {
    "cell_id": "5895d666b0ef4de786de2011a9f62c48",
    "deepnote_cell_height": 61,
    "deepnote_cell_type": "code",
    "execution_context_id": "4a31f327-0b89-4407-a3a3-087c2902dcce",
    "execution_millis": 0,
    "execution_start": 1734958502641,
    "source_hash": "e40610fa",
    "tags": []
   },
   "outputs": [
    {
     "data": {
      "text/plain": [
       "2.5059550000000006"
      ]
     },
     "execution_count": 8,
     "metadata": {},
     "output_type": "execute_result"
    }
   ],
   "source": [
    "df['Employee_Rating'].mean()"
   ]
  },
  {
   "cell_type": "markdown",
   "metadata": {
    "cell_id": "42da0a3980b443e6868e18ed14476f67",
    "deepnote_cell_type": "text-cell-h3",
    "formattedRanges": [],
    "is_collapsed": false,
    "tags": []
   },
   "source": [
    "### 39. Print the number of distinct Company_Name. "
   ]
  },
  {
   "cell_type": "code",
   "execution_count": 9,
   "metadata": {
    "cell_id": "6d035fd936e3461da7fe724b4cddfc43",
    "deepnote_cell_height": 61,
    "deepnote_cell_type": "code",
    "execution_context_id": "4a31f327-0b89-4407-a3a3-087c2902dcce",
    "execution_millis": 1,
    "execution_start": 1734958502693,
    "source_hash": "8d56f0e7",
    "tags": []
   },
   "outputs": [
    {
     "data": {
      "text/plain": [
       "15"
      ]
     },
     "execution_count": 9,
     "metadata": {},
     "output_type": "execute_result"
    }
   ],
   "source": [
    "df['Company_Name'].nunique()"
   ]
  },
  {
   "cell_type": "markdown",
   "metadata": {
    "cell_id": "aae5adfbe7c246e88bc2766db98a098e",
    "deepnote_cell_type": "text-cell-h3",
    "formattedRanges": [],
    "is_collapsed": false,
    "tags": []
   },
   "source": [
    "### 40. Print all the distinct Company_Name. "
   ]
  },
  {
   "cell_type": "code",
   "execution_count": 10,
   "metadata": {
    "cell_id": "bf644772421740e08c7eb0244f5f2aba",
    "deepnote_cell_height": 61,
    "deepnote_cell_type": "code",
    "execution_context_id": "4a31f327-0b89-4407-a3a3-087c2902dcce",
    "execution_millis": 0,
    "execution_start": 1734958502745,
    "source_hash": "8cf7293b",
    "tags": []
   },
   "outputs": [
    {
     "data": {
      "text/plain": [
       "array(['James and Sons', 'Nichols-James', 'Scott Inc',\n",
       "       'Johnston, Fleming and Tanner', 'Baker, Allen and Edwards',\n",
       "       'Andrade LLC', 'Matthews Inc', 'Taylor-Ramos',\n",
       "       'Campos, Reynolds and Mccormick', 'White, Mcclain and Cobb',\n",
       "       'Thomas-Spencer', 'Bullock-Carrillo', 'Marshall-Holloway',\n",
       "       'Wallace, Smith and Shepard', 'Nelson-Li'], dtype=object)"
      ]
     },
     "execution_count": 10,
     "metadata": {},
     "output_type": "execute_result"
    }
   ],
   "source": [
    "df['Company_Name'].unique()"
   ]
  },
  {
   "cell_type": "markdown",
   "metadata": {
    "cell_id": "8d444827d878492cb4046a5dc5378a5a",
    "deepnote_cell_type": "text-cell-h3",
    "formattedRanges": [],
    "is_collapsed": false,
    "tags": []
   },
   "source": [
    "### 41. Print the number of employees working in the company \"Nichols-James\".  "
   ]
  },
  {
   "cell_type": "code",
   "execution_count": 11,
   "metadata": {
    "cell_id": "8387757b331841a8a39a510eb3d6a125",
    "deepnote_cell_height": 61,
    "deepnote_cell_type": "code",
    "deepnote_table_loading": false,
    "deepnote_table_state": {
     "cellFormattingRules": [],
     "columnDisplayNames": [],
     "columnOrder": [
      "Name",
      "Company_Name",
      "Employee_Job_Title",
      "Employee_City",
      "Employee_Country",
      "Employee_Salary",
      "Employment_Status",
      "Employee_Rating"
     ],
     "conditionalFilters": [],
     "filters": [],
     "hiddenColumnIds": [],
     "pageIndex": 0,
     "pageSize": 10,
     "sortBy": [],
     "wrappedTextColumnIds": []
    },
    "execution_context_id": "4a31f327-0b89-4407-a3a3-087c2902dcce",
    "execution_millis": 0,
    "execution_start": 1734958502805,
    "source_hash": "35c3c6f9",
    "tags": []
   },
   "outputs": [
    {
     "data": {
      "text/plain": [
       "19911"
      ]
     },
     "execution_count": 11,
     "metadata": {},
     "output_type": "execute_result"
    }
   ],
   "source": [
    "filt = df['Company_Name'] == 'Nichols-James'\n",
    "df[filt].shape[0]"
   ]
  },
  {
   "cell_type": "markdown",
   "metadata": {
    "cell_id": "93118bc2cd98483fa86f463291a68434",
    "deepnote_cell_type": "text-cell-h3",
    "formattedRanges": [],
    "is_collapsed": false,
    "tags": []
   },
   "source": [
    "### 42-44. Print the maximum, minimum and median Employee_Salary."
   ]
  },
  {
   "cell_type": "code",
   "execution_count": 12,
   "metadata": {
    "cell_id": "407b62f514384247a98e2df24d0fea8c",
    "deepnote_cell_height": 61,
    "deepnote_cell_type": "code",
    "execution_context_id": "4a31f327-0b89-4407-a3a3-087c2902dcce",
    "execution_millis": 0,
    "execution_start": 1734958502861,
    "source_hash": "d32c152a",
    "tags": []
   },
   "outputs": [
    {
     "name": "stdout",
     "output_type": "stream",
     "text": [
      "Max salary:  999990\n",
      "Min salary:  0\n",
      "Median salary:  500780.0\n"
     ]
    }
   ],
   "source": [
    "print(\"Max salary: \",df['Employee_Salary'].max())\n",
    "\n",
    "print(\"Min salary: \",df['Employee_Salary'].min())\n",
    "\n",
    "print(\"Median salary: \",df['Employee_Salary'].median())"
   ]
  },
  {
   "cell_type": "markdown",
   "metadata": {
    "cell_id": "434fa758cf6d4e3d985cf79dd9386dd2",
    "deepnote_cell_type": "text-cell-h3",
    "formattedRanges": [],
    "is_collapsed": false,
    "tags": []
   },
   "source": [
    "### 45-49. Print the distribution of the following columns: (the frequency of individual entries)."
   ]
  },
  {
   "cell_type": "markdown",
   "metadata": {
    "cell_id": "2c48d7a393f445ebb6c99d81530d5f58",
    "deepnote_cell_type": "text-cell-p",
    "formattedRanges": [],
    "is_collapsed": false,
    "tags": []
   },
   "source": [
    "1. Company_Name"
   ]
  },
  {
   "cell_type": "code",
   "execution_count": 13,
   "metadata": {
    "cell_id": "069b4deaeb914e2cb5d4e8c0e8659146",
    "deepnote_cell_height": 61,
    "deepnote_cell_type": "code",
    "execution_context_id": "4a31f327-0b89-4407-a3a3-087c2902dcce",
    "execution_millis": 1,
    "execution_start": 1734958502929,
    "source_hash": "b5ad1f4b",
    "tags": []
   },
   "outputs": [
    {
     "data": {
      "text/plain": [
       "Company_Name\n",
       "Scott Inc                         20390\n",
       "White, Mcclain and Cobb           20261\n",
       "Thomas-Spencer                    20142\n",
       "Nelson-Li                         20132\n",
       "Taylor-Ramos                      20122\n",
       "Baker, Allen and Edwards          20084\n",
       "Matthews Inc                      20083\n",
       "Bullock-Carrillo                  20063\n",
       "Andrade LLC                       19983\n",
       "Campos, Reynolds and Mccormick    19927\n",
       "Nichols-James                     19911\n",
       "James and Sons                    19868\n",
       "Marshall-Holloway                 19859\n",
       "Johnston, Fleming and Tanner      19811\n",
       "Wallace, Smith and Shepard        19364\n",
       "Name: count, dtype: int64"
      ]
     },
     "execution_count": 13,
     "metadata": {},
     "output_type": "execute_result"
    }
   ],
   "source": [
    "df['Company_Name'].value_counts()"
   ]
  },
  {
   "cell_type": "markdown",
   "metadata": {
    "cell_id": "4aa814d5efa141c2af8294b2c29993a4",
    "deepnote_cell_type": "text-cell-p",
    "formattedRanges": [],
    "is_collapsed": false,
    "tags": []
   },
   "source": [
    "2. Employee_Job_Title"
   ]
  },
  {
   "cell_type": "code",
   "execution_count": 14,
   "metadata": {
    "cell_id": "3717c0f147064c7d916e45c7e0fda3ee",
    "deepnote_cell_height": 61,
    "deepnote_cell_type": "code",
    "execution_context_id": "4a31f327-0b89-4407-a3a3-087c2902dcce",
    "execution_millis": 0,
    "execution_start": 1734958503009,
    "source_hash": "1d58df0a",
    "tags": []
   },
   "outputs": [
    {
     "data": {
      "text/plain": [
       "Employee_Job_Title\n",
       "Diplomatic Services operational officer                  30137\n",
       "Administrator                                            15222\n",
       "Garment/textile technologist                             15183\n",
       "Trading standards officer                                15155\n",
       "Patent examiner                                          15085\n",
       "Armed forces logistics/support/administrative officer    15050\n",
       "Retail merchandiser                                      15033\n",
       "Energy manager                                           15033\n",
       "Actuary                                                  15030\n",
       "Investment banker, corporate                             15008\n",
       "Ergonomist                                               15006\n",
       "Production engineer                                      15003\n",
       "Equities trader                                          15000\n",
       "Naval architect                                          14905\n",
       "Radiographer, therapeutic                                14882\n",
       "Regulatory affairs officer                               14869\n",
       "Optometrist                                              14838\n",
       "Sales promotion account executive                        14820\n",
       "Make                                                     14741\n",
       "Name: count, dtype: int64"
      ]
     },
     "execution_count": 14,
     "metadata": {},
     "output_type": "execute_result"
    }
   ],
   "source": [
    "df['Employee_Job_Title'].value_counts()"
   ]
  },
  {
   "cell_type": "markdown",
   "metadata": {
    "cell_id": "4aa26fa009e4480bad4867e3caaca8ec",
    "deepnote_cell_type": "text-cell-p",
    "formattedRanges": [],
    "is_collapsed": false,
    "tags": []
   },
   "source": [
    "3. Employee_City"
   ]
  },
  {
   "cell_type": "code",
   "execution_count": 15,
   "metadata": {
    "cell_id": "7d0263e0831d4577902f0ff9131564b6",
    "deepnote_cell_height": 61,
    "deepnote_cell_type": "code",
    "execution_context_id": "4a31f327-0b89-4407-a3a3-087c2902dcce",
    "execution_millis": 0,
    "execution_start": 1734958503085,
    "source_hash": "8d08c36a",
    "tags": []
   },
   "outputs": [
    {
     "data": {
      "text/plain": [
       "Employee_City\n",
       "North Melissafurt    30209\n",
       "Kristaburgh          30204\n",
       "Wardfort             30097\n",
       "Ricardomouth         30052\n",
       "Aliciafort           30037\n",
       "New Russellton       30001\n",
       "West Jamesview       29941\n",
       "Whitakerbury         29854\n",
       "Whiteside            29849\n",
       "New Cindychester     29756\n",
       "Name: count, dtype: int64"
      ]
     },
     "execution_count": 15,
     "metadata": {},
     "output_type": "execute_result"
    }
   ],
   "source": [
    "df['Employee_City'].value_counts()"
   ]
  },
  {
   "cell_type": "markdown",
   "metadata": {
    "cell_id": "ae686a1656fd4f828583ca695a903598",
    "deepnote_cell_type": "text-cell-p",
    "formattedRanges": [],
    "is_collapsed": false,
    "tags": []
   },
   "source": [
    "4. Employee_Country"
   ]
  },
  {
   "cell_type": "code",
   "execution_count": 16,
   "metadata": {
    "cell_id": "862c290f993d47a3b237aa326798b94e",
    "deepnote_cell_height": 61,
    "deepnote_cell_type": "code",
    "execution_context_id": "4a31f327-0b89-4407-a3a3-087c2902dcce",
    "execution_millis": 1,
    "execution_start": 1734958503165,
    "source_hash": "ea2f9bb8",
    "tags": []
   },
   "outputs": [
    {
     "data": {
      "text/plain": [
       "Employee_Country\n",
       "Congo                                                  2413\n",
       "Korea                                                  2301\n",
       "British Indian Ocean Territory (Chagos Archipelago)    1344\n",
       "Egypt                                                  1322\n",
       "Turkey                                                 1308\n",
       "                                                       ... \n",
       "Saint Vincent and the Grenadines                       1147\n",
       "Czech Republic                                         1145\n",
       "Mexico                                                 1144\n",
       "Mauritania                                             1139\n",
       "Ukraine                                                1133\n",
       "Name: count, Length: 243, dtype: int64"
      ]
     },
     "execution_count": 16,
     "metadata": {},
     "output_type": "execute_result"
    }
   ],
   "source": [
    "df['Employee_Country'].value_counts()"
   ]
  },
  {
   "cell_type": "markdown",
   "metadata": {
    "cell_id": "c916e4deacd544b0b8dc30b2d965fd2a",
    "deepnote_cell_type": "text-cell-p",
    "formattedRanges": [],
    "is_collapsed": false,
    "tags": []
   },
   "source": [
    "5. Employment_Status"
   ]
  },
  {
   "cell_type": "code",
   "execution_count": 17,
   "metadata": {
    "cell_id": "c7b05730f254494ebf606453157a5b78",
    "deepnote_cell_height": 61,
    "deepnote_cell_type": "code",
    "execution_context_id": "4a31f327-0b89-4407-a3a3-087c2902dcce",
    "execution_millis": 1,
    "execution_start": 1734958503237,
    "source_hash": "b050a9ee",
    "tags": []
   },
   "outputs": [
    {
     "data": {
      "text/plain": [
       "Employment_Status\n",
       "Full Time    240010\n",
       "Intern        59990\n",
       "Name: count, dtype: int64"
      ]
     },
     "execution_count": 17,
     "metadata": {},
     "output_type": "execute_result"
    }
   ],
   "source": [
    "df['Employment_Status'].value_counts()"
   ]
  },
  {
   "cell_type": "markdown",
   "metadata": {
    "cell_id": "1ad685f2375f452085a5fc3d363a3b94",
    "deepnote_cell_type": "text-cell-h3",
    "formattedRanges": [],
    "is_collapsed": false,
    "tags": []
   },
   "source": [
    "### 50. Print the company with the most number of employees."
   ]
  },
  {
   "cell_type": "code",
   "execution_count": 18,
   "metadata": {
    "cell_id": "278bc20655f543ddb897f3c209c1d2c3",
    "deepnote_cell_height": 61,
    "deepnote_cell_type": "code",
    "execution_context_id": "4a31f327-0b89-4407-a3a3-087c2902dcce",
    "execution_millis": 0,
    "execution_start": 1734958503305,
    "source_hash": "d6107ef6",
    "tags": []
   },
   "outputs": [
    {
     "data": {
      "text/plain": [
       "'Scott Inc'"
      ]
     },
     "execution_count": 18,
     "metadata": {},
     "output_type": "execute_result"
    }
   ],
   "source": [
    "max_emp = df['Company_Name'].value_counts().idxmax()\n",
    "max_emp"
   ]
  },
  {
   "cell_type": "markdown",
   "metadata": {
    "cell_id": "0ca40b771a53425997235e22060e0bef",
    "deepnote_cell_type": "text-cell-h3",
    "formattedRanges": [],
    "is_collapsed": false,
    "tags": []
   },
   "source": [
    "### 51. Print the number of employees in the above company. "
   ]
  },
  {
   "cell_type": "code",
   "execution_count": 19,
   "metadata": {
    "cell_id": "cb17cd747d59438cabfd4bac4a70de76",
    "deepnote_cell_height": 61,
    "deepnote_cell_type": "code",
    "execution_context_id": "4a31f327-0b89-4407-a3a3-087c2902dcce",
    "execution_millis": 0,
    "execution_start": 1734958503373,
    "source_hash": "fba327c",
    "tags": []
   },
   "outputs": [
    {
     "data": {
      "text/plain": [
       "20390"
      ]
     },
     "execution_count": 19,
     "metadata": {},
     "output_type": "execute_result"
    }
   ],
   "source": [
    "df[df['Company_Name'] == max_emp].shape[0]"
   ]
  },
  {
   "cell_type": "markdown",
   "metadata": {
    "cell_id": "cdb54066d7904d40a5dc0825626eee67",
    "deepnote_cell_type": "text-cell-h3",
    "formattedRanges": [],
    "is_collapsed": false,
    "tags": []
   },
   "source": [
    "### 52. Print the company with the least number of employees."
   ]
  },
  {
   "cell_type": "code",
   "execution_count": 20,
   "metadata": {
    "cell_id": "fbff6e72b6ea4e1c86a63708f0cda9e2",
    "deepnote_cell_height": 61,
    "deepnote_cell_type": "code",
    "execution_context_id": "4a31f327-0b89-4407-a3a3-087c2902dcce",
    "execution_millis": 0,
    "execution_start": 1734958503441,
    "source_hash": "9731d5d",
    "tags": []
   },
   "outputs": [
    {
     "data": {
      "text/plain": [
       "'Wallace, Smith and Shepard'"
      ]
     },
     "execution_count": 20,
     "metadata": {},
     "output_type": "execute_result"
    }
   ],
   "source": [
    "min_emp = df['Company_Name'].value_counts().idxmin()\n",
    "min_emp"
   ]
  },
  {
   "cell_type": "markdown",
   "metadata": {
    "cell_id": "7137ff910ed64160ae8a3dd337960734",
    "deepnote_cell_type": "text-cell-h3",
    "formattedRanges": [],
    "is_collapsed": false,
    "tags": []
   },
   "source": [
    "### 53. Print the number of employees in the above company. "
   ]
  },
  {
   "cell_type": "code",
   "execution_count": 21,
   "metadata": {
    "cell_id": "e03b2385cd814c4e8ee5289745be2f66",
    "deepnote_cell_height": 61,
    "deepnote_cell_type": "code",
    "execution_context_id": "4a31f327-0b89-4407-a3a3-087c2902dcce",
    "execution_millis": 0,
    "execution_start": 1734958503501,
    "source_hash": "ec4398c8",
    "tags": []
   },
   "outputs": [
    {
     "data": {
      "text/plain": [
       "19364"
      ]
     },
     "execution_count": 21,
     "metadata": {},
     "output_type": "execute_result"
    }
   ],
   "source": [
    "df[df['Company_Name'] == min_emp].shape[0]"
   ]
  },
  {
   "cell_type": "markdown",
   "metadata": {
    "cell_id": "ed2a80d5ab134a1fa8924bc4e3b37a0b",
    "deepnote_cell_type": "text-cell-h3",
    "formattedRanges": [],
    "is_collapsed": false,
    "tags": []
   },
   "source": [
    "### 54. Print the employee details with the maximum salary"
   ]
  },
  {
   "cell_type": "code",
   "execution_count": 22,
   "metadata": {
    "cell_id": "4bfe0719996b4d7481c1aafede6b4d6a",
    "deepnote_cell_height": 61,
    "deepnote_cell_type": "code",
    "execution_context_id": "4a31f327-0b89-4407-a3a3-087c2902dcce",
    "execution_millis": 0,
    "execution_start": 1734958503549,
    "source_hash": "b27765c2",
    "tags": []
   },
   "outputs": [
    {
     "data": {
      "text/html": [
       "<div>\n",
       "<style scoped>\n",
       "    .dataframe tbody tr th:only-of-type {\n",
       "        vertical-align: middle;\n",
       "    }\n",
       "\n",
       "    .dataframe tbody tr th {\n",
       "        vertical-align: top;\n",
       "    }\n",
       "\n",
       "    .dataframe thead th {\n",
       "        text-align: right;\n",
       "    }\n",
       "</style>\n",
       "<table border=\"1\" class=\"dataframe\">\n",
       "  <thead>\n",
       "    <tr style=\"text-align: right;\">\n",
       "      <th></th>\n",
       "      <th>Name</th>\n",
       "      <th>Company_Name</th>\n",
       "      <th>Employee_Job_Title</th>\n",
       "      <th>Employee_City</th>\n",
       "      <th>Employee_Country</th>\n",
       "      <th>Employee_Salary</th>\n",
       "      <th>Employment_Status</th>\n",
       "      <th>Employee_Rating</th>\n",
       "    </tr>\n",
       "  </thead>\n",
       "  <tbody>\n",
       "    <tr>\n",
       "      <th>70356</th>\n",
       "      <td>Anna Lawson</td>\n",
       "      <td>Taylor-Ramos</td>\n",
       "      <td>Production engineer</td>\n",
       "      <td>Kristaburgh</td>\n",
       "      <td>Lesotho</td>\n",
       "      <td>999990</td>\n",
       "      <td>Full Time</td>\n",
       "      <td>4.0</td>\n",
       "    </tr>\n",
       "  </tbody>\n",
       "</table>\n",
       "</div>"
      ],
      "text/plain": [
       "              Name  Company_Name   Employee_Job_Title Employee_City  \\\n",
       "70356  Anna Lawson  Taylor-Ramos  Production engineer   Kristaburgh   \n",
       "\n",
       "      Employee_Country  Employee_Salary Employment_Status  Employee_Rating  \n",
       "70356          Lesotho           999990         Full Time              4.0  "
      ]
     },
     "execution_count": 22,
     "metadata": {},
     "output_type": "execute_result"
    }
   ],
   "source": [
    "filt = (df['Employee_Salary'] == df['Employee_Salary'].max())\n",
    "df[filt]"
   ]
  },
  {
   "cell_type": "markdown",
   "metadata": {
    "cell_id": "6a53078937a24d7d8ddc535cf94d79bb",
    "deepnote_cell_type": "text-cell-h3",
    "formattedRanges": [],
    "is_collapsed": false,
    "tags": []
   },
   "source": [
    "### 55. Print the employee details with the maximum rating"
   ]
  },
  {
   "cell_type": "code",
   "execution_count": 23,
   "metadata": {
    "cell_id": "b31dec68f8134b2e873c56156ebe20c4",
    "deepnote_cell_height": 61,
    "deepnote_cell_type": "code",
    "execution_context_id": "4a31f327-0b89-4407-a3a3-087c2902dcce",
    "execution_millis": 0,
    "execution_start": 1734958503597,
    "source_hash": "a4a216ec",
    "tags": []
   },
   "outputs": [
    {
     "data": {
      "text/html": [
       "<div>\n",
       "<style scoped>\n",
       "    .dataframe tbody tr th:only-of-type {\n",
       "        vertical-align: middle;\n",
       "    }\n",
       "\n",
       "    .dataframe tbody tr th {\n",
       "        vertical-align: top;\n",
       "    }\n",
       "\n",
       "    .dataframe thead th {\n",
       "        text-align: right;\n",
       "    }\n",
       "</style>\n",
       "<table border=\"1\" class=\"dataframe\">\n",
       "  <thead>\n",
       "    <tr style=\"text-align: right;\">\n",
       "      <th></th>\n",
       "      <th>Name</th>\n",
       "      <th>Company_Name</th>\n",
       "      <th>Employee_Job_Title</th>\n",
       "      <th>Employee_City</th>\n",
       "      <th>Employee_Country</th>\n",
       "      <th>Employee_Salary</th>\n",
       "      <th>Employment_Status</th>\n",
       "      <th>Employee_Rating</th>\n",
       "    </tr>\n",
       "  </thead>\n",
       "  <tbody>\n",
       "    <tr>\n",
       "      <th>124</th>\n",
       "      <td>Joshua Huffman</td>\n",
       "      <td>James and Sons</td>\n",
       "      <td>Garment/textile technologist</td>\n",
       "      <td>New Russellton</td>\n",
       "      <td>Cook Islands</td>\n",
       "      <td>694760</td>\n",
       "      <td>Full Time</td>\n",
       "      <td>5.0</td>\n",
       "    </tr>\n",
       "    <tr>\n",
       "      <th>342</th>\n",
       "      <td>Alan Carlson</td>\n",
       "      <td>Baker, Allen and Edwards</td>\n",
       "      <td>Diplomatic Services operational officer</td>\n",
       "      <td>Kristaburgh</td>\n",
       "      <td>Mongolia</td>\n",
       "      <td>491710</td>\n",
       "      <td>Intern</td>\n",
       "      <td>5.0</td>\n",
       "    </tr>\n",
       "    <tr>\n",
       "      <th>391</th>\n",
       "      <td>Lisa Summers</td>\n",
       "      <td>Johnston, Fleming and Tanner</td>\n",
       "      <td>Regulatory affairs officer</td>\n",
       "      <td>North Melissafurt</td>\n",
       "      <td>Togo</td>\n",
       "      <td>933500</td>\n",
       "      <td>Full Time</td>\n",
       "      <td>5.0</td>\n",
       "    </tr>\n",
       "    <tr>\n",
       "      <th>395</th>\n",
       "      <td>Timothy Woods</td>\n",
       "      <td>Johnston, Fleming and Tanner</td>\n",
       "      <td>Garment/textile technologist</td>\n",
       "      <td>Whiteside</td>\n",
       "      <td>United States Virgin Islands</td>\n",
       "      <td>367630</td>\n",
       "      <td>Full Time</td>\n",
       "      <td>5.0</td>\n",
       "    </tr>\n",
       "    <tr>\n",
       "      <th>415</th>\n",
       "      <td>Cameron Hawkins</td>\n",
       "      <td>Taylor-Ramos</td>\n",
       "      <td>Armed forces logistics/support/administrative ...</td>\n",
       "      <td>Wardfort</td>\n",
       "      <td>Tanzania</td>\n",
       "      <td>66570</td>\n",
       "      <td>Intern</td>\n",
       "      <td>5.0</td>\n",
       "    </tr>\n",
       "    <tr>\n",
       "      <th>...</th>\n",
       "      <td>...</td>\n",
       "      <td>...</td>\n",
       "      <td>...</td>\n",
       "      <td>...</td>\n",
       "      <td>...</td>\n",
       "      <td>...</td>\n",
       "      <td>...</td>\n",
       "      <td>...</td>\n",
       "    </tr>\n",
       "    <tr>\n",
       "      <th>299689</th>\n",
       "      <td>Michael Jordan</td>\n",
       "      <td>Johnston, Fleming and Tanner</td>\n",
       "      <td>Naval architect</td>\n",
       "      <td>Whitakerbury</td>\n",
       "      <td>Philippines</td>\n",
       "      <td>474540</td>\n",
       "      <td>Full Time</td>\n",
       "      <td>5.0</td>\n",
       "    </tr>\n",
       "    <tr>\n",
       "      <th>299855</th>\n",
       "      <td>Rebecca Garrison</td>\n",
       "      <td>Nelson-Li</td>\n",
       "      <td>Production engineer</td>\n",
       "      <td>Whitakerbury</td>\n",
       "      <td>Ireland</td>\n",
       "      <td>592530</td>\n",
       "      <td>Full Time</td>\n",
       "      <td>5.0</td>\n",
       "    </tr>\n",
       "    <tr>\n",
       "      <th>299900</th>\n",
       "      <td>Daniel Jones</td>\n",
       "      <td>Taylor-Ramos</td>\n",
       "      <td>Sales promotion account executive</td>\n",
       "      <td>Kristaburgh</td>\n",
       "      <td>Sierra Leone</td>\n",
       "      <td>32160</td>\n",
       "      <td>Full Time</td>\n",
       "      <td>5.0</td>\n",
       "    </tr>\n",
       "    <tr>\n",
       "      <th>299906</th>\n",
       "      <td>Justin Mendez</td>\n",
       "      <td>Bullock-Carrillo</td>\n",
       "      <td>Regulatory affairs officer</td>\n",
       "      <td>New Cindychester</td>\n",
       "      <td>Colombia</td>\n",
       "      <td>374540</td>\n",
       "      <td>Full Time</td>\n",
       "      <td>5.0</td>\n",
       "    </tr>\n",
       "    <tr>\n",
       "      <th>299973</th>\n",
       "      <td>Doris Miller</td>\n",
       "      <td>Andrade LLC</td>\n",
       "      <td>Armed forces logistics/support/administrative ...</td>\n",
       "      <td>Wardfort</td>\n",
       "      <td>Kazakhstan</td>\n",
       "      <td>943340</td>\n",
       "      <td>Intern</td>\n",
       "      <td>5.0</td>\n",
       "    </tr>\n",
       "  </tbody>\n",
       "</table>\n",
       "<p>2985 rows × 8 columns</p>\n",
       "</div>"
      ],
      "text/plain": [
       "                    Name                  Company_Name  \\\n",
       "124       Joshua Huffman                James and Sons   \n",
       "342         Alan Carlson      Baker, Allen and Edwards   \n",
       "391         Lisa Summers  Johnston, Fleming and Tanner   \n",
       "395        Timothy Woods  Johnston, Fleming and Tanner   \n",
       "415      Cameron Hawkins                  Taylor-Ramos   \n",
       "...                  ...                           ...   \n",
       "299689    Michael Jordan  Johnston, Fleming and Tanner   \n",
       "299855  Rebecca Garrison                     Nelson-Li   \n",
       "299900      Daniel Jones                  Taylor-Ramos   \n",
       "299906     Justin Mendez              Bullock-Carrillo   \n",
       "299973      Doris Miller                   Andrade LLC   \n",
       "\n",
       "                                       Employee_Job_Title      Employee_City  \\\n",
       "124                          Garment/textile technologist     New Russellton   \n",
       "342               Diplomatic Services operational officer        Kristaburgh   \n",
       "391                            Regulatory affairs officer  North Melissafurt   \n",
       "395                          Garment/textile technologist          Whiteside   \n",
       "415     Armed forces logistics/support/administrative ...           Wardfort   \n",
       "...                                                   ...                ...   \n",
       "299689                                    Naval architect       Whitakerbury   \n",
       "299855                                Production engineer       Whitakerbury   \n",
       "299900                  Sales promotion account executive        Kristaburgh   \n",
       "299906                         Regulatory affairs officer   New Cindychester   \n",
       "299973  Armed forces logistics/support/administrative ...           Wardfort   \n",
       "\n",
       "                    Employee_Country  Employee_Salary Employment_Status  \\\n",
       "124                     Cook Islands           694760         Full Time   \n",
       "342                         Mongolia           491710            Intern   \n",
       "391                             Togo           933500         Full Time   \n",
       "395     United States Virgin Islands           367630         Full Time   \n",
       "415                         Tanzania            66570            Intern   \n",
       "...                              ...              ...               ...   \n",
       "299689                   Philippines           474540         Full Time   \n",
       "299855                       Ireland           592530         Full Time   \n",
       "299900                  Sierra Leone            32160         Full Time   \n",
       "299906                      Colombia           374540         Full Time   \n",
       "299973                    Kazakhstan           943340            Intern   \n",
       "\n",
       "        Employee_Rating  \n",
       "124                 5.0  \n",
       "342                 5.0  \n",
       "391                 5.0  \n",
       "395                 5.0  \n",
       "415                 5.0  \n",
       "...                 ...  \n",
       "299689              5.0  \n",
       "299855              5.0  \n",
       "299900              5.0  \n",
       "299906              5.0  \n",
       "299973              5.0  \n",
       "\n",
       "[2985 rows x 8 columns]"
      ]
     },
     "execution_count": 23,
     "metadata": {},
     "output_type": "execute_result"
    }
   ],
   "source": [
    "filt = (df['Employee_Rating'] == df['Employee_Rating'].max())\n",
    "df[filt]"
   ]
  },
  {
   "cell_type": "markdown",
   "metadata": {
    "cell_id": "94af2099f189412a9139b907e5b88588",
    "deepnote_cell_type": "text-cell-h3",
    "formattedRanges": [],
    "is_collapsed": false,
    "tags": []
   },
   "source": [
    "### 56. Print the Company_Name with most number of employees in 'Wardfort' city."
   ]
  },
  {
   "cell_type": "code",
   "execution_count": 24,
   "metadata": {
    "cell_id": "3ae136f40a8746f781b59151191a415b",
    "deepnote_cell_height": 61,
    "deepnote_cell_type": "code",
    "execution_context_id": "4a31f327-0b89-4407-a3a3-087c2902dcce",
    "execution_millis": 0,
    "execution_start": 1734958503657,
    "source_hash": "fb9a1dda",
    "tags": []
   },
   "outputs": [
    {
     "data": {
      "text/plain": [
       "'White, Mcclain and Cobb'"
      ]
     },
     "execution_count": 24,
     "metadata": {},
     "output_type": "execute_result"
    }
   ],
   "source": [
    "filt = df['Employee_City'] == 'Wardfort'\n",
    "df[filt]['Company_Name'].value_counts().idxmax()"
   ]
  },
  {
   "cell_type": "markdown",
   "metadata": {
    "cell_id": "f3c8730295bb422b9794785ae8c79fd0",
    "deepnote_cell_type": "text-cell-h3",
    "formattedRanges": [],
    "is_collapsed": false,
    "tags": []
   },
   "source": [
    "### 57. Change the Data type of 'Employee_Salary' column to float."
   ]
  },
  {
   "cell_type": "code",
   "execution_count": 25,
   "metadata": {
    "cell_id": "bc590b66a259467e9e93b6954092469c",
    "deepnote_cell_height": 61,
    "deepnote_cell_type": "code",
    "execution_context_id": "4a31f327-0b89-4407-a3a3-087c2902dcce",
    "execution_millis": 0,
    "execution_start": 1734958503705,
    "source_hash": "9c9715d8",
    "tags": []
   },
   "outputs": [],
   "source": [
    "df['Employee_Salary'] = df['Employee_Salary'].astype(float)"
   ]
  },
  {
   "cell_type": "markdown",
   "metadata": {
    "cell_id": "c1535ad1360c421399c466ad37e971a7",
    "deepnote_cell_type": "text-cell-h3",
    "formattedRanges": [],
    "is_collapsed": false,
    "tags": []
   },
   "source": [
    "### 58. Print the Employee_City with the most number of 'Production engineer'."
   ]
  },
  {
   "cell_type": "code",
   "execution_count": 26,
   "metadata": {
    "cell_id": "07626ee7eef94274891823d43b44e0f9",
    "deepnote_cell_height": 61,
    "deepnote_cell_type": "code",
    "execution_context_id": "4a31f327-0b89-4407-a3a3-087c2902dcce",
    "execution_millis": 0,
    "execution_start": 1734958503765,
    "source_hash": "d33fc248",
    "tags": []
   },
   "outputs": [
    {
     "data": {
      "text/plain": [
       "'Aliciafort'"
      ]
     },
     "execution_count": 26,
     "metadata": {},
     "output_type": "execute_result"
    }
   ],
   "source": [
    "filt = df['Employee_Job_Title'] == 'Production engineer'\n",
    "df[filt]['Employee_City'].value_counts().idxmax()"
   ]
  },
  {
   "cell_type": "markdown",
   "metadata": {
    "cell_id": "f4b77e6ee64e479eb8cd0bd2770459ef",
    "deepnote_cell_type": "text-cell-h3",
    "formattedRanges": [],
    "is_collapsed": false,
    "tags": []
   },
   "source": [
    "### 59. Print the Company_Name with the most number of Full-time Employees. "
   ]
  },
  {
   "cell_type": "code",
   "execution_count": 27,
   "metadata": {
    "cell_id": "d8be0e0eea87490b8d28dd279853d037",
    "deepnote_cell_height": 61,
    "deepnote_cell_type": "code",
    "deepnote_table_loading": false,
    "deepnote_table_state": {
     "cellFormattingRules": [],
     "columnDisplayNames": [],
     "columnOrder": [
      "Name",
      "Employee_Job_Title",
      "Employee_City",
      "Employee_Country",
      "Employee_Salary",
      "Employment_Status",
      "Employee_Rating"
     ],
     "conditionalFilters": [],
     "filters": [],
     "hiddenColumnIds": [],
     "pageIndex": 0,
     "pageSize": 10,
     "sortBy": [],
     "wrappedTextColumnIds": []
    },
    "execution_context_id": "4a31f327-0b89-4407-a3a3-087c2902dcce",
    "execution_millis": 3,
    "execution_start": 1734958503817,
    "source_hash": "2efdd34",
    "tags": []
   },
   "outputs": [
    {
     "data": {
      "text/plain": [
       "'Scott Inc'"
      ]
     },
     "execution_count": 27,
     "metadata": {},
     "output_type": "execute_result"
    }
   ],
   "source": [
    "g = df.groupby('Employment_Status')\n",
    "g.get_group('Full Time')['Company_Name'].value_counts().idxmax()"
   ]
  },
  {
   "cell_type": "markdown",
   "metadata": {
    "cell_id": "0a6939d8df9e4c81b1556af3ea4ef930",
    "deepnote_cell_type": "text-cell-h3",
    "formattedRanges": [],
    "is_collapsed": false,
    "tags": []
   },
   "source": [
    "### 60. Print the Company_Name with the highest average 'Employee_Rating'. "
   ]
  },
  {
   "cell_type": "code",
   "execution_count": 28,
   "metadata": {
    "cell_id": "ba81d2174d33472b9b226ffcc7f902ea",
    "deepnote_cell_height": 61,
    "deepnote_cell_type": "code",
    "execution_context_id": "4a31f327-0b89-4407-a3a3-087c2902dcce",
    "execution_millis": 1,
    "execution_start": 1734958503865,
    "source_hash": "85e3877e",
    "tags": []
   },
   "outputs": [
    {
     "data": {
      "text/plain": [
       "'Matthews Inc'"
      ]
     },
     "execution_count": 28,
     "metadata": {},
     "output_type": "execute_result"
    }
   ],
   "source": [
    "g = df.groupby('Company_Name')['Employee_Rating'].mean()\n",
    "g.idxmax()"
   ]
  },
  {
   "cell_type": "markdown",
   "metadata": {
    "cell_id": "cd99614b499741c2b001771a431481b2",
    "deepnote_cell_type": "text-cell-h3",
    "formattedRanges": [],
    "is_collapsed": false,
    "tags": []
   },
   "source": [
    "### 61. Print the number of employees working in 'Ricardomouth' and 'Kristaburgh' location combined."
   ]
  },
  {
   "cell_type": "code",
   "execution_count": 29,
   "metadata": {
    "cell_id": "113ac5d16e014afb8e27ebc515ce4b2f",
    "deepnote_cell_height": 61,
    "deepnote_cell_type": "code",
    "execution_context_id": "4a31f327-0b89-4407-a3a3-087c2902dcce",
    "execution_millis": 0,
    "execution_start": 1734958503961,
    "source_hash": "a2525ab9",
    "tags": []
   },
   "outputs": [
    {
     "data": {
      "text/plain": [
       "60256"
      ]
     },
     "execution_count": 29,
     "metadata": {},
     "output_type": "execute_result"
    }
   ],
   "source": [
    "filt = (df['Employee_City'] == 'Ricardomouth') | (df['Employee_City'] == 'Kristaburgh')\n",
    "df[filt].shape[0]"
   ]
  },
  {
   "cell_type": "markdown",
   "metadata": {
    "cell_id": "53f19229f2a545799d7c592f63c48112",
    "deepnote_cell_type": "text-cell-h3",
    "formattedRanges": [],
    "is_collapsed": false,
    "tags": []
   },
   "source": [
    "### 62. Print the distinct Company_Name corresponding to the 5 highest paid employees in the dataset. "
   ]
  },
  {
   "cell_type": "code",
   "execution_count": 30,
   "metadata": {
    "cell_id": "3cb88e28b011443c9cc1b16133782b19",
    "deepnote_cell_height": 61,
    "deepnote_cell_type": "code",
    "execution_context_id": "4a31f327-0b89-4407-a3a3-087c2902dcce",
    "execution_millis": 33,
    "execution_start": 1734958504009,
    "source_hash": "6bd5ccdf",
    "tags": []
   },
   "outputs": [
    {
     "data": {
      "text/plain": [
       "array(['Taylor-Ramos', 'Thomas-Spencer', 'White, Mcclain and Cobb',\n",
       "       'Campos, Reynolds and Mccormick'], dtype=object)"
      ]
     },
     "execution_count": 30,
     "metadata": {},
     "output_type": "execute_result"
    }
   ],
   "source": [
    "top_emp = df.sort_values(by='Employee_Salary', ascending=False).head(5)\n",
    "top_emp['Company_Name'].unique()"
   ]
  },
  {
   "cell_type": "markdown",
   "metadata": {
    "cell_id": "fbdd0dd34e09466290fd338a3250ae9b",
    "deepnote_cell_type": "text-cell-h3",
    "formattedRanges": [],
    "is_collapsed": false,
    "tags": []
   },
   "source": [
    "### 63. Check if there are any duplicate rows in the DataFrame. "
   ]
  },
  {
   "cell_type": "code",
   "execution_count": 31,
   "metadata": {
    "cell_id": "9e828567dea8484ba828d5befe425535",
    "deepnote_cell_height": 61,
    "deepnote_cell_type": "code",
    "execution_context_id": "4a31f327-0b89-4407-a3a3-087c2902dcce",
    "execution_millis": 126,
    "execution_start": 1734958504085,
    "source_hash": "4eac1fa1",
    "tags": []
   },
   "outputs": [
    {
     "data": {
      "text/plain": [
       "False"
      ]
     },
     "execution_count": 31,
     "metadata": {},
     "output_type": "execute_result"
    }
   ],
   "source": [
    "df.duplicated().any()"
   ]
  },
  {
   "cell_type": "markdown",
   "metadata": {
    "cell_id": "d4b76936949e4880be62ad77054c7b90",
    "deepnote_cell_type": "text-cell-h3",
    "formattedRanges": [],
    "is_collapsed": false,
    "tags": []
   },
   "source": [
    "### 64. Check if any of the columns has NaN values. "
   ]
  },
  {
   "cell_type": "code",
   "execution_count": 32,
   "metadata": {
    "cell_id": "3ced0998b6464f3bbfc719c1f3cd1f5e",
    "deepnote_cell_height": 61,
    "deepnote_cell_type": "code",
    "execution_context_id": "4a31f327-0b89-4407-a3a3-087c2902dcce",
    "execution_millis": 19,
    "execution_start": 1734958504253,
    "source_hash": "3ba3a669",
    "tags": []
   },
   "outputs": [
    {
     "data": {
      "text/plain": [
       "Name                  False\n",
       "Company_Name          False\n",
       "Employee_Job_Title    False\n",
       "Employee_City         False\n",
       "Employee_Country      False\n",
       "Employee_Salary       False\n",
       "Employment_Status     False\n",
       "Employee_Rating       False\n",
       "dtype: bool"
      ]
     },
     "execution_count": 32,
     "metadata": {},
     "output_type": "execute_result"
    }
   ],
   "source": [
    "df.isna().any()"
   ]
  },
  {
   "cell_type": "markdown",
   "metadata": {
    "cell_id": "b7622322e5964691b1659e63d185e150",
    "deepnote_cell_type": "text-cell-h3",
    "formattedRanges": [],
    "is_collapsed": false,
    "tags": []
   },
   "source": [
    "### 65. Print the data type of every column in the DataFrame."
   ]
  },
  {
   "cell_type": "code",
   "execution_count": 33,
   "metadata": {
    "cell_id": "0188d64f1c974f4385c7a3c9dcb1907a",
    "deepnote_cell_height": 61,
    "deepnote_cell_type": "code",
    "execution_context_id": "4a31f327-0b89-4407-a3a3-087c2902dcce",
    "execution_millis": 1,
    "execution_start": 1734958504317,
    "source_hash": "52430027",
    "tags": []
   },
   "outputs": [
    {
     "data": {
      "text/plain": [
       "Name                   object\n",
       "Company_Name           object\n",
       "Employee_Job_Title     object\n",
       "Employee_City          object\n",
       "Employee_Country       object\n",
       "Employee_Salary       float64\n",
       "Employment_Status      object\n",
       "Employee_Rating       float64\n",
       "dtype: object"
      ]
     },
     "execution_count": 33,
     "metadata": {},
     "output_type": "execute_result"
    }
   ],
   "source": [
    "df.dtypes"
   ]
  },
  {
   "cell_type": "markdown",
   "metadata": {
    "cell_id": "991701e3e4fe41e6bdab0504fc71a499",
    "deepnote_cell_type": "text-cell-h3",
    "formattedRanges": [],
    "is_collapsed": false,
    "tags": []
   },
   "source": [
    "### 66. Print the Company_Name column only as a Series"
   ]
  },
  {
   "cell_type": "code",
   "execution_count": 34,
   "metadata": {
    "cell_id": "e89c271af2ad4fe48d3272c986119a2f",
    "deepnote_cell_height": 61,
    "deepnote_cell_type": "code",
    "execution_context_id": "4a31f327-0b89-4407-a3a3-087c2902dcce",
    "execution_millis": 0,
    "execution_start": 1734958504369,
    "source_hash": "22fbe66d",
    "tags": []
   },
   "outputs": [
    {
     "data": {
      "text/plain": [
       "0                       James and Sons\n",
       "1                        Nichols-James\n",
       "2                            Scott Inc\n",
       "3         Johnston, Fleming and Tanner\n",
       "4             Baker, Allen and Edwards\n",
       "                      ...             \n",
       "299995                Bullock-Carrillo\n",
       "299996    Johnston, Fleming and Tanner\n",
       "299997                   Nichols-James\n",
       "299998                   Nichols-James\n",
       "299999                  James and Sons\n",
       "Name: Company_Name, Length: 300000, dtype: object"
      ]
     },
     "execution_count": 34,
     "metadata": {},
     "output_type": "execute_result"
    }
   ],
   "source": [
    "df['Company_Name']"
   ]
  },
  {
   "cell_type": "markdown",
   "metadata": {
    "cell_id": "713550116f6b4f57b3689ba6242897ce",
    "deepnote_cell_type": "text-cell-h3",
    "formattedRanges": [],
    "is_collapsed": false,
    "tags": []
   },
   "source": [
    "### 67. Print the Company_Name column only as a DataFrame"
   ]
  },
  {
   "cell_type": "code",
   "execution_count": 35,
   "metadata": {
    "cell_id": "82a3112bcd9445a9bfe7f4d981426535",
    "deepnote_cell_height": 61,
    "deepnote_cell_type": "code",
    "execution_context_id": "4a31f327-0b89-4407-a3a3-087c2902dcce",
    "execution_millis": 0,
    "execution_start": 1734958504421,
    "source_hash": "d474fa34",
    "tags": []
   },
   "outputs": [
    {
     "data": {
      "text/html": [
       "<div>\n",
       "<style scoped>\n",
       "    .dataframe tbody tr th:only-of-type {\n",
       "        vertical-align: middle;\n",
       "    }\n",
       "\n",
       "    .dataframe tbody tr th {\n",
       "        vertical-align: top;\n",
       "    }\n",
       "\n",
       "    .dataframe thead th {\n",
       "        text-align: right;\n",
       "    }\n",
       "</style>\n",
       "<table border=\"1\" class=\"dataframe\">\n",
       "  <thead>\n",
       "    <tr style=\"text-align: right;\">\n",
       "      <th></th>\n",
       "      <th>Company_Name</th>\n",
       "    </tr>\n",
       "  </thead>\n",
       "  <tbody>\n",
       "    <tr>\n",
       "      <th>0</th>\n",
       "      <td>James and Sons</td>\n",
       "    </tr>\n",
       "    <tr>\n",
       "      <th>1</th>\n",
       "      <td>Nichols-James</td>\n",
       "    </tr>\n",
       "    <tr>\n",
       "      <th>2</th>\n",
       "      <td>Scott Inc</td>\n",
       "    </tr>\n",
       "    <tr>\n",
       "      <th>3</th>\n",
       "      <td>Johnston, Fleming and Tanner</td>\n",
       "    </tr>\n",
       "    <tr>\n",
       "      <th>4</th>\n",
       "      <td>Baker, Allen and Edwards</td>\n",
       "    </tr>\n",
       "    <tr>\n",
       "      <th>...</th>\n",
       "      <td>...</td>\n",
       "    </tr>\n",
       "    <tr>\n",
       "      <th>299995</th>\n",
       "      <td>Bullock-Carrillo</td>\n",
       "    </tr>\n",
       "    <tr>\n",
       "      <th>299996</th>\n",
       "      <td>Johnston, Fleming and Tanner</td>\n",
       "    </tr>\n",
       "    <tr>\n",
       "      <th>299997</th>\n",
       "      <td>Nichols-James</td>\n",
       "    </tr>\n",
       "    <tr>\n",
       "      <th>299998</th>\n",
       "      <td>Nichols-James</td>\n",
       "    </tr>\n",
       "    <tr>\n",
       "      <th>299999</th>\n",
       "      <td>James and Sons</td>\n",
       "    </tr>\n",
       "  </tbody>\n",
       "</table>\n",
       "<p>300000 rows × 1 columns</p>\n",
       "</div>"
      ],
      "text/plain": [
       "                        Company_Name\n",
       "0                     James and Sons\n",
       "1                      Nichols-James\n",
       "2                          Scott Inc\n",
       "3       Johnston, Fleming and Tanner\n",
       "4           Baker, Allen and Edwards\n",
       "...                              ...\n",
       "299995              Bullock-Carrillo\n",
       "299996  Johnston, Fleming and Tanner\n",
       "299997                 Nichols-James\n",
       "299998                 Nichols-James\n",
       "299999                James and Sons\n",
       "\n",
       "[300000 rows x 1 columns]"
      ]
     },
     "execution_count": 35,
     "metadata": {},
     "output_type": "execute_result"
    }
   ],
   "source": [
    "df[['Company_Name']]"
   ]
  },
  {
   "cell_type": "markdown",
   "metadata": {
    "cell_id": "31e1fb337c5648a58938087813179515",
    "deepnote_cell_type": "text-cell-h3",
    "formattedRanges": [],
    "is_collapsed": false,
    "tags": []
   },
   "source": [
    "### 68. Select the 'Employee_Job_Title' and 'Employee_City' column. "
   ]
  },
  {
   "cell_type": "code",
   "execution_count": 36,
   "metadata": {
    "cell_id": "8a54a41038614793afa1e115d0f437cf",
    "deepnote_cell_height": 61,
    "deepnote_cell_type": "code",
    "execution_context_id": "4a31f327-0b89-4407-a3a3-087c2902dcce",
    "execution_millis": 0,
    "execution_start": 1734958504473,
    "source_hash": "4519134d",
    "tags": []
   },
   "outputs": [
    {
     "data": {
      "text/html": [
       "<div>\n",
       "<style scoped>\n",
       "    .dataframe tbody tr th:only-of-type {\n",
       "        vertical-align: middle;\n",
       "    }\n",
       "\n",
       "    .dataframe tbody tr th {\n",
       "        vertical-align: top;\n",
       "    }\n",
       "\n",
       "    .dataframe thead th {\n",
       "        text-align: right;\n",
       "    }\n",
       "</style>\n",
       "<table border=\"1\" class=\"dataframe\">\n",
       "  <thead>\n",
       "    <tr style=\"text-align: right;\">\n",
       "      <th></th>\n",
       "      <th>Employee_Job_Title</th>\n",
       "      <th>Employee_City</th>\n",
       "    </tr>\n",
       "  </thead>\n",
       "  <tbody>\n",
       "    <tr>\n",
       "      <th>0</th>\n",
       "      <td>Equities trader</td>\n",
       "      <td>New Russellton</td>\n",
       "    </tr>\n",
       "    <tr>\n",
       "      <th>1</th>\n",
       "      <td>Diplomatic Services operational officer</td>\n",
       "      <td>North Melissafurt</td>\n",
       "    </tr>\n",
       "    <tr>\n",
       "      <th>2</th>\n",
       "      <td>Regulatory affairs officer</td>\n",
       "      <td>Wardfort</td>\n",
       "    </tr>\n",
       "    <tr>\n",
       "      <th>3</th>\n",
       "      <td>Production engineer</td>\n",
       "      <td>West Jamesview</td>\n",
       "    </tr>\n",
       "    <tr>\n",
       "      <th>4</th>\n",
       "      <td>Production engineer</td>\n",
       "      <td>Whiteside</td>\n",
       "    </tr>\n",
       "    <tr>\n",
       "      <th>...</th>\n",
       "      <td>...</td>\n",
       "      <td>...</td>\n",
       "    </tr>\n",
       "    <tr>\n",
       "      <th>299995</th>\n",
       "      <td>Optometrist</td>\n",
       "      <td>North Melissafurt</td>\n",
       "    </tr>\n",
       "    <tr>\n",
       "      <th>299996</th>\n",
       "      <td>Administrator</td>\n",
       "      <td>Aliciafort</td>\n",
       "    </tr>\n",
       "    <tr>\n",
       "      <th>299997</th>\n",
       "      <td>Administrator</td>\n",
       "      <td>New Cindychester</td>\n",
       "    </tr>\n",
       "    <tr>\n",
       "      <th>299998</th>\n",
       "      <td>Make</td>\n",
       "      <td>Whitakerbury</td>\n",
       "    </tr>\n",
       "    <tr>\n",
       "      <th>299999</th>\n",
       "      <td>Actuary</td>\n",
       "      <td>New Russellton</td>\n",
       "    </tr>\n",
       "  </tbody>\n",
       "</table>\n",
       "<p>300000 rows × 2 columns</p>\n",
       "</div>"
      ],
      "text/plain": [
       "                             Employee_Job_Title      Employee_City\n",
       "0                               Equities trader     New Russellton\n",
       "1       Diplomatic Services operational officer  North Melissafurt\n",
       "2                    Regulatory affairs officer           Wardfort\n",
       "3                           Production engineer     West Jamesview\n",
       "4                           Production engineer          Whiteside\n",
       "...                                         ...                ...\n",
       "299995                              Optometrist  North Melissafurt\n",
       "299996                            Administrator         Aliciafort\n",
       "299997                            Administrator   New Cindychester\n",
       "299998                                     Make       Whitakerbury\n",
       "299999                                  Actuary     New Russellton\n",
       "\n",
       "[300000 rows x 2 columns]"
      ]
     },
     "execution_count": 36,
     "metadata": {},
     "output_type": "execute_result"
    }
   ],
   "source": [
    "df[['Employee_Job_Title', 'Employee_City']]"
   ]
  },
  {
   "cell_type": "markdown",
   "metadata": {
    "cell_id": "046e024a3d6740c3ae7f9bac8eae94d5",
    "deepnote_cell_type": "text-cell-h3",
    "formattedRanges": [],
    "is_collapsed": false,
    "tags": []
   },
   "source": [
    "### 69. Print the number of employees with Employee_Rating greater than the average Employee_Rating"
   ]
  },
  {
   "cell_type": "code",
   "execution_count": 37,
   "metadata": {
    "cell_id": "a59bc5cd4a46456cbc2a238838c96a94",
    "deepnote_cell_height": 61,
    "deepnote_cell_type": "code",
    "execution_context_id": "4a31f327-0b89-4407-a3a3-087c2902dcce",
    "execution_millis": 0,
    "execution_start": 1734958504521,
    "source_hash": "d07508c9",
    "tags": []
   },
   "outputs": [
    {
     "data": {
      "text/plain": [
       "147548"
      ]
     },
     "execution_count": 37,
     "metadata": {},
     "output_type": "execute_result"
    }
   ],
   "source": [
    "filt = df['Employee_Rating'] > df['Employee_Rating'].mean()\n",
    "df[filt].shape[0]"
   ]
  },
  {
   "cell_type": "markdown",
   "metadata": {
    "cell_id": "b02b565fe00a4315bf71c0d0279da3e4",
    "deepnote_cell_type": "text-cell-h3",
    "formattedRanges": [],
    "is_collapsed": false,
    "tags": []
   },
   "source": [
    "### 70. Find the employee which has the maximum salary among the ones with  the minimum Employee_Rating "
   ]
  },
  {
   "cell_type": "code",
   "execution_count": 38,
   "metadata": {
    "cell_id": "3cb12b571b3542de9e894a21233da9e6",
    "deepnote_cell_height": 61,
    "deepnote_cell_type": "code",
    "deepnote_table_loading": false,
    "deepnote_table_state": {
     "cellFormattingRules": [],
     "columnDisplayNames": [],
     "columnOrder": [
      "Name",
      "Company_Name",
      "Employee_Job_Title",
      "Employee_City",
      "Employee_Country",
      "Employee_Salary",
      "Employment_Status",
      "Employee_Rating"
     ],
     "conditionalFilters": [],
     "filters": [],
     "hiddenColumnIds": [],
     "pageIndex": 0,
     "pageSize": 10,
     "sortBy": [],
     "wrappedTextColumnIds": []
    },
    "execution_context_id": "4a31f327-0b89-4407-a3a3-087c2902dcce",
    "execution_millis": 1,
    "execution_start": 1734958504569,
    "source_hash": "7e0f0466",
    "tags": []
   },
   "outputs": [
    {
     "data": {
      "text/html": [
       "<div>\n",
       "<style scoped>\n",
       "    .dataframe tbody tr th:only-of-type {\n",
       "        vertical-align: middle;\n",
       "    }\n",
       "\n",
       "    .dataframe tbody tr th {\n",
       "        vertical-align: top;\n",
       "    }\n",
       "\n",
       "    .dataframe thead th {\n",
       "        text-align: right;\n",
       "    }\n",
       "</style>\n",
       "<table border=\"1\" class=\"dataframe\">\n",
       "  <thead>\n",
       "    <tr style=\"text-align: right;\">\n",
       "      <th></th>\n",
       "      <th>Name</th>\n",
       "      <th>Company_Name</th>\n",
       "      <th>Employee_Job_Title</th>\n",
       "      <th>Employee_City</th>\n",
       "      <th>Employee_Country</th>\n",
       "      <th>Employee_Salary</th>\n",
       "      <th>Employment_Status</th>\n",
       "      <th>Employee_Rating</th>\n",
       "    </tr>\n",
       "  </thead>\n",
       "  <tbody>\n",
       "    <tr>\n",
       "      <th>240878</th>\n",
       "      <td>Austin Poole</td>\n",
       "      <td>White, Mcclain and Cobb</td>\n",
       "      <td>Administrator</td>\n",
       "      <td>Whiteside</td>\n",
       "      <td>Saint Kitts and Nevis</td>\n",
       "      <td>999690.0</td>\n",
       "      <td>Intern</td>\n",
       "      <td>0.0</td>\n",
       "    </tr>\n",
       "  </tbody>\n",
       "</table>\n",
       "</div>"
      ],
      "text/plain": [
       "                Name             Company_Name Employee_Job_Title  \\\n",
       "240878  Austin Poole  White, Mcclain and Cobb      Administrator   \n",
       "\n",
       "       Employee_City       Employee_Country  Employee_Salary  \\\n",
       "240878     Whiteside  Saint Kitts and Nevis         999690.0   \n",
       "\n",
       "       Employment_Status  Employee_Rating  \n",
       "240878            Intern              0.0  "
      ]
     },
     "execution_count": 38,
     "metadata": {},
     "output_type": "execute_result"
    }
   ],
   "source": [
    "g = df.groupby('Employee_Rating')\n",
    "min_ratings = g.get_group(df['Employee_Rating'].min())\n",
    "min_ratings[min_ratings['Employee_Salary'] == min_ratings['Employee_Salary'].max()]"
   ]
  },
  {
   "cell_type": "markdown",
   "metadata": {
    "cell_id": "6ecba32a46dd4d6eb76de8acc14ba8c2",
    "deepnote_cell_type": "text-cell-h3",
    "formattedRanges": [],
    "is_collapsed": false,
    "tags": []
   },
   "source": [
    "### 71. Sort the DataFrame in ascending order of Employee_Salary"
   ]
  },
  {
   "cell_type": "code",
   "execution_count": 39,
   "metadata": {
    "cell_id": "57de32de432e4966916b378a7ce6074c",
    "deepnote_cell_height": 61,
    "deepnote_cell_type": "code",
    "execution_context_id": "4a31f327-0b89-4407-a3a3-087c2902dcce",
    "execution_millis": 93,
    "execution_start": 1734958504617,
    "source_hash": "a45bee91",
    "tags": []
   },
   "outputs": [
    {
     "data": {
      "text/html": [
       "<div>\n",
       "<style scoped>\n",
       "    .dataframe tbody tr th:only-of-type {\n",
       "        vertical-align: middle;\n",
       "    }\n",
       "\n",
       "    .dataframe tbody tr th {\n",
       "        vertical-align: top;\n",
       "    }\n",
       "\n",
       "    .dataframe thead th {\n",
       "        text-align: right;\n",
       "    }\n",
       "</style>\n",
       "<table border=\"1\" class=\"dataframe\">\n",
       "  <thead>\n",
       "    <tr style=\"text-align: right;\">\n",
       "      <th></th>\n",
       "      <th>Name</th>\n",
       "      <th>Company_Name</th>\n",
       "      <th>Employee_Job_Title</th>\n",
       "      <th>Employee_City</th>\n",
       "      <th>Employee_Country</th>\n",
       "      <th>Employee_Salary</th>\n",
       "      <th>Employment_Status</th>\n",
       "      <th>Employee_Rating</th>\n",
       "    </tr>\n",
       "  </thead>\n",
       "  <tbody>\n",
       "    <tr>\n",
       "      <th>54531</th>\n",
       "      <td>Kristen Vasquez</td>\n",
       "      <td>White, Mcclain and Cobb</td>\n",
       "      <td>Armed forces logistics/support/administrative ...</td>\n",
       "      <td>Wardfort</td>\n",
       "      <td>Bermuda</td>\n",
       "      <td>0.0</td>\n",
       "      <td>Full Time</td>\n",
       "      <td>3.4</td>\n",
       "    </tr>\n",
       "    <tr>\n",
       "      <th>205070</th>\n",
       "      <td>Courtney Singleton</td>\n",
       "      <td>White, Mcclain and Cobb</td>\n",
       "      <td>Garment/textile technologist</td>\n",
       "      <td>New Cindychester</td>\n",
       "      <td>Ethiopia</td>\n",
       "      <td>0.0</td>\n",
       "      <td>Full Time</td>\n",
       "      <td>2.8</td>\n",
       "    </tr>\n",
       "    <tr>\n",
       "      <th>185700</th>\n",
       "      <td>Vanessa Wu</td>\n",
       "      <td>Campos, Reynolds and Mccormick</td>\n",
       "      <td>Patent examiner</td>\n",
       "      <td>North Melissafurt</td>\n",
       "      <td>Zambia</td>\n",
       "      <td>10.0</td>\n",
       "      <td>Full Time</td>\n",
       "      <td>1.3</td>\n",
       "    </tr>\n",
       "    <tr>\n",
       "      <th>226792</th>\n",
       "      <td>Penny Meza</td>\n",
       "      <td>Wallace, Smith and Shepard</td>\n",
       "      <td>Trading standards officer</td>\n",
       "      <td>Wardfort</td>\n",
       "      <td>Albania</td>\n",
       "      <td>10.0</td>\n",
       "      <td>Full Time</td>\n",
       "      <td>0.7</td>\n",
       "    </tr>\n",
       "    <tr>\n",
       "      <th>229395</th>\n",
       "      <td>Grace Smith</td>\n",
       "      <td>Johnston, Fleming and Tanner</td>\n",
       "      <td>Trading standards officer</td>\n",
       "      <td>West Jamesview</td>\n",
       "      <td>Libyan Arab Jamahiriya</td>\n",
       "      <td>10.0</td>\n",
       "      <td>Intern</td>\n",
       "      <td>1.1</td>\n",
       "    </tr>\n",
       "    <tr>\n",
       "      <th>...</th>\n",
       "      <td>...</td>\n",
       "      <td>...</td>\n",
       "      <td>...</td>\n",
       "      <td>...</td>\n",
       "      <td>...</td>\n",
       "      <td>...</td>\n",
       "      <td>...</td>\n",
       "      <td>...</td>\n",
       "    </tr>\n",
       "    <tr>\n",
       "      <th>23536</th>\n",
       "      <td>Dennis Sexton</td>\n",
       "      <td>Campos, Reynolds and Mccormick</td>\n",
       "      <td>Diplomatic Services operational officer</td>\n",
       "      <td>Kristaburgh</td>\n",
       "      <td>United Kingdom</td>\n",
       "      <td>999970.0</td>\n",
       "      <td>Full Time</td>\n",
       "      <td>0.9</td>\n",
       "    </tr>\n",
       "    <tr>\n",
       "      <th>50461</th>\n",
       "      <td>Logan Jackson</td>\n",
       "      <td>White, Mcclain and Cobb</td>\n",
       "      <td>Ergonomist</td>\n",
       "      <td>Wardfort</td>\n",
       "      <td>Saint Helena</td>\n",
       "      <td>999980.0</td>\n",
       "      <td>Full Time</td>\n",
       "      <td>2.0</td>\n",
       "    </tr>\n",
       "    <tr>\n",
       "      <th>153993</th>\n",
       "      <td>Jason Jenkins</td>\n",
       "      <td>Taylor-Ramos</td>\n",
       "      <td>Sales promotion account executive</td>\n",
       "      <td>Aliciafort</td>\n",
       "      <td>Pakistan</td>\n",
       "      <td>999980.0</td>\n",
       "      <td>Full Time</td>\n",
       "      <td>2.6</td>\n",
       "    </tr>\n",
       "    <tr>\n",
       "      <th>51642</th>\n",
       "      <td>Richard Kennedy</td>\n",
       "      <td>Thomas-Spencer</td>\n",
       "      <td>Energy manager</td>\n",
       "      <td>Aliciafort</td>\n",
       "      <td>Cook Islands</td>\n",
       "      <td>999980.0</td>\n",
       "      <td>Full Time</td>\n",
       "      <td>2.4</td>\n",
       "    </tr>\n",
       "    <tr>\n",
       "      <th>70356</th>\n",
       "      <td>Anna Lawson</td>\n",
       "      <td>Taylor-Ramos</td>\n",
       "      <td>Production engineer</td>\n",
       "      <td>Kristaburgh</td>\n",
       "      <td>Lesotho</td>\n",
       "      <td>999990.0</td>\n",
       "      <td>Full Time</td>\n",
       "      <td>4.0</td>\n",
       "    </tr>\n",
       "  </tbody>\n",
       "</table>\n",
       "<p>300000 rows × 8 columns</p>\n",
       "</div>"
      ],
      "text/plain": [
       "                      Name                    Company_Name  \\\n",
       "54531      Kristen Vasquez         White, Mcclain and Cobb   \n",
       "205070  Courtney Singleton         White, Mcclain and Cobb   \n",
       "185700          Vanessa Wu  Campos, Reynolds and Mccormick   \n",
       "226792          Penny Meza      Wallace, Smith and Shepard   \n",
       "229395         Grace Smith    Johnston, Fleming and Tanner   \n",
       "...                    ...                             ...   \n",
       "23536        Dennis Sexton  Campos, Reynolds and Mccormick   \n",
       "50461        Logan Jackson         White, Mcclain and Cobb   \n",
       "153993       Jason Jenkins                    Taylor-Ramos   \n",
       "51642      Richard Kennedy                  Thomas-Spencer   \n",
       "70356          Anna Lawson                    Taylor-Ramos   \n",
       "\n",
       "                                       Employee_Job_Title      Employee_City  \\\n",
       "54531   Armed forces logistics/support/administrative ...           Wardfort   \n",
       "205070                       Garment/textile technologist   New Cindychester   \n",
       "185700                                    Patent examiner  North Melissafurt   \n",
       "226792                          Trading standards officer           Wardfort   \n",
       "229395                          Trading standards officer     West Jamesview   \n",
       "...                                                   ...                ...   \n",
       "23536             Diplomatic Services operational officer        Kristaburgh   \n",
       "50461                                          Ergonomist           Wardfort   \n",
       "153993                  Sales promotion account executive         Aliciafort   \n",
       "51642                                      Energy manager         Aliciafort   \n",
       "70356                                 Production engineer        Kristaburgh   \n",
       "\n",
       "              Employee_Country  Employee_Salary Employment_Status  \\\n",
       "54531                  Bermuda              0.0         Full Time   \n",
       "205070                Ethiopia              0.0         Full Time   \n",
       "185700                  Zambia             10.0         Full Time   \n",
       "226792                 Albania             10.0         Full Time   \n",
       "229395  Libyan Arab Jamahiriya             10.0            Intern   \n",
       "...                        ...              ...               ...   \n",
       "23536           United Kingdom         999970.0         Full Time   \n",
       "50461             Saint Helena         999980.0         Full Time   \n",
       "153993                Pakistan         999980.0         Full Time   \n",
       "51642             Cook Islands         999980.0         Full Time   \n",
       "70356                  Lesotho         999990.0         Full Time   \n",
       "\n",
       "        Employee_Rating  \n",
       "54531               3.4  \n",
       "205070              2.8  \n",
       "185700              1.3  \n",
       "226792              0.7  \n",
       "229395              1.1  \n",
       "...                 ...  \n",
       "23536               0.9  \n",
       "50461               2.0  \n",
       "153993              2.6  \n",
       "51642               2.4  \n",
       "70356               4.0  \n",
       "\n",
       "[300000 rows x 8 columns]"
      ]
     },
     "execution_count": 39,
     "metadata": {},
     "output_type": "execute_result"
    }
   ],
   "source": [
    "df.sort_values(by='Employee_Salary')"
   ]
  },
  {
   "cell_type": "markdown",
   "metadata": {
    "cell_id": "6fef9af1021a4d209cbb1bedbc43bf42",
    "deepnote_cell_type": "text-cell-h3",
    "formattedRanges": [],
    "is_collapsed": false,
    "tags": []
   },
   "source": [
    "### 72. Sort the DataFrame in descending order of Employee_Rating"
   ]
  },
  {
   "cell_type": "code",
   "execution_count": 40,
   "metadata": {
    "cell_id": "f0c7bbb36fe842e48a6c1f5c6a9f6288",
    "deepnote_cell_height": 61,
    "deepnote_cell_type": "code",
    "execution_context_id": "4a31f327-0b89-4407-a3a3-087c2902dcce",
    "execution_millis": 75,
    "execution_start": 1734958504757,
    "source_hash": "e43500ce",
    "tags": []
   },
   "outputs": [
    {
     "data": {
      "text/html": [
       "<div>\n",
       "<style scoped>\n",
       "    .dataframe tbody tr th:only-of-type {\n",
       "        vertical-align: middle;\n",
       "    }\n",
       "\n",
       "    .dataframe tbody tr th {\n",
       "        vertical-align: top;\n",
       "    }\n",
       "\n",
       "    .dataframe thead th {\n",
       "        text-align: right;\n",
       "    }\n",
       "</style>\n",
       "<table border=\"1\" class=\"dataframe\">\n",
       "  <thead>\n",
       "    <tr style=\"text-align: right;\">\n",
       "      <th></th>\n",
       "      <th>Name</th>\n",
       "      <th>Company_Name</th>\n",
       "      <th>Employee_Job_Title</th>\n",
       "      <th>Employee_City</th>\n",
       "      <th>Employee_Country</th>\n",
       "      <th>Employee_Salary</th>\n",
       "      <th>Employment_Status</th>\n",
       "      <th>Employee_Rating</th>\n",
       "    </tr>\n",
       "  </thead>\n",
       "  <tbody>\n",
       "    <tr>\n",
       "      <th>222544</th>\n",
       "      <td>Laura Lopez</td>\n",
       "      <td>Scott Inc</td>\n",
       "      <td>Equities trader</td>\n",
       "      <td>Whiteside</td>\n",
       "      <td>British Virgin Islands</td>\n",
       "      <td>271140.0</td>\n",
       "      <td>Full Time</td>\n",
       "      <td>5.0</td>\n",
       "    </tr>\n",
       "    <tr>\n",
       "      <th>26453</th>\n",
       "      <td>Adriana Ferrell</td>\n",
       "      <td>Johnston, Fleming and Tanner</td>\n",
       "      <td>Ergonomist</td>\n",
       "      <td>Aliciafort</td>\n",
       "      <td>Gabon</td>\n",
       "      <td>678800.0</td>\n",
       "      <td>Intern</td>\n",
       "      <td>5.0</td>\n",
       "    </tr>\n",
       "    <tr>\n",
       "      <th>141265</th>\n",
       "      <td>Russell Dorsey</td>\n",
       "      <td>Baker, Allen and Edwards</td>\n",
       "      <td>Optometrist</td>\n",
       "      <td>Aliciafort</td>\n",
       "      <td>Morocco</td>\n",
       "      <td>816320.0</td>\n",
       "      <td>Full Time</td>\n",
       "      <td>5.0</td>\n",
       "    </tr>\n",
       "    <tr>\n",
       "      <th>184624</th>\n",
       "      <td>Katherine Jenkins</td>\n",
       "      <td>Matthews Inc</td>\n",
       "      <td>Make</td>\n",
       "      <td>New Cindychester</td>\n",
       "      <td>Nauru</td>\n",
       "      <td>498850.0</td>\n",
       "      <td>Full Time</td>\n",
       "      <td>5.0</td>\n",
       "    </tr>\n",
       "    <tr>\n",
       "      <th>70533</th>\n",
       "      <td>Brittney Greene</td>\n",
       "      <td>James and Sons</td>\n",
       "      <td>Energy manager</td>\n",
       "      <td>Ricardomouth</td>\n",
       "      <td>Bulgaria</td>\n",
       "      <td>332780.0</td>\n",
       "      <td>Full Time</td>\n",
       "      <td>5.0</td>\n",
       "    </tr>\n",
       "    <tr>\n",
       "      <th>...</th>\n",
       "      <td>...</td>\n",
       "      <td>...</td>\n",
       "      <td>...</td>\n",
       "      <td>...</td>\n",
       "      <td>...</td>\n",
       "      <td>...</td>\n",
       "      <td>...</td>\n",
       "      <td>...</td>\n",
       "    </tr>\n",
       "    <tr>\n",
       "      <th>50012</th>\n",
       "      <td>Sara King</td>\n",
       "      <td>Matthews Inc</td>\n",
       "      <td>Diplomatic Services operational officer</td>\n",
       "      <td>Whiteside</td>\n",
       "      <td>Iran</td>\n",
       "      <td>986490.0</td>\n",
       "      <td>Intern</td>\n",
       "      <td>0.0</td>\n",
       "    </tr>\n",
       "    <tr>\n",
       "      <th>289392</th>\n",
       "      <td>Heather Paul</td>\n",
       "      <td>Nelson-Li</td>\n",
       "      <td>Make</td>\n",
       "      <td>Wardfort</td>\n",
       "      <td>French Southern Territories</td>\n",
       "      <td>712720.0</td>\n",
       "      <td>Full Time</td>\n",
       "      <td>0.0</td>\n",
       "    </tr>\n",
       "    <tr>\n",
       "      <th>14752</th>\n",
       "      <td>Kathryn Goodwin</td>\n",
       "      <td>Baker, Allen and Edwards</td>\n",
       "      <td>Energy manager</td>\n",
       "      <td>New Cindychester</td>\n",
       "      <td>Moldova</td>\n",
       "      <td>557330.0</td>\n",
       "      <td>Full Time</td>\n",
       "      <td>0.0</td>\n",
       "    </tr>\n",
       "    <tr>\n",
       "      <th>204854</th>\n",
       "      <td>Nina Yang</td>\n",
       "      <td>Wallace, Smith and Shepard</td>\n",
       "      <td>Armed forces logistics/support/administrative ...</td>\n",
       "      <td>Wardfort</td>\n",
       "      <td>Swaziland</td>\n",
       "      <td>744300.0</td>\n",
       "      <td>Intern</td>\n",
       "      <td>0.0</td>\n",
       "    </tr>\n",
       "    <tr>\n",
       "      <th>242616</th>\n",
       "      <td>Melissa Johnston</td>\n",
       "      <td>Matthews Inc</td>\n",
       "      <td>Diplomatic Services operational officer</td>\n",
       "      <td>Whiteside</td>\n",
       "      <td>Macao</td>\n",
       "      <td>704700.0</td>\n",
       "      <td>Intern</td>\n",
       "      <td>0.0</td>\n",
       "    </tr>\n",
       "  </tbody>\n",
       "</table>\n",
       "<p>300000 rows × 8 columns</p>\n",
       "</div>"
      ],
      "text/plain": [
       "                     Name                  Company_Name  \\\n",
       "222544        Laura Lopez                     Scott Inc   \n",
       "26453     Adriana Ferrell  Johnston, Fleming and Tanner   \n",
       "141265     Russell Dorsey      Baker, Allen and Edwards   \n",
       "184624  Katherine Jenkins                  Matthews Inc   \n",
       "70533     Brittney Greene                James and Sons   \n",
       "...                   ...                           ...   \n",
       "50012           Sara King                  Matthews Inc   \n",
       "289392       Heather Paul                     Nelson-Li   \n",
       "14752     Kathryn Goodwin      Baker, Allen and Edwards   \n",
       "204854          Nina Yang    Wallace, Smith and Shepard   \n",
       "242616   Melissa Johnston                  Matthews Inc   \n",
       "\n",
       "                                       Employee_Job_Title     Employee_City  \\\n",
       "222544                                    Equities trader         Whiteside   \n",
       "26453                                          Ergonomist        Aliciafort   \n",
       "141265                                        Optometrist        Aliciafort   \n",
       "184624                                               Make  New Cindychester   \n",
       "70533                                      Energy manager      Ricardomouth   \n",
       "...                                                   ...               ...   \n",
       "50012             Diplomatic Services operational officer         Whiteside   \n",
       "289392                                               Make          Wardfort   \n",
       "14752                                      Energy manager  New Cindychester   \n",
       "204854  Armed forces logistics/support/administrative ...          Wardfort   \n",
       "242616            Diplomatic Services operational officer         Whiteside   \n",
       "\n",
       "                   Employee_Country  Employee_Salary Employment_Status  \\\n",
       "222544       British Virgin Islands         271140.0         Full Time   \n",
       "26453                         Gabon         678800.0            Intern   \n",
       "141265                      Morocco         816320.0         Full Time   \n",
       "184624                        Nauru         498850.0         Full Time   \n",
       "70533                      Bulgaria         332780.0         Full Time   \n",
       "...                             ...              ...               ...   \n",
       "50012                          Iran         986490.0            Intern   \n",
       "289392  French Southern Territories         712720.0         Full Time   \n",
       "14752                       Moldova         557330.0         Full Time   \n",
       "204854                    Swaziland         744300.0            Intern   \n",
       "242616                        Macao         704700.0            Intern   \n",
       "\n",
       "        Employee_Rating  \n",
       "222544              5.0  \n",
       "26453               5.0  \n",
       "141265              5.0  \n",
       "184624              5.0  \n",
       "70533               5.0  \n",
       "...                 ...  \n",
       "50012               0.0  \n",
       "289392              0.0  \n",
       "14752               0.0  \n",
       "204854              0.0  \n",
       "242616              0.0  \n",
       "\n",
       "[300000 rows x 8 columns]"
      ]
     },
     "execution_count": 40,
     "metadata": {},
     "output_type": "execute_result"
    }
   ],
   "source": [
    "df.sort_values(by='Employee_Rating', ascending=False)"
   ]
  },
  {
   "cell_type": "markdown",
   "metadata": {
    "cell_id": "5e7b957d886648dab0c5529c87a69e30",
    "deepnote_cell_type": "text-cell-h3",
    "formattedRanges": [],
    "is_collapsed": false,
    "tags": []
   },
   "source": [
    "### 73. Print the name of 100th employee after sorting on Name"
   ]
  },
  {
   "cell_type": "code",
   "execution_count": 41,
   "metadata": {
    "cell_id": "f74b11d0ca864fce8ddaef39dc8720be",
    "deepnote_cell_height": 61,
    "deepnote_cell_type": "code",
    "deepnote_table_loading": false,
    "deepnote_table_state": {
     "cellFormattingRules": [],
     "columnDisplayNames": [],
     "columnOrder": [
      "Name",
      "Company_Name",
      "Employee_Job_Title",
      "Employee_City",
      "Employee_Country",
      "Employee_Salary",
      "Employment_Status",
      "Employee_Rating"
     ],
     "conditionalFilters": [],
     "filters": [],
     "hiddenColumnIds": [],
     "pageIndex": 9,
     "pageSize": 10,
     "sortBy": [],
     "wrappedTextColumnIds": []
    },
    "execution_context_id": "0f47c3fb-5162-489e-a3a4-f4fc5f716c6d",
    "execution_millis": 363,
    "execution_start": 1734958504881,
    "source_hash": "48cb7428",
    "tags": []
   },
   "outputs": [
    {
     "data": {
      "text/plain": [
       "Name                        Aaron Brown\n",
       "Company_Name          Marshall-Holloway\n",
       "Employee_Job_Title           Ergonomist\n",
       "Employee_City            West Jamesview\n",
       "Employee_Country       Christmas Island\n",
       "Employee_Salary                739840.0\n",
       "Employment_Status                Intern\n",
       "Employee_Rating                     0.0\n",
       "Name: 81143, dtype: object"
      ]
     },
     "execution_count": 41,
     "metadata": {},
     "output_type": "execute_result"
    }
   ],
   "source": [
    "n_sort = df.sort_values(by='Name')\n",
    "n_sort.iloc[99]"
   ]
  },
  {
   "cell_type": "markdown",
   "metadata": {
    "cell_id": "c2aeddec73b4416e87840413435e4ac4",
    "deepnote_cell_type": "text-cell-h3",
    "formattedRanges": [],
    "is_collapsed": false,
    "tags": []
   },
   "source": [
    "### 74. Print the first 5 rows of the first 5 columns. "
   ]
  },
  {
   "cell_type": "code",
   "execution_count": 42,
   "metadata": {
    "cell_id": "30417954e1da4f4c93566b7c6368aa28",
    "deepnote_cell_height": 61,
    "deepnote_cell_type": "code",
    "execution_context_id": "0f47c3fb-5162-489e-a3a4-f4fc5f716c6d",
    "execution_millis": 0,
    "execution_start": 1734958505289,
    "source_hash": "fd190221",
    "tags": []
   },
   "outputs": [
    {
     "data": {
      "text/html": [
       "<div>\n",
       "<style scoped>\n",
       "    .dataframe tbody tr th:only-of-type {\n",
       "        vertical-align: middle;\n",
       "    }\n",
       "\n",
       "    .dataframe tbody tr th {\n",
       "        vertical-align: top;\n",
       "    }\n",
       "\n",
       "    .dataframe thead th {\n",
       "        text-align: right;\n",
       "    }\n",
       "</style>\n",
       "<table border=\"1\" class=\"dataframe\">\n",
       "  <thead>\n",
       "    <tr style=\"text-align: right;\">\n",
       "      <th></th>\n",
       "      <th>Name</th>\n",
       "      <th>Company_Name</th>\n",
       "      <th>Employee_Job_Title</th>\n",
       "      <th>Employee_City</th>\n",
       "      <th>Employee_Country</th>\n",
       "    </tr>\n",
       "  </thead>\n",
       "  <tbody>\n",
       "    <tr>\n",
       "      <th>0</th>\n",
       "      <td>Spencer Adkins</td>\n",
       "      <td>James and Sons</td>\n",
       "      <td>Equities trader</td>\n",
       "      <td>New Russellton</td>\n",
       "      <td>Palestinian Territory</td>\n",
       "    </tr>\n",
       "    <tr>\n",
       "      <th>1</th>\n",
       "      <td>Julie Morton</td>\n",
       "      <td>Nichols-James</td>\n",
       "      <td>Diplomatic Services operational officer</td>\n",
       "      <td>North Melissafurt</td>\n",
       "      <td>Marshall Islands</td>\n",
       "    </tr>\n",
       "    <tr>\n",
       "      <th>2</th>\n",
       "      <td>Matthew Hall</td>\n",
       "      <td>Scott Inc</td>\n",
       "      <td>Regulatory affairs officer</td>\n",
       "      <td>Wardfort</td>\n",
       "      <td>Anguilla</td>\n",
       "    </tr>\n",
       "    <tr>\n",
       "      <th>3</th>\n",
       "      <td>Brad Scott</td>\n",
       "      <td>Johnston, Fleming and Tanner</td>\n",
       "      <td>Production engineer</td>\n",
       "      <td>West Jamesview</td>\n",
       "      <td>Syrian Arab Republic</td>\n",
       "    </tr>\n",
       "    <tr>\n",
       "      <th>4</th>\n",
       "      <td>Theresa Owens</td>\n",
       "      <td>Baker, Allen and Edwards</td>\n",
       "      <td>Production engineer</td>\n",
       "      <td>Whiteside</td>\n",
       "      <td>Dominica</td>\n",
       "    </tr>\n",
       "  </tbody>\n",
       "</table>\n",
       "</div>"
      ],
      "text/plain": [
       "             Name                  Company_Name  \\\n",
       "0  Spencer Adkins                James and Sons   \n",
       "1    Julie Morton                 Nichols-James   \n",
       "2    Matthew Hall                     Scott Inc   \n",
       "3      Brad Scott  Johnston, Fleming and Tanner   \n",
       "4   Theresa Owens      Baker, Allen and Edwards   \n",
       "\n",
       "                        Employee_Job_Title      Employee_City  \\\n",
       "0                          Equities trader     New Russellton   \n",
       "1  Diplomatic Services operational officer  North Melissafurt   \n",
       "2               Regulatory affairs officer           Wardfort   \n",
       "3                      Production engineer     West Jamesview   \n",
       "4                      Production engineer          Whiteside   \n",
       "\n",
       "        Employee_Country  \n",
       "0  Palestinian Territory  \n",
       "1       Marshall Islands  \n",
       "2               Anguilla  \n",
       "3   Syrian Arab Republic  \n",
       "4               Dominica  "
      ]
     },
     "execution_count": 42,
     "metadata": {},
     "output_type": "execute_result"
    }
   ],
   "source": [
    "df.iloc[:5,:5]"
   ]
  },
  {
   "cell_type": "markdown",
   "metadata": {
    "cell_id": "490777ebfca74b78830e1a85c7e9213d",
    "deepnote_cell_type": "text-cell-h3",
    "formattedRanges": [],
    "is_collapsed": false,
    "tags": []
   },
   "source": [
    "### 75. Print the transpose of the first 5 rows"
   ]
  },
  {
   "cell_type": "code",
   "execution_count": 43,
   "metadata": {
    "cell_id": "55ef01fd246040fcb3b25d5cbfbbf444",
    "deepnote_cell_height": 61,
    "deepnote_cell_type": "code",
    "execution_context_id": "0f47c3fb-5162-489e-a3a4-f4fc5f716c6d",
    "execution_millis": 1,
    "execution_start": 1734958505349,
    "source_hash": "ff200c9a",
    "tags": []
   },
   "outputs": [
    {
     "data": {
      "text/html": [
       "<div>\n",
       "<style scoped>\n",
       "    .dataframe tbody tr th:only-of-type {\n",
       "        vertical-align: middle;\n",
       "    }\n",
       "\n",
       "    .dataframe tbody tr th {\n",
       "        vertical-align: top;\n",
       "    }\n",
       "\n",
       "    .dataframe thead th {\n",
       "        text-align: right;\n",
       "    }\n",
       "</style>\n",
       "<table border=\"1\" class=\"dataframe\">\n",
       "  <thead>\n",
       "    <tr style=\"text-align: right;\">\n",
       "      <th></th>\n",
       "      <th>0</th>\n",
       "      <th>1</th>\n",
       "      <th>2</th>\n",
       "      <th>3</th>\n",
       "      <th>4</th>\n",
       "    </tr>\n",
       "  </thead>\n",
       "  <tbody>\n",
       "    <tr>\n",
       "      <th>Name</th>\n",
       "      <td>Spencer Adkins</td>\n",
       "      <td>Julie Morton</td>\n",
       "      <td>Matthew Hall</td>\n",
       "      <td>Brad Scott</td>\n",
       "      <td>Theresa Owens</td>\n",
       "    </tr>\n",
       "    <tr>\n",
       "      <th>Company_Name</th>\n",
       "      <td>James and Sons</td>\n",
       "      <td>Nichols-James</td>\n",
       "      <td>Scott Inc</td>\n",
       "      <td>Johnston, Fleming and Tanner</td>\n",
       "      <td>Baker, Allen and Edwards</td>\n",
       "    </tr>\n",
       "    <tr>\n",
       "      <th>Employee_Job_Title</th>\n",
       "      <td>Equities trader</td>\n",
       "      <td>Diplomatic Services operational officer</td>\n",
       "      <td>Regulatory affairs officer</td>\n",
       "      <td>Production engineer</td>\n",
       "      <td>Production engineer</td>\n",
       "    </tr>\n",
       "    <tr>\n",
       "      <th>Employee_City</th>\n",
       "      <td>New Russellton</td>\n",
       "      <td>North Melissafurt</td>\n",
       "      <td>Wardfort</td>\n",
       "      <td>West Jamesview</td>\n",
       "      <td>Whiteside</td>\n",
       "    </tr>\n",
       "    <tr>\n",
       "      <th>Employee_Country</th>\n",
       "      <td>Palestinian Territory</td>\n",
       "      <td>Marshall Islands</td>\n",
       "      <td>Anguilla</td>\n",
       "      <td>Syrian Arab Republic</td>\n",
       "      <td>Dominica</td>\n",
       "    </tr>\n",
       "    <tr>\n",
       "      <th>Employee_Salary</th>\n",
       "      <td>321520.0</td>\n",
       "      <td>589090.0</td>\n",
       "      <td>630890.0</td>\n",
       "      <td>116400.0</td>\n",
       "      <td>523499.0</td>\n",
       "    </tr>\n",
       "    <tr>\n",
       "      <th>Employment_Status</th>\n",
       "      <td>Full Time</td>\n",
       "      <td>Full Time</td>\n",
       "      <td>Full Time</td>\n",
       "      <td>Full Time</td>\n",
       "      <td>Full Time</td>\n",
       "    </tr>\n",
       "    <tr>\n",
       "      <th>Employee_Rating</th>\n",
       "      <td>3.9</td>\n",
       "      <td>4.3</td>\n",
       "      <td>3.1</td>\n",
       "      <td>3.1</td>\n",
       "      <td>4.8</td>\n",
       "    </tr>\n",
       "  </tbody>\n",
       "</table>\n",
       "</div>"
      ],
      "text/plain": [
       "                                        0  \\\n",
       "Name                       Spencer Adkins   \n",
       "Company_Name               James and Sons   \n",
       "Employee_Job_Title        Equities trader   \n",
       "Employee_City              New Russellton   \n",
       "Employee_Country    Palestinian Territory   \n",
       "Employee_Salary                  321520.0   \n",
       "Employment_Status               Full Time   \n",
       "Employee_Rating                       3.9   \n",
       "\n",
       "                                                          1  \\\n",
       "Name                                           Julie Morton   \n",
       "Company_Name                                  Nichols-James   \n",
       "Employee_Job_Title  Diplomatic Services operational officer   \n",
       "Employee_City                             North Melissafurt   \n",
       "Employee_Country                           Marshall Islands   \n",
       "Employee_Salary                                    589090.0   \n",
       "Employment_Status                                 Full Time   \n",
       "Employee_Rating                                         4.3   \n",
       "\n",
       "                                             2                             3  \\\n",
       "Name                              Matthew Hall                    Brad Scott   \n",
       "Company_Name                         Scott Inc  Johnston, Fleming and Tanner   \n",
       "Employee_Job_Title  Regulatory affairs officer           Production engineer   \n",
       "Employee_City                         Wardfort                West Jamesview   \n",
       "Employee_Country                      Anguilla          Syrian Arab Republic   \n",
       "Employee_Salary                       630890.0                      116400.0   \n",
       "Employment_Status                    Full Time                     Full Time   \n",
       "Employee_Rating                            3.1                           3.1   \n",
       "\n",
       "                                           4  \n",
       "Name                           Theresa Owens  \n",
       "Company_Name        Baker, Allen and Edwards  \n",
       "Employee_Job_Title       Production engineer  \n",
       "Employee_City                      Whiteside  \n",
       "Employee_Country                    Dominica  \n",
       "Employee_Salary                     523499.0  \n",
       "Employment_Status                  Full Time  \n",
       "Employee_Rating                          4.8  "
      ]
     },
     "execution_count": 43,
     "metadata": {},
     "output_type": "execute_result"
    }
   ],
   "source": [
    "df.iloc[:5].transpose()"
   ]
  },
  {
   "cell_type": "markdown",
   "metadata": {
    "cell_id": "c0d1976bb23c453dacab66f6cce8d1f1",
    "deepnote_cell_type": "text-cell-h3",
    "formattedRanges": [],
    "is_collapsed": false,
    "tags": []
   },
   "source": [
    "### 76. Print the number of employees whose first name starts with the letter 'V'. "
   ]
  },
  {
   "cell_type": "code",
   "execution_count": 44,
   "metadata": {
    "cell_id": "9f736fc4e0af4bd4a8f78b54125490a6",
    "deepnote_cell_height": 61,
    "deepnote_cell_type": "code",
    "deepnote_table_loading": false,
    "deepnote_table_state": {
     "cellFormattingRules": [],
     "columnDisplayNames": [],
     "columnOrder": [
      "Name",
      "Company_Name",
      "Employee_Job_Title",
      "Employee_City",
      "Employee_Country",
      "Employee_Salary",
      "Employment_Status",
      "Employee_Rating"
     ],
     "conditionalFilters": [],
     "filters": [],
     "hiddenColumnIds": [],
     "pageIndex": 0,
     "pageSize": 10,
     "sortBy": [],
     "wrappedTextColumnIds": []
    },
    "execution_context_id": "0f47c3fb-5162-489e-a3a4-f4fc5f716c6d",
    "execution_millis": 19,
    "execution_start": 1734958505417,
    "source_hash": "590a3183",
    "tags": []
   },
   "outputs": [
    {
     "data": {
      "text/plain": [
       "3683"
      ]
     },
     "execution_count": 44,
     "metadata": {},
     "output_type": "execute_result"
    }
   ],
   "source": [
    "filt = df['Name'].str.startswith('V')\n",
    "df[filt].shape[0]"
   ]
  },
  {
   "cell_type": "markdown",
   "metadata": {
    "cell_id": "f4f2f82fe4564bf09bd81ea8aaa7bb49",
    "deepnote_cell_type": "text-cell-h3",
    "formattedRanges": [],
    "is_collapsed": false,
    "tags": []
   },
   "source": [
    "### 77. Print the number of employees whose last name starts with the letter 'R'. "
   ]
  },
  {
   "cell_type": "code",
   "execution_count": 45,
   "metadata": {
    "cell_id": "0743557dfeae4541be465c2c8be6d79a",
    "deepnote_cell_height": 61,
    "deepnote_cell_type": "code",
    "execution_context_id": "0f47c3fb-5162-489e-a3a4-f4fc5f716c6d",
    "execution_millis": 611,
    "execution_start": 1734958505482,
    "source_hash": "a8a99d68",
    "tags": []
   },
   "outputs": [
    {
     "data": {
      "text/plain": [
       "20712"
      ]
     },
     "execution_count": 45,
     "metadata": {},
     "output_type": "execute_result"
    }
   ],
   "source": [
    "new_df = df['Name'].str.split(' ', n=1, expand=True)\n",
    "filt = new_df[1].str.startswith('R')\n",
    "new_df[filt].shape[0]"
   ]
  },
  {
   "cell_type": "markdown",
   "metadata": {
    "cell_id": "b331d9b640184b7bb91b3de1b68f0303",
    "deepnote_cell_type": "text-cell-h3",
    "formattedRanges": [],
    "is_collapsed": false,
    "tags": []
   },
   "source": [
    "### 78. Select the rows 2 to 7 and the columns 3 to 7 (both included)"
   ]
  },
  {
   "cell_type": "code",
   "execution_count": 46,
   "metadata": {
    "cell_id": "faafb920c1d949b8a7acd0002ea45eb8",
    "deepnote_cell_height": 61,
    "deepnote_cell_type": "code",
    "execution_context_id": "0f47c3fb-5162-489e-a3a4-f4fc5f716c6d",
    "execution_millis": 0,
    "execution_start": 1734958506137,
    "source_hash": "2e089beb",
    "tags": []
   },
   "outputs": [
    {
     "data": {
      "text/html": [
       "<div>\n",
       "<style scoped>\n",
       "    .dataframe tbody tr th:only-of-type {\n",
       "        vertical-align: middle;\n",
       "    }\n",
       "\n",
       "    .dataframe tbody tr th {\n",
       "        vertical-align: top;\n",
       "    }\n",
       "\n",
       "    .dataframe thead th {\n",
       "        text-align: right;\n",
       "    }\n",
       "</style>\n",
       "<table border=\"1\" class=\"dataframe\">\n",
       "  <thead>\n",
       "    <tr style=\"text-align: right;\">\n",
       "      <th></th>\n",
       "      <th>Employee_Job_Title</th>\n",
       "      <th>Employee_City</th>\n",
       "      <th>Employee_Country</th>\n",
       "      <th>Employee_Salary</th>\n",
       "      <th>Employment_Status</th>\n",
       "    </tr>\n",
       "  </thead>\n",
       "  <tbody>\n",
       "    <tr>\n",
       "      <th>1</th>\n",
       "      <td>Diplomatic Services operational officer</td>\n",
       "      <td>North Melissafurt</td>\n",
       "      <td>Marshall Islands</td>\n",
       "      <td>589090.0</td>\n",
       "      <td>Full Time</td>\n",
       "    </tr>\n",
       "    <tr>\n",
       "      <th>2</th>\n",
       "      <td>Regulatory affairs officer</td>\n",
       "      <td>Wardfort</td>\n",
       "      <td>Anguilla</td>\n",
       "      <td>630890.0</td>\n",
       "      <td>Full Time</td>\n",
       "    </tr>\n",
       "    <tr>\n",
       "      <th>3</th>\n",
       "      <td>Production engineer</td>\n",
       "      <td>West Jamesview</td>\n",
       "      <td>Syrian Arab Republic</td>\n",
       "      <td>116400.0</td>\n",
       "      <td>Full Time</td>\n",
       "    </tr>\n",
       "    <tr>\n",
       "      <th>4</th>\n",
       "      <td>Production engineer</td>\n",
       "      <td>Whiteside</td>\n",
       "      <td>Dominica</td>\n",
       "      <td>523499.0</td>\n",
       "      <td>Full Time</td>\n",
       "    </tr>\n",
       "    <tr>\n",
       "      <th>5</th>\n",
       "      <td>Make</td>\n",
       "      <td>Ricardomouth</td>\n",
       "      <td>Mali</td>\n",
       "      <td>850140.0</td>\n",
       "      <td>Full Time</td>\n",
       "    </tr>\n",
       "    <tr>\n",
       "      <th>6</th>\n",
       "      <td>Naval architect</td>\n",
       "      <td>Wardfort</td>\n",
       "      <td>Aruba</td>\n",
       "      <td>711410.0</td>\n",
       "      <td>Full Time</td>\n",
       "    </tr>\n",
       "  </tbody>\n",
       "</table>\n",
       "</div>"
      ],
      "text/plain": [
       "                        Employee_Job_Title      Employee_City  \\\n",
       "1  Diplomatic Services operational officer  North Melissafurt   \n",
       "2               Regulatory affairs officer           Wardfort   \n",
       "3                      Production engineer     West Jamesview   \n",
       "4                      Production engineer          Whiteside   \n",
       "5                                     Make       Ricardomouth   \n",
       "6                          Naval architect           Wardfort   \n",
       "\n",
       "       Employee_Country  Employee_Salary Employment_Status  \n",
       "1      Marshall Islands         589090.0         Full Time  \n",
       "2              Anguilla         630890.0         Full Time  \n",
       "3  Syrian Arab Republic         116400.0         Full Time  \n",
       "4              Dominica         523499.0         Full Time  \n",
       "5                  Mali         850140.0         Full Time  \n",
       "6                 Aruba         711410.0         Full Time  "
      ]
     },
     "execution_count": 46,
     "metadata": {},
     "output_type": "execute_result"
    }
   ],
   "source": [
    "df.iloc[1:7, 2:7]"
   ]
  },
  {
   "cell_type": "markdown",
   "metadata": {
    "cell_id": "0cfd69d4310f45f1bc036104d84a99ff",
    "deepnote_cell_type": "text-cell-h3",
    "formattedRanges": [],
    "is_collapsed": false,
    "tags": []
   },
   "source": [
    "### 79. Select every row after the 10th row and select all columns. "
   ]
  },
  {
   "cell_type": "code",
   "execution_count": 47,
   "metadata": {
    "cell_id": "1e6d2b20c1c443698aa2df32753f9a35",
    "deepnote_cell_height": 61,
    "deepnote_cell_type": "code",
    "execution_context_id": "0f47c3fb-5162-489e-a3a4-f4fc5f716c6d",
    "execution_millis": 24,
    "execution_start": 1734958506185,
    "source_hash": "fe52102b",
    "tags": []
   },
   "outputs": [
    {
     "data": {
      "text/html": [
       "<div>\n",
       "<style scoped>\n",
       "    .dataframe tbody tr th:only-of-type {\n",
       "        vertical-align: middle;\n",
       "    }\n",
       "\n",
       "    .dataframe tbody tr th {\n",
       "        vertical-align: top;\n",
       "    }\n",
       "\n",
       "    .dataframe thead th {\n",
       "        text-align: right;\n",
       "    }\n",
       "</style>\n",
       "<table border=\"1\" class=\"dataframe\">\n",
       "  <thead>\n",
       "    <tr style=\"text-align: right;\">\n",
       "      <th></th>\n",
       "      <th>Name</th>\n",
       "      <th>Company_Name</th>\n",
       "      <th>Employee_Job_Title</th>\n",
       "      <th>Employee_City</th>\n",
       "      <th>Employee_Country</th>\n",
       "      <th>Employee_Salary</th>\n",
       "      <th>Employment_Status</th>\n",
       "      <th>Employee_Rating</th>\n",
       "    </tr>\n",
       "  </thead>\n",
       "  <tbody>\n",
       "    <tr>\n",
       "      <th>10</th>\n",
       "      <td>Victoria Sutton</td>\n",
       "      <td>White, Mcclain and Cobb</td>\n",
       "      <td>Naval architect</td>\n",
       "      <td>Whiteside</td>\n",
       "      <td>Poland</td>\n",
       "      <td>656260.0</td>\n",
       "      <td>Full Time</td>\n",
       "      <td>4.9</td>\n",
       "    </tr>\n",
       "    <tr>\n",
       "      <th>11</th>\n",
       "      <td>Timothy Johnson</td>\n",
       "      <td>Baker, Allen and Edwards</td>\n",
       "      <td>Regulatory affairs officer</td>\n",
       "      <td>Ricardomouth</td>\n",
       "      <td>Georgia</td>\n",
       "      <td>503610.0</td>\n",
       "      <td>Full Time</td>\n",
       "      <td>2.9</td>\n",
       "    </tr>\n",
       "    <tr>\n",
       "      <th>12</th>\n",
       "      <td>Tiffany Galvan</td>\n",
       "      <td>Campos, Reynolds and Mccormick</td>\n",
       "      <td>Diplomatic Services operational officer</td>\n",
       "      <td>West Jamesview</td>\n",
       "      <td>Niger</td>\n",
       "      <td>786430.0</td>\n",
       "      <td>Intern</td>\n",
       "      <td>3.6</td>\n",
       "    </tr>\n",
       "    <tr>\n",
       "      <th>13</th>\n",
       "      <td>David Duran</td>\n",
       "      <td>Nichols-James</td>\n",
       "      <td>Investment banker, corporate</td>\n",
       "      <td>New Russellton</td>\n",
       "      <td>Georgia</td>\n",
       "      <td>910210.0</td>\n",
       "      <td>Full Time</td>\n",
       "      <td>4.9</td>\n",
       "    </tr>\n",
       "    <tr>\n",
       "      <th>14</th>\n",
       "      <td>Julie Cook</td>\n",
       "      <td>Matthews Inc</td>\n",
       "      <td>Equities trader</td>\n",
       "      <td>New Russellton</td>\n",
       "      <td>Puerto Rico</td>\n",
       "      <td>328860.0</td>\n",
       "      <td>Full Time</td>\n",
       "      <td>4.8</td>\n",
       "    </tr>\n",
       "    <tr>\n",
       "      <th>...</th>\n",
       "      <td>...</td>\n",
       "      <td>...</td>\n",
       "      <td>...</td>\n",
       "      <td>...</td>\n",
       "      <td>...</td>\n",
       "      <td>...</td>\n",
       "      <td>...</td>\n",
       "      <td>...</td>\n",
       "    </tr>\n",
       "    <tr>\n",
       "      <th>299995</th>\n",
       "      <td>Nancy Neal</td>\n",
       "      <td>Bullock-Carrillo</td>\n",
       "      <td>Optometrist</td>\n",
       "      <td>North Melissafurt</td>\n",
       "      <td>Samoa</td>\n",
       "      <td>99670.0</td>\n",
       "      <td>Intern</td>\n",
       "      <td>3.3</td>\n",
       "    </tr>\n",
       "    <tr>\n",
       "      <th>299996</th>\n",
       "      <td>Michele Butler</td>\n",
       "      <td>Johnston, Fleming and Tanner</td>\n",
       "      <td>Administrator</td>\n",
       "      <td>Aliciafort</td>\n",
       "      <td>Cuba</td>\n",
       "      <td>949580.0</td>\n",
       "      <td>Intern</td>\n",
       "      <td>2.6</td>\n",
       "    </tr>\n",
       "    <tr>\n",
       "      <th>299997</th>\n",
       "      <td>Lynn Wilson</td>\n",
       "      <td>Nichols-James</td>\n",
       "      <td>Administrator</td>\n",
       "      <td>New Cindychester</td>\n",
       "      <td>Bolivia</td>\n",
       "      <td>802830.0</td>\n",
       "      <td>Full Time</td>\n",
       "      <td>0.6</td>\n",
       "    </tr>\n",
       "    <tr>\n",
       "      <th>299998</th>\n",
       "      <td>Lindsey Keith</td>\n",
       "      <td>Nichols-James</td>\n",
       "      <td>Make</td>\n",
       "      <td>Whitakerbury</td>\n",
       "      <td>Western Sahara</td>\n",
       "      <td>257240.0</td>\n",
       "      <td>Full Time</td>\n",
       "      <td>2.4</td>\n",
       "    </tr>\n",
       "    <tr>\n",
       "      <th>299999</th>\n",
       "      <td>Karen Delgado</td>\n",
       "      <td>James and Sons</td>\n",
       "      <td>Actuary</td>\n",
       "      <td>New Russellton</td>\n",
       "      <td>United Kingdom</td>\n",
       "      <td>575770.0</td>\n",
       "      <td>Intern</td>\n",
       "      <td>3.3</td>\n",
       "    </tr>\n",
       "  </tbody>\n",
       "</table>\n",
       "<p>299990 rows × 8 columns</p>\n",
       "</div>"
      ],
      "text/plain": [
       "                   Name                    Company_Name  \\\n",
       "10      Victoria Sutton         White, Mcclain and Cobb   \n",
       "11      Timothy Johnson        Baker, Allen and Edwards   \n",
       "12       Tiffany Galvan  Campos, Reynolds and Mccormick   \n",
       "13          David Duran                   Nichols-James   \n",
       "14           Julie Cook                    Matthews Inc   \n",
       "...                 ...                             ...   \n",
       "299995       Nancy Neal                Bullock-Carrillo   \n",
       "299996   Michele Butler    Johnston, Fleming and Tanner   \n",
       "299997      Lynn Wilson                   Nichols-James   \n",
       "299998    Lindsey Keith                   Nichols-James   \n",
       "299999    Karen Delgado                  James and Sons   \n",
       "\n",
       "                             Employee_Job_Title      Employee_City  \\\n",
       "10                              Naval architect          Whiteside   \n",
       "11                   Regulatory affairs officer       Ricardomouth   \n",
       "12      Diplomatic Services operational officer     West Jamesview   \n",
       "13                 Investment banker, corporate     New Russellton   \n",
       "14                              Equities trader     New Russellton   \n",
       "...                                         ...                ...   \n",
       "299995                              Optometrist  North Melissafurt   \n",
       "299996                            Administrator         Aliciafort   \n",
       "299997                            Administrator   New Cindychester   \n",
       "299998                                     Make       Whitakerbury   \n",
       "299999                                  Actuary     New Russellton   \n",
       "\n",
       "       Employee_Country  Employee_Salary Employment_Status  Employee_Rating  \n",
       "10               Poland         656260.0         Full Time              4.9  \n",
       "11              Georgia         503610.0         Full Time              2.9  \n",
       "12                Niger         786430.0            Intern              3.6  \n",
       "13              Georgia         910210.0         Full Time              4.9  \n",
       "14          Puerto Rico         328860.0         Full Time              4.8  \n",
       "...                 ...              ...               ...              ...  \n",
       "299995            Samoa          99670.0            Intern              3.3  \n",
       "299996             Cuba         949580.0            Intern              2.6  \n",
       "299997          Bolivia         802830.0         Full Time              0.6  \n",
       "299998   Western Sahara         257240.0         Full Time              2.4  \n",
       "299999   United Kingdom         575770.0            Intern              3.3  \n",
       "\n",
       "[299990 rows x 8 columns]"
      ]
     },
     "execution_count": 47,
     "metadata": {},
     "output_type": "execute_result"
    }
   ],
   "source": [
    "df.iloc[10:,:]"
   ]
  },
  {
   "cell_type": "markdown",
   "metadata": {
    "cell_id": "a3b91324ba2c4cc6859b830b57f2d063",
    "deepnote_cell_type": "text-cell-h3",
    "formattedRanges": [],
    "is_collapsed": false,
    "tags": []
   },
   "source": [
    "### 80. Select every row up to the 10th row and select all columns. "
   ]
  },
  {
   "cell_type": "code",
   "execution_count": 48,
   "metadata": {
    "cell_id": "3c9bafef8d7e44059661171523f885b9",
    "deepnote_cell_height": 61,
    "deepnote_cell_type": "code",
    "execution_context_id": "0f47c3fb-5162-489e-a3a4-f4fc5f716c6d",
    "execution_millis": 0,
    "execution_start": 1734958506253,
    "source_hash": "a61558d5",
    "tags": []
   },
   "outputs": [
    {
     "data": {
      "text/html": [
       "<div>\n",
       "<style scoped>\n",
       "    .dataframe tbody tr th:only-of-type {\n",
       "        vertical-align: middle;\n",
       "    }\n",
       "\n",
       "    .dataframe tbody tr th {\n",
       "        vertical-align: top;\n",
       "    }\n",
       "\n",
       "    .dataframe thead th {\n",
       "        text-align: right;\n",
       "    }\n",
       "</style>\n",
       "<table border=\"1\" class=\"dataframe\">\n",
       "  <thead>\n",
       "    <tr style=\"text-align: right;\">\n",
       "      <th></th>\n",
       "      <th>Name</th>\n",
       "      <th>Company_Name</th>\n",
       "      <th>Employee_Job_Title</th>\n",
       "      <th>Employee_City</th>\n",
       "      <th>Employee_Country</th>\n",
       "      <th>Employee_Salary</th>\n",
       "      <th>Employment_Status</th>\n",
       "      <th>Employee_Rating</th>\n",
       "    </tr>\n",
       "  </thead>\n",
       "  <tbody>\n",
       "    <tr>\n",
       "      <th>0</th>\n",
       "      <td>Spencer Adkins</td>\n",
       "      <td>James and Sons</td>\n",
       "      <td>Equities trader</td>\n",
       "      <td>New Russellton</td>\n",
       "      <td>Palestinian Territory</td>\n",
       "      <td>321520.0</td>\n",
       "      <td>Full Time</td>\n",
       "      <td>3.9</td>\n",
       "    </tr>\n",
       "    <tr>\n",
       "      <th>1</th>\n",
       "      <td>Julie Morton</td>\n",
       "      <td>Nichols-James</td>\n",
       "      <td>Diplomatic Services operational officer</td>\n",
       "      <td>North Melissafurt</td>\n",
       "      <td>Marshall Islands</td>\n",
       "      <td>589090.0</td>\n",
       "      <td>Full Time</td>\n",
       "      <td>4.3</td>\n",
       "    </tr>\n",
       "    <tr>\n",
       "      <th>2</th>\n",
       "      <td>Matthew Hall</td>\n",
       "      <td>Scott Inc</td>\n",
       "      <td>Regulatory affairs officer</td>\n",
       "      <td>Wardfort</td>\n",
       "      <td>Anguilla</td>\n",
       "      <td>630890.0</td>\n",
       "      <td>Full Time</td>\n",
       "      <td>3.1</td>\n",
       "    </tr>\n",
       "    <tr>\n",
       "      <th>3</th>\n",
       "      <td>Brad Scott</td>\n",
       "      <td>Johnston, Fleming and Tanner</td>\n",
       "      <td>Production engineer</td>\n",
       "      <td>West Jamesview</td>\n",
       "      <td>Syrian Arab Republic</td>\n",
       "      <td>116400.0</td>\n",
       "      <td>Full Time</td>\n",
       "      <td>3.1</td>\n",
       "    </tr>\n",
       "    <tr>\n",
       "      <th>4</th>\n",
       "      <td>Theresa Owens</td>\n",
       "      <td>Baker, Allen and Edwards</td>\n",
       "      <td>Production engineer</td>\n",
       "      <td>Whiteside</td>\n",
       "      <td>Dominica</td>\n",
       "      <td>523499.0</td>\n",
       "      <td>Full Time</td>\n",
       "      <td>4.8</td>\n",
       "    </tr>\n",
       "    <tr>\n",
       "      <th>5</th>\n",
       "      <td>Vanessa Allen</td>\n",
       "      <td>Andrade LLC</td>\n",
       "      <td>Make</td>\n",
       "      <td>Ricardomouth</td>\n",
       "      <td>Mali</td>\n",
       "      <td>850140.0</td>\n",
       "      <td>Full Time</td>\n",
       "      <td>2.6</td>\n",
       "    </tr>\n",
       "    <tr>\n",
       "      <th>6</th>\n",
       "      <td>Kelly Brown</td>\n",
       "      <td>Andrade LLC</td>\n",
       "      <td>Naval architect</td>\n",
       "      <td>Wardfort</td>\n",
       "      <td>Aruba</td>\n",
       "      <td>711410.0</td>\n",
       "      <td>Full Time</td>\n",
       "      <td>2.0</td>\n",
       "    </tr>\n",
       "    <tr>\n",
       "      <th>7</th>\n",
       "      <td>Vicki Beard</td>\n",
       "      <td>Matthews Inc</td>\n",
       "      <td>Diplomatic Services operational officer</td>\n",
       "      <td>Kristaburgh</td>\n",
       "      <td>Western Sahara</td>\n",
       "      <td>777000.0</td>\n",
       "      <td>Full Time</td>\n",
       "      <td>3.3</td>\n",
       "    </tr>\n",
       "    <tr>\n",
       "      <th>8</th>\n",
       "      <td>Lisa French</td>\n",
       "      <td>Taylor-Ramos</td>\n",
       "      <td>Radiographer, therapeutic</td>\n",
       "      <td>West Jamesview</td>\n",
       "      <td>Kuwait</td>\n",
       "      <td>870580.0</td>\n",
       "      <td>Full Time</td>\n",
       "      <td>1.3</td>\n",
       "    </tr>\n",
       "    <tr>\n",
       "      <th>9</th>\n",
       "      <td>Michael Edwards</td>\n",
       "      <td>Campos, Reynolds and Mccormick</td>\n",
       "      <td>Ergonomist</td>\n",
       "      <td>New Cindychester</td>\n",
       "      <td>Lao People's Democratic Republic</td>\n",
       "      <td>516950.0</td>\n",
       "      <td>Full Time</td>\n",
       "      <td>2.3</td>\n",
       "    </tr>\n",
       "  </tbody>\n",
       "</table>\n",
       "</div>"
      ],
      "text/plain": [
       "              Name                    Company_Name  \\\n",
       "0   Spencer Adkins                  James and Sons   \n",
       "1     Julie Morton                   Nichols-James   \n",
       "2     Matthew Hall                       Scott Inc   \n",
       "3       Brad Scott    Johnston, Fleming and Tanner   \n",
       "4    Theresa Owens        Baker, Allen and Edwards   \n",
       "5    Vanessa Allen                     Andrade LLC   \n",
       "6      Kelly Brown                     Andrade LLC   \n",
       "7      Vicki Beard                    Matthews Inc   \n",
       "8      Lisa French                    Taylor-Ramos   \n",
       "9  Michael Edwards  Campos, Reynolds and Mccormick   \n",
       "\n",
       "                        Employee_Job_Title      Employee_City  \\\n",
       "0                          Equities trader     New Russellton   \n",
       "1  Diplomatic Services operational officer  North Melissafurt   \n",
       "2               Regulatory affairs officer           Wardfort   \n",
       "3                      Production engineer     West Jamesview   \n",
       "4                      Production engineer          Whiteside   \n",
       "5                                     Make       Ricardomouth   \n",
       "6                          Naval architect           Wardfort   \n",
       "7  Diplomatic Services operational officer        Kristaburgh   \n",
       "8                Radiographer, therapeutic     West Jamesview   \n",
       "9                               Ergonomist   New Cindychester   \n",
       "\n",
       "                   Employee_Country  Employee_Salary Employment_Status  \\\n",
       "0             Palestinian Territory         321520.0         Full Time   \n",
       "1                  Marshall Islands         589090.0         Full Time   \n",
       "2                          Anguilla         630890.0         Full Time   \n",
       "3              Syrian Arab Republic         116400.0         Full Time   \n",
       "4                          Dominica         523499.0         Full Time   \n",
       "5                              Mali         850140.0         Full Time   \n",
       "6                             Aruba         711410.0         Full Time   \n",
       "7                    Western Sahara         777000.0         Full Time   \n",
       "8                            Kuwait         870580.0         Full Time   \n",
       "9  Lao People's Democratic Republic         516950.0         Full Time   \n",
       "\n",
       "   Employee_Rating  \n",
       "0              3.9  \n",
       "1              4.3  \n",
       "2              3.1  \n",
       "3              3.1  \n",
       "4              4.8  \n",
       "5              2.6  \n",
       "6              2.0  \n",
       "7              3.3  \n",
       "8              1.3  \n",
       "9              2.3  "
      ]
     },
     "execution_count": 48,
     "metadata": {},
     "output_type": "execute_result"
    }
   ],
   "source": [
    "df.iloc[:10,:]"
   ]
  },
  {
   "cell_type": "markdown",
   "metadata": {
    "cell_id": "dbe9bd5d63be4a86b358f4f494b05aa8",
    "deepnote_cell_type": "text-cell-h3",
    "formattedRanges": [],
    "is_collapsed": false,
    "tags": []
   },
   "source": [
    "### 81. Select rows with employee rating > 4.5. "
   ]
  },
  {
   "cell_type": "code",
   "execution_count": 49,
   "metadata": {
    "cell_id": "6061085d9ba24641bdac2899eeccde7f",
    "deepnote_cell_height": 61,
    "deepnote_cell_type": "code",
    "execution_context_id": "0f47c3fb-5162-489e-a3a4-f4fc5f716c6d",
    "execution_millis": 60,
    "execution_start": 1734958506301,
    "source_hash": "1e7ffd46",
    "tags": []
   },
   "outputs": [
    {
     "data": {
      "text/html": [
       "<div>\n",
       "<style scoped>\n",
       "    .dataframe tbody tr th:only-of-type {\n",
       "        vertical-align: middle;\n",
       "    }\n",
       "\n",
       "    .dataframe tbody tr th {\n",
       "        vertical-align: top;\n",
       "    }\n",
       "\n",
       "    .dataframe thead th {\n",
       "        text-align: right;\n",
       "    }\n",
       "</style>\n",
       "<table border=\"1\" class=\"dataframe\">\n",
       "  <thead>\n",
       "    <tr style=\"text-align: right;\">\n",
       "      <th></th>\n",
       "      <th>Name</th>\n",
       "      <th>Company_Name</th>\n",
       "      <th>Employee_Job_Title</th>\n",
       "      <th>Employee_City</th>\n",
       "      <th>Employee_Country</th>\n",
       "      <th>Employee_Salary</th>\n",
       "      <th>Employment_Status</th>\n",
       "      <th>Employee_Rating</th>\n",
       "    </tr>\n",
       "  </thead>\n",
       "  <tbody>\n",
       "    <tr>\n",
       "      <th>4</th>\n",
       "      <td>Theresa Owens</td>\n",
       "      <td>Baker, Allen and Edwards</td>\n",
       "      <td>Production engineer</td>\n",
       "      <td>Whiteside</td>\n",
       "      <td>Dominica</td>\n",
       "      <td>523499.0</td>\n",
       "      <td>Full Time</td>\n",
       "      <td>4.8</td>\n",
       "    </tr>\n",
       "    <tr>\n",
       "      <th>10</th>\n",
       "      <td>Victoria Sutton</td>\n",
       "      <td>White, Mcclain and Cobb</td>\n",
       "      <td>Naval architect</td>\n",
       "      <td>Whiteside</td>\n",
       "      <td>Poland</td>\n",
       "      <td>656260.0</td>\n",
       "      <td>Full Time</td>\n",
       "      <td>4.9</td>\n",
       "    </tr>\n",
       "    <tr>\n",
       "      <th>13</th>\n",
       "      <td>David Duran</td>\n",
       "      <td>Nichols-James</td>\n",
       "      <td>Investment banker, corporate</td>\n",
       "      <td>New Russellton</td>\n",
       "      <td>Georgia</td>\n",
       "      <td>910210.0</td>\n",
       "      <td>Full Time</td>\n",
       "      <td>4.9</td>\n",
       "    </tr>\n",
       "    <tr>\n",
       "      <th>14</th>\n",
       "      <td>Julie Cook</td>\n",
       "      <td>Matthews Inc</td>\n",
       "      <td>Equities trader</td>\n",
       "      <td>New Russellton</td>\n",
       "      <td>Puerto Rico</td>\n",
       "      <td>328860.0</td>\n",
       "      <td>Full Time</td>\n",
       "      <td>4.8</td>\n",
       "    </tr>\n",
       "    <tr>\n",
       "      <th>49</th>\n",
       "      <td>Gerald Santiago</td>\n",
       "      <td>Thomas-Spencer</td>\n",
       "      <td>Garment/textile technologist</td>\n",
       "      <td>Kristaburgh</td>\n",
       "      <td>El Salvador</td>\n",
       "      <td>873320.0</td>\n",
       "      <td>Full Time</td>\n",
       "      <td>4.7</td>\n",
       "    </tr>\n",
       "    <tr>\n",
       "      <th>...</th>\n",
       "      <td>...</td>\n",
       "      <td>...</td>\n",
       "      <td>...</td>\n",
       "      <td>...</td>\n",
       "      <td>...</td>\n",
       "      <td>...</td>\n",
       "      <td>...</td>\n",
       "      <td>...</td>\n",
       "    </tr>\n",
       "    <tr>\n",
       "      <th>299910</th>\n",
       "      <td>Daniel Johnson</td>\n",
       "      <td>Baker, Allen and Edwards</td>\n",
       "      <td>Energy manager</td>\n",
       "      <td>Wardfort</td>\n",
       "      <td>American Samoa</td>\n",
       "      <td>452970.0</td>\n",
       "      <td>Full Time</td>\n",
       "      <td>4.7</td>\n",
       "    </tr>\n",
       "    <tr>\n",
       "      <th>299952</th>\n",
       "      <td>Joshua Knight</td>\n",
       "      <td>Nichols-James</td>\n",
       "      <td>Sales promotion account executive</td>\n",
       "      <td>Wardfort</td>\n",
       "      <td>Mali</td>\n",
       "      <td>175450.0</td>\n",
       "      <td>Intern</td>\n",
       "      <td>4.9</td>\n",
       "    </tr>\n",
       "    <tr>\n",
       "      <th>299957</th>\n",
       "      <td>Martha Phillips</td>\n",
       "      <td>Matthews Inc</td>\n",
       "      <td>Naval architect</td>\n",
       "      <td>Wardfort</td>\n",
       "      <td>Somalia</td>\n",
       "      <td>485270.0</td>\n",
       "      <td>Full Time</td>\n",
       "      <td>4.8</td>\n",
       "    </tr>\n",
       "    <tr>\n",
       "      <th>299973</th>\n",
       "      <td>Doris Miller</td>\n",
       "      <td>Andrade LLC</td>\n",
       "      <td>Armed forces logistics/support/administrative ...</td>\n",
       "      <td>Wardfort</td>\n",
       "      <td>Kazakhstan</td>\n",
       "      <td>943340.0</td>\n",
       "      <td>Intern</td>\n",
       "      <td>5.0</td>\n",
       "    </tr>\n",
       "    <tr>\n",
       "      <th>299981</th>\n",
       "      <td>Herbert Bailey</td>\n",
       "      <td>Nichols-James</td>\n",
       "      <td>Radiographer, therapeutic</td>\n",
       "      <td>New Cindychester</td>\n",
       "      <td>Guernsey</td>\n",
       "      <td>165550.0</td>\n",
       "      <td>Full Time</td>\n",
       "      <td>4.8</td>\n",
       "    </tr>\n",
       "  </tbody>\n",
       "</table>\n",
       "<p>26978 rows × 8 columns</p>\n",
       "</div>"
      ],
      "text/plain": [
       "                   Name              Company_Name  \\\n",
       "4         Theresa Owens  Baker, Allen and Edwards   \n",
       "10      Victoria Sutton   White, Mcclain and Cobb   \n",
       "13          David Duran             Nichols-James   \n",
       "14           Julie Cook              Matthews Inc   \n",
       "49      Gerald Santiago            Thomas-Spencer   \n",
       "...                 ...                       ...   \n",
       "299910   Daniel Johnson  Baker, Allen and Edwards   \n",
       "299952    Joshua Knight             Nichols-James   \n",
       "299957  Martha Phillips              Matthews Inc   \n",
       "299973     Doris Miller               Andrade LLC   \n",
       "299981   Herbert Bailey             Nichols-James   \n",
       "\n",
       "                                       Employee_Job_Title     Employee_City  \\\n",
       "4                                     Production engineer         Whiteside   \n",
       "10                                        Naval architect         Whiteside   \n",
       "13                           Investment banker, corporate    New Russellton   \n",
       "14                                        Equities trader    New Russellton   \n",
       "49                           Garment/textile technologist       Kristaburgh   \n",
       "...                                                   ...               ...   \n",
       "299910                                     Energy manager          Wardfort   \n",
       "299952                  Sales promotion account executive          Wardfort   \n",
       "299957                                    Naval architect          Wardfort   \n",
       "299973  Armed forces logistics/support/administrative ...          Wardfort   \n",
       "299981                          Radiographer, therapeutic  New Cindychester   \n",
       "\n",
       "       Employee_Country  Employee_Salary Employment_Status  Employee_Rating  \n",
       "4              Dominica         523499.0         Full Time              4.8  \n",
       "10               Poland         656260.0         Full Time              4.9  \n",
       "13              Georgia         910210.0         Full Time              4.9  \n",
       "14          Puerto Rico         328860.0         Full Time              4.8  \n",
       "49          El Salvador         873320.0         Full Time              4.7  \n",
       "...                 ...              ...               ...              ...  \n",
       "299910   American Samoa         452970.0         Full Time              4.7  \n",
       "299952             Mali         175450.0            Intern              4.9  \n",
       "299957          Somalia         485270.0         Full Time              4.8  \n",
       "299973       Kazakhstan         943340.0            Intern              5.0  \n",
       "299981         Guernsey         165550.0         Full Time              4.8  \n",
       "\n",
       "[26978 rows x 8 columns]"
      ]
     },
     "execution_count": 49,
     "metadata": {},
     "output_type": "execute_result"
    }
   ],
   "source": [
    "filt = df['Employee_Rating'] > 4.5\n",
    "df[filt]"
   ]
  },
  {
   "cell_type": "markdown",
   "metadata": {
    "cell_id": "9abe6cac678549759fa425e9a2e2862e",
    "deepnote_cell_type": "text-cell-h3",
    "formattedRanges": [],
    "is_collapsed": false,
    "tags": []
   },
   "source": [
    "### 82. Select rows with employee rating > 4.5 and < 4.8. "
   ]
  },
  {
   "cell_type": "code",
   "execution_count": 50,
   "metadata": {
    "cell_id": "089b524d460f4dd498e9e97f93303e50",
    "deepnote_cell_height": 61,
    "deepnote_cell_type": "code",
    "execution_context_id": "0f47c3fb-5162-489e-a3a4-f4fc5f716c6d",
    "execution_millis": 34,
    "execution_start": 1734958615757,
    "source_hash": "9bf22fab",
    "tags": []
   },
   "outputs": [
    {
     "data": {
      "text/html": [
       "<div>\n",
       "<style scoped>\n",
       "    .dataframe tbody tr th:only-of-type {\n",
       "        vertical-align: middle;\n",
       "    }\n",
       "\n",
       "    .dataframe tbody tr th {\n",
       "        vertical-align: top;\n",
       "    }\n",
       "\n",
       "    .dataframe thead th {\n",
       "        text-align: right;\n",
       "    }\n",
       "</style>\n",
       "<table border=\"1\" class=\"dataframe\">\n",
       "  <thead>\n",
       "    <tr style=\"text-align: right;\">\n",
       "      <th></th>\n",
       "      <th>Name</th>\n",
       "      <th>Company_Name</th>\n",
       "      <th>Employee_Job_Title</th>\n",
       "      <th>Employee_City</th>\n",
       "      <th>Employee_Country</th>\n",
       "      <th>Employee_Salary</th>\n",
       "      <th>Employment_Status</th>\n",
       "      <th>Employee_Rating</th>\n",
       "    </tr>\n",
       "  </thead>\n",
       "  <tbody>\n",
       "    <tr>\n",
       "      <th>49</th>\n",
       "      <td>Gerald Santiago</td>\n",
       "      <td>Thomas-Spencer</td>\n",
       "      <td>Garment/textile technologist</td>\n",
       "      <td>Kristaburgh</td>\n",
       "      <td>El Salvador</td>\n",
       "      <td>873320.0</td>\n",
       "      <td>Full Time</td>\n",
       "      <td>4.7</td>\n",
       "    </tr>\n",
       "    <tr>\n",
       "      <th>88</th>\n",
       "      <td>Julie Richard</td>\n",
       "      <td>Bullock-Carrillo</td>\n",
       "      <td>Naval architect</td>\n",
       "      <td>Wardfort</td>\n",
       "      <td>Burundi</td>\n",
       "      <td>222850.0</td>\n",
       "      <td>Full Time</td>\n",
       "      <td>4.6</td>\n",
       "    </tr>\n",
       "    <tr>\n",
       "      <th>94</th>\n",
       "      <td>Natasha Harmon</td>\n",
       "      <td>Matthews Inc</td>\n",
       "      <td>Radiographer, therapeutic</td>\n",
       "      <td>West Jamesview</td>\n",
       "      <td>Bolivia</td>\n",
       "      <td>790000.0</td>\n",
       "      <td>Full Time</td>\n",
       "      <td>4.7</td>\n",
       "    </tr>\n",
       "    <tr>\n",
       "      <th>119</th>\n",
       "      <td>Jason Parrish</td>\n",
       "      <td>Andrade LLC</td>\n",
       "      <td>Garment/textile technologist</td>\n",
       "      <td>Aliciafort</td>\n",
       "      <td>Cote d'Ivoire</td>\n",
       "      <td>581130.0</td>\n",
       "      <td>Full Time</td>\n",
       "      <td>4.7</td>\n",
       "    </tr>\n",
       "    <tr>\n",
       "      <th>129</th>\n",
       "      <td>Connie Coleman</td>\n",
       "      <td>Andrade LLC</td>\n",
       "      <td>Optometrist</td>\n",
       "      <td>Kristaburgh</td>\n",
       "      <td>Indonesia</td>\n",
       "      <td>899260.0</td>\n",
       "      <td>Full Time</td>\n",
       "      <td>4.7</td>\n",
       "    </tr>\n",
       "    <tr>\n",
       "      <th>...</th>\n",
       "      <td>...</td>\n",
       "      <td>...</td>\n",
       "      <td>...</td>\n",
       "      <td>...</td>\n",
       "      <td>...</td>\n",
       "      <td>...</td>\n",
       "      <td>...</td>\n",
       "      <td>...</td>\n",
       "    </tr>\n",
       "    <tr>\n",
       "      <th>299757</th>\n",
       "      <td>Melissa Perry</td>\n",
       "      <td>Marshall-Holloway</td>\n",
       "      <td>Trading standards officer</td>\n",
       "      <td>Whiteside</td>\n",
       "      <td>Russian Federation</td>\n",
       "      <td>712460.0</td>\n",
       "      <td>Full Time</td>\n",
       "      <td>4.7</td>\n",
       "    </tr>\n",
       "    <tr>\n",
       "      <th>299765</th>\n",
       "      <td>Jeremy Ramirez</td>\n",
       "      <td>Thomas-Spencer</td>\n",
       "      <td>Diplomatic Services operational officer</td>\n",
       "      <td>Ricardomouth</td>\n",
       "      <td>Netherlands</td>\n",
       "      <td>330640.0</td>\n",
       "      <td>Intern</td>\n",
       "      <td>4.6</td>\n",
       "    </tr>\n",
       "    <tr>\n",
       "      <th>299772</th>\n",
       "      <td>Adam Moss</td>\n",
       "      <td>Johnston, Fleming and Tanner</td>\n",
       "      <td>Garment/textile technologist</td>\n",
       "      <td>Whiteside</td>\n",
       "      <td>Lao People's Democratic Republic</td>\n",
       "      <td>298790.0</td>\n",
       "      <td>Intern</td>\n",
       "      <td>4.6</td>\n",
       "    </tr>\n",
       "    <tr>\n",
       "      <th>299820</th>\n",
       "      <td>Brandi Christian</td>\n",
       "      <td>James and Sons</td>\n",
       "      <td>Make</td>\n",
       "      <td>North Melissafurt</td>\n",
       "      <td>Palestinian Territory</td>\n",
       "      <td>503370.0</td>\n",
       "      <td>Intern</td>\n",
       "      <td>4.6</td>\n",
       "    </tr>\n",
       "    <tr>\n",
       "      <th>299910</th>\n",
       "      <td>Daniel Johnson</td>\n",
       "      <td>Baker, Allen and Edwards</td>\n",
       "      <td>Energy manager</td>\n",
       "      <td>Wardfort</td>\n",
       "      <td>American Samoa</td>\n",
       "      <td>452970.0</td>\n",
       "      <td>Full Time</td>\n",
       "      <td>4.7</td>\n",
       "    </tr>\n",
       "  </tbody>\n",
       "</table>\n",
       "<p>11866 rows × 8 columns</p>\n",
       "</div>"
      ],
      "text/plain": [
       "                    Name                  Company_Name  \\\n",
       "49       Gerald Santiago                Thomas-Spencer   \n",
       "88         Julie Richard              Bullock-Carrillo   \n",
       "94        Natasha Harmon                  Matthews Inc   \n",
       "119        Jason Parrish                   Andrade LLC   \n",
       "129       Connie Coleman                   Andrade LLC   \n",
       "...                  ...                           ...   \n",
       "299757     Melissa Perry             Marshall-Holloway   \n",
       "299765    Jeremy Ramirez                Thomas-Spencer   \n",
       "299772         Adam Moss  Johnston, Fleming and Tanner   \n",
       "299820  Brandi Christian                James and Sons   \n",
       "299910    Daniel Johnson      Baker, Allen and Edwards   \n",
       "\n",
       "                             Employee_Job_Title      Employee_City  \\\n",
       "49                 Garment/textile technologist        Kristaburgh   \n",
       "88                              Naval architect           Wardfort   \n",
       "94                    Radiographer, therapeutic     West Jamesview   \n",
       "119                Garment/textile technologist         Aliciafort   \n",
       "129                                 Optometrist        Kristaburgh   \n",
       "...                                         ...                ...   \n",
       "299757                Trading standards officer          Whiteside   \n",
       "299765  Diplomatic Services operational officer       Ricardomouth   \n",
       "299772             Garment/textile technologist          Whiteside   \n",
       "299820                                     Make  North Melissafurt   \n",
       "299910                           Energy manager           Wardfort   \n",
       "\n",
       "                        Employee_Country  Employee_Salary Employment_Status  \\\n",
       "49                           El Salvador         873320.0         Full Time   \n",
       "88                               Burundi         222850.0         Full Time   \n",
       "94                               Bolivia         790000.0         Full Time   \n",
       "119                        Cote d'Ivoire         581130.0         Full Time   \n",
       "129                            Indonesia         899260.0         Full Time   \n",
       "...                                  ...              ...               ...   \n",
       "299757                Russian Federation         712460.0         Full Time   \n",
       "299765                       Netherlands         330640.0            Intern   \n",
       "299772  Lao People's Democratic Republic         298790.0            Intern   \n",
       "299820             Palestinian Territory         503370.0            Intern   \n",
       "299910                    American Samoa         452970.0         Full Time   \n",
       "\n",
       "        Employee_Rating  \n",
       "49                  4.7  \n",
       "88                  4.6  \n",
       "94                  4.7  \n",
       "119                 4.7  \n",
       "129                 4.7  \n",
       "...                 ...  \n",
       "299757              4.7  \n",
       "299765              4.6  \n",
       "299772              4.6  \n",
       "299820              4.6  \n",
       "299910              4.7  \n",
       "\n",
       "[11866 rows x 8 columns]"
      ]
     },
     "execution_count": 50,
     "metadata": {},
     "output_type": "execute_result"
    }
   ],
   "source": [
    "filt = (df['Employee_Rating'] > 4.5) & (df['Employee_Rating'] < 4.8)\n",
    "df[filt]"
   ]
  },
  {
   "cell_type": "markdown",
   "metadata": {
    "cell_id": "3bf89d459aca4a5a922e2cbd2aea38f8",
    "deepnote_cell_type": "text-cell-h3",
    "formattedRanges": [],
    "is_collapsed": false,
    "tags": []
   },
   "source": [
    "### 83. Print the name of the company with the maximum employees having rating > 4."
   ]
  },
  {
   "cell_type": "code",
   "execution_count": 51,
   "metadata": {
    "cell_id": "e9b382da5d1a4c60bd1aec23d267f67b",
    "deepnote_cell_height": 61,
    "deepnote_cell_type": "code",
    "execution_context_id": "0f47c3fb-5162-489e-a3a4-f4fc5f716c6d",
    "execution_millis": 0,
    "execution_start": 1734959135201,
    "source_hash": "e4b53a3f",
    "tags": []
   },
   "outputs": [
    {
     "data": {
      "text/plain": [
       "'Matthews Inc'"
      ]
     },
     "execution_count": 51,
     "metadata": {},
     "output_type": "execute_result"
    }
   ],
   "source": [
    "filt = df['Employee_Rating'] > 4\n",
    "df[filt]['Company_Name'].value_counts().idxmax()"
   ]
  },
  {
   "cell_type": "markdown",
   "metadata": {
    "cell_id": "425ce42777d441558e1ef51dc4e92143",
    "deepnote_cell_type": "text-cell-h3",
    "formattedRanges": [],
    "is_collapsed": false,
    "tags": []
   },
   "source": [
    "### 84. Print the rating of the employee named 'Julie Morton'."
   ]
  },
  {
   "cell_type": "code",
   "execution_count": 52,
   "metadata": {
    "cell_id": "395812b634ea48c9aa8470369b4b60f9",
    "deepnote_cell_height": 61,
    "deepnote_cell_type": "code",
    "execution_context_id": "0f47c3fb-5162-489e-a3a4-f4fc5f716c6d",
    "execution_millis": 1,
    "execution_start": 1734959216687,
    "source_hash": "b734d1b6",
    "tags": []
   },
   "outputs": [
    {
     "data": {
      "text/plain": [
       "1    4.3\n",
       "Name: Employee_Rating, dtype: float64"
      ]
     },
     "execution_count": 52,
     "metadata": {},
     "output_type": "execute_result"
    }
   ],
   "source": [
    "filt = df['Name'] == 'Julie Morton'\n",
    "df[filt]['Employee_Rating']"
   ]
  },
  {
   "cell_type": "markdown",
   "metadata": {
    "cell_id": "307df3cd0d73445999bdd27582c87ef6",
    "deepnote_cell_type": "text-cell-h3",
    "formattedRanges": [],
    "is_collapsed": false,
    "tags": []
   },
   "source": [
    "### 85. Print the last 3rd entry in the column Employee_City"
   ]
  },
  {
   "cell_type": "code",
   "execution_count": 53,
   "metadata": {
    "cell_id": "5c7e61e133344a10912f6abcb2f03d72",
    "deepnote_cell_height": 61,
    "deepnote_cell_type": "code",
    "execution_context_id": "0f47c3fb-5162-489e-a3a4-f4fc5f716c6d",
    "execution_millis": 0,
    "execution_start": 1734959291197,
    "source_hash": "db47aa9d",
    "tags": []
   },
   "outputs": [
    {
     "data": {
      "text/plain": [
       "'New Cindychester'"
      ]
     },
     "execution_count": 53,
     "metadata": {},
     "output_type": "execute_result"
    }
   ],
   "source": [
    "df['Employee_City'].iloc[-3]"
   ]
  },
  {
   "cell_type": "markdown",
   "metadata": {
    "cell_id": "8dfd209b1d8c45f79725e8a65ea2d56d",
    "deepnote_cell_type": "text-cell-h3",
    "formattedRanges": [],
    "is_collapsed": false,
    "tags": []
   },
   "source": [
    "### 86. Print the Employee_City column as a list"
   ]
  },
  {
   "cell_type": "code",
   "execution_count": 54,
   "metadata": {
    "cell_id": "a2f5544f9c3f4f429abadc469b235bea",
    "deepnote_cell_height": 61,
    "deepnote_cell_type": "code",
    "execution_context_id": "0f47c3fb-5162-489e-a3a4-f4fc5f716c6d",
    "execution_millis": 1,
    "execution_start": 1734959413585,
    "source_hash": "2d9fe732",
    "tags": []
   },
   "outputs": [
    {
     "data": {
      "text/plain": [
       "['New Russellton',\n",
       " 'North Melissafurt',\n",
       " 'Wardfort',\n",
       " 'West Jamesview',\n",
       " 'Whiteside',\n",
       " 'Ricardomouth',\n",
       " 'Wardfort',\n",
       " 'Kristaburgh',\n",
       " 'West Jamesview',\n",
       " 'New Cindychester',\n",
       " 'Whiteside',\n",
       " 'Ricardomouth',\n",
       " 'West Jamesview',\n",
       " 'New Russellton',\n",
       " 'New Russellton',\n",
       " 'Ricardomouth',\n",
       " 'North Melissafurt',\n",
       " 'Whitakerbury',\n",
       " 'New Russellton',\n",
       " 'New Russellton',\n",
       " 'Aliciafort',\n",
       " 'Wardfort',\n",
       " 'Kristaburgh',\n",
       " 'Aliciafort',\n",
       " 'Wardfort',\n",
       " 'Kristaburgh',\n",
       " 'Whiteside',\n",
       " 'Wardfort',\n",
       " 'West Jamesview',\n",
       " 'West Jamesview',\n",
       " 'New Russellton',\n",
       " 'Wardfort',\n",
       " 'Aliciafort',\n",
       " 'North Melissafurt',\n",
       " 'West Jamesview',\n",
       " 'New Cindychester',\n",
       " 'Wardfort',\n",
       " 'New Russellton',\n",
       " 'New Russellton',\n",
       " 'Kristaburgh',\n",
       " 'Kristaburgh',\n",
       " 'West Jamesview',\n",
       " 'Ricardomouth',\n",
       " 'Whiteside',\n",
       " 'Ricardomouth',\n",
       " 'North Melissafurt',\n",
       " 'Whitakerbury',\n",
       " 'Whitakerbury',\n",
       " 'Whiteside',\n",
       " 'Kristaburgh',\n",
       " 'Ricardomouth',\n",
       " 'New Russellton',\n",
       " 'Ricardomouth',\n",
       " 'Aliciafort',\n",
       " 'Aliciafort',\n",
       " 'North Melissafurt',\n",
       " 'Whiteside',\n",
       " 'Kristaburgh',\n",
       " 'North Melissafurt',\n",
       " 'North Melissafurt',\n",
       " 'Whitakerbury',\n",
       " 'Whitakerbury',\n",
       " 'Whiteside',\n",
       " 'New Cindychester',\n",
       " 'Aliciafort',\n",
       " 'North Melissafurt',\n",
       " 'Aliciafort',\n",
       " 'Whiteside',\n",
       " 'Wardfort',\n",
       " 'Aliciafort',\n",
       " 'Wardfort',\n",
       " 'West Jamesview',\n",
       " 'New Cindychester',\n",
       " 'Aliciafort',\n",
       " 'Whiteside',\n",
       " 'Ricardomouth',\n",
       " 'Wardfort',\n",
       " 'New Cindychester',\n",
       " 'West Jamesview',\n",
       " 'Whiteside',\n",
       " 'Whitakerbury',\n",
       " 'New Cindychester',\n",
       " 'Wardfort',\n",
       " 'Kristaburgh',\n",
       " 'New Cindychester',\n",
       " 'Whitakerbury',\n",
       " 'Kristaburgh',\n",
       " 'Kristaburgh',\n",
       " 'Wardfort',\n",
       " 'Whitakerbury',\n",
       " 'Kristaburgh',\n",
       " 'Aliciafort',\n",
       " 'New Russellton',\n",
       " 'New Russellton',\n",
       " 'West Jamesview',\n",
       " 'New Russellton',\n",
       " 'West Jamesview',\n",
       " 'Wardfort',\n",
       " 'Whiteside',\n",
       " 'Whiteside',\n",
       " 'New Russellton',\n",
       " 'Kristaburgh',\n",
       " 'Kristaburgh',\n",
       " 'West Jamesview',\n",
       " 'Whitakerbury',\n",
       " 'Wardfort',\n",
       " 'Aliciafort',\n",
       " 'New Russellton',\n",
       " 'Whitakerbury',\n",
       " 'Ricardomouth',\n",
       " 'West Jamesview',\n",
       " 'New Cindychester',\n",
       " 'Whitakerbury',\n",
       " 'Whitakerbury',\n",
       " 'West Jamesview',\n",
       " 'New Russellton',\n",
       " 'New Cindychester',\n",
       " 'Aliciafort',\n",
       " 'West Jamesview',\n",
       " 'Aliciafort',\n",
       " 'Whiteside',\n",
       " 'West Jamesview',\n",
       " 'North Melissafurt',\n",
       " 'Whitakerbury',\n",
       " 'New Russellton',\n",
       " 'West Jamesview',\n",
       " 'Wardfort',\n",
       " 'Whiteside',\n",
       " 'Whitakerbury',\n",
       " 'Kristaburgh',\n",
       " 'New Cindychester',\n",
       " 'North Melissafurt',\n",
       " 'Aliciafort',\n",
       " 'Whiteside',\n",
       " 'Wardfort',\n",
       " 'Whitakerbury',\n",
       " 'Kristaburgh',\n",
       " 'New Cindychester',\n",
       " 'New Russellton',\n",
       " 'Kristaburgh',\n",
       " 'Whitakerbury',\n",
       " 'New Cindychester',\n",
       " 'Whitakerbury',\n",
       " 'West Jamesview',\n",
       " 'Whitakerbury',\n",
       " 'Wardfort',\n",
       " 'North Melissafurt',\n",
       " 'West Jamesview',\n",
       " 'Whitakerbury',\n",
       " 'West Jamesview',\n",
       " 'Ricardomouth',\n",
       " 'Aliciafort',\n",
       " 'Whitakerbury',\n",
       " 'Whiteside',\n",
       " 'Whiteside',\n",
       " 'West Jamesview',\n",
       " 'North Melissafurt',\n",
       " 'West Jamesview',\n",
       " 'Aliciafort',\n",
       " 'Whiteside',\n",
       " 'New Russellton',\n",
       " 'Whitakerbury',\n",
       " 'Whitakerbury',\n",
       " 'North Melissafurt',\n",
       " 'Kristaburgh',\n",
       " 'West Jamesview',\n",
       " 'Kristaburgh',\n",
       " 'Wardfort',\n",
       " 'New Russellton',\n",
       " 'West Jamesview',\n",
       " 'Whitakerbury',\n",
       " 'Aliciafort',\n",
       " 'New Cindychester',\n",
       " 'New Cindychester',\n",
       " 'Whiteside',\n",
       " 'Ricardomouth',\n",
       " 'New Cindychester',\n",
       " 'New Cindychester',\n",
       " 'Aliciafort',\n",
       " 'Kristaburgh',\n",
       " 'New Cindychester',\n",
       " 'North Melissafurt',\n",
       " 'Wardfort',\n",
       " 'Wardfort',\n",
       " 'Kristaburgh',\n",
       " 'New Cindychester',\n",
       " 'Wardfort',\n",
       " 'West Jamesview',\n",
       " 'North Melissafurt',\n",
       " 'Whiteside',\n",
       " 'New Russellton',\n",
       " 'New Russellton',\n",
       " 'Kristaburgh',\n",
       " 'Whiteside',\n",
       " 'New Cindychester',\n",
       " 'North Melissafurt',\n",
       " 'Whitakerbury',\n",
       " 'West Jamesview',\n",
       " 'Whiteside',\n",
       " 'Whiteside',\n",
       " 'Whitakerbury',\n",
       " 'New Russellton',\n",
       " 'Kristaburgh',\n",
       " 'Kristaburgh',\n",
       " 'West Jamesview',\n",
       " 'Whitakerbury',\n",
       " 'North Melissafurt',\n",
       " 'Kristaburgh',\n",
       " 'West Jamesview',\n",
       " 'Whiteside',\n",
       " 'North Melissafurt',\n",
       " 'New Cindychester',\n",
       " 'Wardfort',\n",
       " 'New Cindychester',\n",
       " 'Aliciafort',\n",
       " 'Kristaburgh',\n",
       " 'Aliciafort',\n",
       " 'Wardfort',\n",
       " 'Kristaburgh',\n",
       " 'North Melissafurt',\n",
       " 'West Jamesview',\n",
       " 'Ricardomouth',\n",
       " 'Aliciafort',\n",
       " 'Kristaburgh',\n",
       " 'North Melissafurt',\n",
       " 'Whiteside',\n",
       " 'Kristaburgh',\n",
       " 'North Melissafurt',\n",
       " 'New Russellton',\n",
       " 'Ricardomouth',\n",
       " 'New Russellton',\n",
       " 'New Russellton',\n",
       " 'North Melissafurt',\n",
       " 'New Russellton',\n",
       " 'Ricardomouth',\n",
       " 'North Melissafurt',\n",
       " 'Whitakerbury',\n",
       " 'Kristaburgh',\n",
       " 'New Cindychester',\n",
       " 'Wardfort',\n",
       " 'Ricardomouth',\n",
       " 'Aliciafort',\n",
       " 'New Cindychester',\n",
       " 'Kristaburgh',\n",
       " 'Wardfort',\n",
       " 'Wardfort',\n",
       " 'Aliciafort',\n",
       " 'Ricardomouth',\n",
       " 'Ricardomouth',\n",
       " 'New Russellton',\n",
       " 'New Russellton',\n",
       " 'Aliciafort',\n",
       " 'North Melissafurt',\n",
       " 'West Jamesview',\n",
       " 'Whiteside',\n",
       " 'Ricardomouth',\n",
       " 'West Jamesview',\n",
       " 'West Jamesview',\n",
       " 'West Jamesview',\n",
       " 'Whitakerbury',\n",
       " 'New Cindychester',\n",
       " 'New Russellton',\n",
       " 'Whitakerbury',\n",
       " 'Kristaburgh',\n",
       " 'North Melissafurt',\n",
       " 'Kristaburgh',\n",
       " 'North Melissafurt',\n",
       " 'New Russellton',\n",
       " 'Aliciafort',\n",
       " 'North Melissafurt',\n",
       " 'Aliciafort',\n",
       " 'Whiteside',\n",
       " 'New Russellton',\n",
       " 'Kristaburgh',\n",
       " 'Kristaburgh',\n",
       " 'North Melissafurt',\n",
       " 'Ricardomouth',\n",
       " 'Kristaburgh',\n",
       " 'Wardfort',\n",
       " 'New Russellton',\n",
       " 'Kristaburgh',\n",
       " 'Kristaburgh',\n",
       " 'Whitakerbury',\n",
       " 'Kristaburgh',\n",
       " 'Aliciafort',\n",
       " 'Kristaburgh',\n",
       " 'Ricardomouth',\n",
       " 'Whiteside',\n",
       " 'Aliciafort',\n",
       " 'Whitakerbury',\n",
       " 'New Cindychester',\n",
       " 'Whiteside',\n",
       " 'New Russellton',\n",
       " 'Whiteside',\n",
       " 'Ricardomouth',\n",
       " 'West Jamesview',\n",
       " 'New Russellton',\n",
       " 'West Jamesview',\n",
       " 'Whiteside',\n",
       " 'Ricardomouth',\n",
       " 'West Jamesview',\n",
       " 'Whiteside',\n",
       " 'Aliciafort',\n",
       " 'New Russellton',\n",
       " 'Kristaburgh',\n",
       " 'Wardfort',\n",
       " 'Wardfort',\n",
       " 'Whiteside',\n",
       " 'Whiteside',\n",
       " 'Whitakerbury',\n",
       " 'West Jamesview',\n",
       " 'Whitakerbury',\n",
       " 'New Cindychester',\n",
       " 'New Russellton',\n",
       " 'New Russellton',\n",
       " 'Ricardomouth',\n",
       " 'New Cindychester',\n",
       " 'Aliciafort',\n",
       " 'Whiteside',\n",
       " 'Ricardomouth',\n",
       " 'North Melissafurt',\n",
       " 'Kristaburgh',\n",
       " 'Ricardomouth',\n",
       " 'New Cindychester',\n",
       " 'Wardfort',\n",
       " 'New Cindychester',\n",
       " 'Whiteside',\n",
       " 'Kristaburgh',\n",
       " 'Ricardomouth',\n",
       " 'Kristaburgh',\n",
       " 'Whitakerbury',\n",
       " 'Aliciafort',\n",
       " 'Aliciafort',\n",
       " 'Whitakerbury',\n",
       " 'Kristaburgh',\n",
       " 'North Melissafurt',\n",
       " 'Kristaburgh',\n",
       " 'Kristaburgh',\n",
       " 'Whitakerbury',\n",
       " 'Kristaburgh',\n",
       " 'Aliciafort',\n",
       " 'Aliciafort',\n",
       " 'Kristaburgh',\n",
       " 'North Melissafurt',\n",
       " 'Kristaburgh',\n",
       " 'Aliciafort',\n",
       " 'Whitakerbury',\n",
       " 'West Jamesview',\n",
       " 'New Russellton',\n",
       " 'Ricardomouth',\n",
       " 'North Melissafurt',\n",
       " 'West Jamesview',\n",
       " 'Aliciafort',\n",
       " 'New Cindychester',\n",
       " 'Whitakerbury',\n",
       " 'Ricardomouth',\n",
       " 'New Russellton',\n",
       " 'Aliciafort',\n",
       " 'West Jamesview',\n",
       " 'New Cindychester',\n",
       " 'Ricardomouth',\n",
       " 'Aliciafort',\n",
       " 'Wardfort',\n",
       " 'Whiteside',\n",
       " 'Ricardomouth',\n",
       " 'Wardfort',\n",
       " 'New Cindychester',\n",
       " 'Wardfort',\n",
       " 'Wardfort',\n",
       " 'New Russellton',\n",
       " 'Kristaburgh',\n",
       " 'Whitakerbury',\n",
       " 'Wardfort',\n",
       " 'Aliciafort',\n",
       " 'New Cindychester',\n",
       " 'Whiteside',\n",
       " 'Whitakerbury',\n",
       " 'Whitakerbury',\n",
       " 'Ricardomouth',\n",
       " 'New Cindychester',\n",
       " 'Whitakerbury',\n",
       " 'New Cindychester',\n",
       " 'New Russellton',\n",
       " 'Whiteside',\n",
       " 'New Russellton',\n",
       " 'West Jamesview',\n",
       " 'North Melissafurt',\n",
       " 'Aliciafort',\n",
       " 'Kristaburgh',\n",
       " 'Ricardomouth',\n",
       " 'Wardfort',\n",
       " 'North Melissafurt',\n",
       " 'North Melissafurt',\n",
       " 'West Jamesview',\n",
       " 'West Jamesview',\n",
       " 'Whiteside',\n",
       " 'New Cindychester',\n",
       " 'West Jamesview',\n",
       " 'Wardfort',\n",
       " 'Whiteside',\n",
       " 'Whiteside',\n",
       " 'New Cindychester',\n",
       " 'Whitakerbury',\n",
       " 'Kristaburgh',\n",
       " 'Whiteside',\n",
       " 'Whitakerbury',\n",
       " 'Kristaburgh',\n",
       " 'New Cindychester',\n",
       " 'Aliciafort',\n",
       " 'Aliciafort',\n",
       " 'Wardfort',\n",
       " 'Whiteside',\n",
       " 'Whitakerbury',\n",
       " 'North Melissafurt',\n",
       " 'West Jamesview',\n",
       " 'Wardfort',\n",
       " 'West Jamesview',\n",
       " 'Kristaburgh',\n",
       " 'Whitakerbury',\n",
       " 'Wardfort',\n",
       " 'Whitakerbury',\n",
       " 'North Melissafurt',\n",
       " 'Wardfort',\n",
       " 'Kristaburgh',\n",
       " 'New Cindychester',\n",
       " 'West Jamesview',\n",
       " 'Aliciafort',\n",
       " 'Kristaburgh',\n",
       " 'Kristaburgh',\n",
       " 'Ricardomouth',\n",
       " 'North Melissafurt',\n",
       " 'Ricardomouth',\n",
       " 'Kristaburgh',\n",
       " 'Whiteside',\n",
       " 'North Melissafurt',\n",
       " 'Wardfort',\n",
       " 'Kristaburgh',\n",
       " 'New Russellton',\n",
       " 'Wardfort',\n",
       " 'Whitakerbury',\n",
       " 'New Cindychester',\n",
       " 'Ricardomouth',\n",
       " 'Ricardomouth',\n",
       " 'Kristaburgh',\n",
       " 'Aliciafort',\n",
       " 'Ricardomouth',\n",
       " 'Ricardomouth',\n",
       " 'Whiteside',\n",
       " 'New Cindychester',\n",
       " 'Whitakerbury',\n",
       " 'North Melissafurt',\n",
       " 'New Russellton',\n",
       " 'Aliciafort',\n",
       " 'Ricardomouth',\n",
       " 'Kristaburgh',\n",
       " 'Kristaburgh',\n",
       " 'Whiteside',\n",
       " 'Ricardomouth',\n",
       " 'Aliciafort',\n",
       " 'Whitakerbury',\n",
       " 'Wardfort',\n",
       " 'North Melissafurt',\n",
       " 'Wardfort',\n",
       " 'Ricardomouth',\n",
       " 'Wardfort',\n",
       " 'Whiteside',\n",
       " 'New Russellton',\n",
       " 'Whiteside',\n",
       " 'New Cindychester',\n",
       " 'Whiteside',\n",
       " 'Whitakerbury',\n",
       " 'Ricardomouth',\n",
       " 'New Cindychester',\n",
       " 'Wardfort',\n",
       " 'New Russellton',\n",
       " 'New Cindychester',\n",
       " 'New Cindychester',\n",
       " 'Whitakerbury',\n",
       " 'Wardfort',\n",
       " 'Aliciafort',\n",
       " 'Ricardomouth',\n",
       " 'West Jamesview',\n",
       " 'Ricardomouth',\n",
       " 'Ricardomouth',\n",
       " 'Whiteside',\n",
       " 'West Jamesview',\n",
       " 'New Cindychester',\n",
       " 'Whitakerbury',\n",
       " 'Wardfort',\n",
       " 'Kristaburgh',\n",
       " 'Ricardomouth',\n",
       " 'North Melissafurt',\n",
       " 'Wardfort',\n",
       " 'North Melissafurt',\n",
       " 'Kristaburgh',\n",
       " 'West Jamesview',\n",
       " 'Kristaburgh',\n",
       " 'Kristaburgh',\n",
       " 'Aliciafort',\n",
       " 'New Russellton',\n",
       " 'New Russellton',\n",
       " 'Aliciafort',\n",
       " 'Ricardomouth',\n",
       " 'Whiteside',\n",
       " 'Aliciafort',\n",
       " 'New Russellton',\n",
       " 'Whitakerbury',\n",
       " 'New Russellton',\n",
       " 'Aliciafort',\n",
       " 'Ricardomouth',\n",
       " 'Kristaburgh',\n",
       " 'Ricardomouth',\n",
       " 'Kristaburgh',\n",
       " 'Whiteside',\n",
       " 'Whiteside',\n",
       " 'Whiteside',\n",
       " 'New Russellton',\n",
       " 'Whiteside',\n",
       " 'West Jamesview',\n",
       " 'Wardfort',\n",
       " 'Whitakerbury',\n",
       " 'Wardfort',\n",
       " 'Whiteside',\n",
       " 'Whiteside',\n",
       " 'Whiteside',\n",
       " 'New Cindychester',\n",
       " 'Whiteside',\n",
       " 'Kristaburgh',\n",
       " 'New Russellton',\n",
       " 'Wardfort',\n",
       " 'Ricardomouth',\n",
       " 'New Cindychester',\n",
       " 'Ricardomouth',\n",
       " 'Whiteside',\n",
       " 'North Melissafurt',\n",
       " 'North Melissafurt',\n",
       " 'New Cindychester',\n",
       " 'West Jamesview',\n",
       " 'New Russellton',\n",
       " 'Kristaburgh',\n",
       " 'Whitakerbury',\n",
       " 'Aliciafort',\n",
       " 'New Cindychester',\n",
       " 'New Russellton',\n",
       " 'North Melissafurt',\n",
       " 'North Melissafurt',\n",
       " 'North Melissafurt',\n",
       " 'Kristaburgh',\n",
       " 'New Russellton',\n",
       " 'North Melissafurt',\n",
       " 'Ricardomouth',\n",
       " 'Wardfort',\n",
       " 'Wardfort',\n",
       " 'Wardfort',\n",
       " 'Ricardomouth',\n",
       " 'West Jamesview',\n",
       " 'Whiteside',\n",
       " 'Aliciafort',\n",
       " 'Whitakerbury',\n",
       " 'Aliciafort',\n",
       " 'Ricardomouth',\n",
       " 'Whitakerbury',\n",
       " 'Whiteside',\n",
       " 'New Russellton',\n",
       " 'Whiteside',\n",
       " 'Kristaburgh',\n",
       " 'Whitakerbury',\n",
       " 'Aliciafort',\n",
       " 'New Russellton',\n",
       " 'New Cindychester',\n",
       " 'Aliciafort',\n",
       " 'North Melissafurt',\n",
       " 'Ricardomouth',\n",
       " 'Ricardomouth',\n",
       " 'New Cindychester',\n",
       " 'Kristaburgh',\n",
       " 'Kristaburgh',\n",
       " 'Wardfort',\n",
       " 'Kristaburgh',\n",
       " 'North Melissafurt',\n",
       " 'Whitakerbury',\n",
       " 'North Melissafurt',\n",
       " 'Ricardomouth',\n",
       " 'Ricardomouth',\n",
       " 'Aliciafort',\n",
       " 'New Russellton',\n",
       " 'West Jamesview',\n",
       " 'New Cindychester',\n",
       " 'Wardfort',\n",
       " 'Whitakerbury',\n",
       " 'Aliciafort',\n",
       " 'Wardfort',\n",
       " 'Aliciafort',\n",
       " 'Wardfort',\n",
       " 'North Melissafurt',\n",
       " 'Wardfort',\n",
       " 'Whiteside',\n",
       " 'Ricardomouth',\n",
       " 'Wardfort',\n",
       " 'New Russellton',\n",
       " 'New Cindychester',\n",
       " 'Whiteside',\n",
       " 'Whiteside',\n",
       " 'Whiteside',\n",
       " 'New Cindychester',\n",
       " 'Aliciafort',\n",
       " 'Kristaburgh',\n",
       " 'Whitakerbury',\n",
       " 'Kristaburgh',\n",
       " 'West Jamesview',\n",
       " 'New Russellton',\n",
       " 'North Melissafurt',\n",
       " 'New Russellton',\n",
       " 'New Russellton',\n",
       " 'Kristaburgh',\n",
       " 'Aliciafort',\n",
       " 'Whiteside',\n",
       " 'Wardfort',\n",
       " 'Whiteside',\n",
       " 'Kristaburgh',\n",
       " 'Aliciafort',\n",
       " 'Aliciafort',\n",
       " 'Aliciafort',\n",
       " 'Wardfort',\n",
       " 'Whitakerbury',\n",
       " 'North Melissafurt',\n",
       " 'Kristaburgh',\n",
       " 'Ricardomouth',\n",
       " 'New Russellton',\n",
       " 'New Russellton',\n",
       " 'Wardfort',\n",
       " 'New Cindychester',\n",
       " 'North Melissafurt',\n",
       " 'Ricardomouth',\n",
       " 'Wardfort',\n",
       " 'Whitakerbury',\n",
       " 'Aliciafort',\n",
       " 'New Cindychester',\n",
       " 'Ricardomouth',\n",
       " 'New Russellton',\n",
       " 'Wardfort',\n",
       " 'Whiteside',\n",
       " 'Ricardomouth',\n",
       " 'Aliciafort',\n",
       " 'Aliciafort',\n",
       " 'Ricardomouth',\n",
       " 'New Cindychester',\n",
       " 'Ricardomouth',\n",
       " 'Ricardomouth',\n",
       " 'Wardfort',\n",
       " 'Kristaburgh',\n",
       " 'Whitakerbury',\n",
       " 'Whitakerbury',\n",
       " 'Whitakerbury',\n",
       " 'North Melissafurt',\n",
       " 'Kristaburgh',\n",
       " 'Kristaburgh',\n",
       " 'Kristaburgh',\n",
       " 'North Melissafurt',\n",
       " 'Kristaburgh',\n",
       " 'Wardfort',\n",
       " 'Whiteside',\n",
       " 'North Melissafurt',\n",
       " 'Aliciafort',\n",
       " 'Whiteside',\n",
       " 'Whitakerbury',\n",
       " 'Aliciafort',\n",
       " 'North Melissafurt',\n",
       " 'New Cindychester',\n",
       " 'New Russellton',\n",
       " 'North Melissafurt',\n",
       " 'New Cindychester',\n",
       " 'New Russellton',\n",
       " 'New Russellton',\n",
       " 'Whiteside',\n",
       " 'New Cindychester',\n",
       " 'Whitakerbury',\n",
       " 'Wardfort',\n",
       " 'Ricardomouth',\n",
       " 'New Cindychester',\n",
       " 'New Russellton',\n",
       " 'Whiteside',\n",
       " 'Ricardomouth',\n",
       " 'New Cindychester',\n",
       " 'New Russellton',\n",
       " 'West Jamesview',\n",
       " 'Kristaburgh',\n",
       " 'West Jamesview',\n",
       " 'Wardfort',\n",
       " 'West Jamesview',\n",
       " 'New Cindychester',\n",
       " 'North Melissafurt',\n",
       " 'Aliciafort',\n",
       " 'North Melissafurt',\n",
       " 'New Cindychester',\n",
       " 'Kristaburgh',\n",
       " 'Whitakerbury',\n",
       " 'Wardfort',\n",
       " 'Aliciafort',\n",
       " 'Whitakerbury',\n",
       " 'West Jamesview',\n",
       " 'New Russellton',\n",
       " 'Whitakerbury',\n",
       " 'Kristaburgh',\n",
       " 'West Jamesview',\n",
       " 'Whitakerbury',\n",
       " 'Whiteside',\n",
       " 'New Cindychester',\n",
       " 'Ricardomouth',\n",
       " 'Whitakerbury',\n",
       " 'Wardfort',\n",
       " 'New Cindychester',\n",
       " 'Kristaburgh',\n",
       " 'Wardfort',\n",
       " 'Kristaburgh',\n",
       " 'North Melissafurt',\n",
       " 'Kristaburgh',\n",
       " 'New Cindychester',\n",
       " 'Ricardomouth',\n",
       " 'Kristaburgh',\n",
       " 'Ricardomouth',\n",
       " 'New Cindychester',\n",
       " 'New Russellton',\n",
       " 'New Cindychester',\n",
       " 'Whiteside',\n",
       " 'Ricardomouth',\n",
       " 'New Cindychester',\n",
       " 'Ricardomouth',\n",
       " 'Whitakerbury',\n",
       " 'North Melissafurt',\n",
       " 'Whitakerbury',\n",
       " 'Wardfort',\n",
       " 'Whitakerbury',\n",
       " 'Wardfort',\n",
       " 'West Jamesview',\n",
       " 'Kristaburgh',\n",
       " 'Whitakerbury',\n",
       " 'Whitakerbury',\n",
       " 'Ricardomouth',\n",
       " 'Whitakerbury',\n",
       " 'Wardfort',\n",
       " 'New Russellton',\n",
       " 'North Melissafurt',\n",
       " 'Kristaburgh',\n",
       " 'Whiteside',\n",
       " 'Ricardomouth',\n",
       " 'North Melissafurt',\n",
       " 'Wardfort',\n",
       " 'Kristaburgh',\n",
       " 'West Jamesview',\n",
       " 'Wardfort',\n",
       " 'West Jamesview',\n",
       " 'Wardfort',\n",
       " 'Aliciafort',\n",
       " 'Whiteside',\n",
       " 'West Jamesview',\n",
       " 'Ricardomouth',\n",
       " 'Ricardomouth',\n",
       " 'Aliciafort',\n",
       " 'Whitakerbury',\n",
       " 'Kristaburgh',\n",
       " 'Ricardomouth',\n",
       " 'Whitakerbury',\n",
       " 'Whitakerbury',\n",
       " 'New Cindychester',\n",
       " 'Whitakerbury',\n",
       " 'Kristaburgh',\n",
       " 'Whitakerbury',\n",
       " 'Aliciafort',\n",
       " 'Wardfort',\n",
       " 'Aliciafort',\n",
       " 'North Melissafurt',\n",
       " 'West Jamesview',\n",
       " 'Aliciafort',\n",
       " 'Aliciafort',\n",
       " 'West Jamesview',\n",
       " 'Ricardomouth',\n",
       " 'Kristaburgh',\n",
       " 'Wardfort',\n",
       " 'Whiteside',\n",
       " 'Wardfort',\n",
       " 'West Jamesview',\n",
       " 'Whiteside',\n",
       " 'New Russellton',\n",
       " 'West Jamesview',\n",
       " 'Ricardomouth',\n",
       " 'Ricardomouth',\n",
       " 'North Melissafurt',\n",
       " 'New Cindychester',\n",
       " 'Aliciafort',\n",
       " 'North Melissafurt',\n",
       " 'New Russellton',\n",
       " 'West Jamesview',\n",
       " 'New Cindychester',\n",
       " 'North Melissafurt',\n",
       " 'West Jamesview',\n",
       " 'New Russellton',\n",
       " 'Wardfort',\n",
       " 'West Jamesview',\n",
       " 'Wardfort',\n",
       " 'New Russellton',\n",
       " 'Ricardomouth',\n",
       " 'West Jamesview',\n",
       " 'West Jamesview',\n",
       " 'New Cindychester',\n",
       " 'Aliciafort',\n",
       " 'West Jamesview',\n",
       " 'Wardfort',\n",
       " 'Whiteside',\n",
       " 'West Jamesview',\n",
       " 'Whiteside',\n",
       " 'New Russellton',\n",
       " 'New Cindychester',\n",
       " 'New Cindychester',\n",
       " 'Ricardomouth',\n",
       " 'Kristaburgh',\n",
       " 'Wardfort',\n",
       " 'New Russellton',\n",
       " 'Wardfort',\n",
       " 'Ricardomouth',\n",
       " 'New Cindychester',\n",
       " 'Kristaburgh',\n",
       " 'Whitakerbury',\n",
       " 'Ricardomouth',\n",
       " 'Whiteside',\n",
       " 'Ricardomouth',\n",
       " 'Whiteside',\n",
       " 'North Melissafurt',\n",
       " 'Whiteside',\n",
       " 'Ricardomouth',\n",
       " 'North Melissafurt',\n",
       " 'West Jamesview',\n",
       " 'New Russellton',\n",
       " 'North Melissafurt',\n",
       " 'Kristaburgh',\n",
       " 'West Jamesview',\n",
       " 'Ricardomouth',\n",
       " 'North Melissafurt',\n",
       " 'Ricardomouth',\n",
       " 'New Russellton',\n",
       " 'New Cindychester',\n",
       " 'New Cindychester',\n",
       " 'Whitakerbury',\n",
       " 'New Cindychester',\n",
       " 'Ricardomouth',\n",
       " 'West Jamesview',\n",
       " 'Ricardomouth',\n",
       " 'New Russellton',\n",
       " 'Ricardomouth',\n",
       " 'Wardfort',\n",
       " 'Ricardomouth',\n",
       " 'Aliciafort',\n",
       " 'Kristaburgh',\n",
       " 'North Melissafurt',\n",
       " 'Wardfort',\n",
       " 'New Cindychester',\n",
       " 'Aliciafort',\n",
       " 'New Cindychester',\n",
       " 'New Cindychester',\n",
       " 'Whiteside',\n",
       " 'West Jamesview',\n",
       " 'Aliciafort',\n",
       " 'New Russellton',\n",
       " 'Kristaburgh',\n",
       " 'Aliciafort',\n",
       " 'Whiteside',\n",
       " 'Whitakerbury',\n",
       " 'North Melissafurt',\n",
       " 'West Jamesview',\n",
       " 'New Russellton',\n",
       " 'Ricardomouth',\n",
       " 'Aliciafort',\n",
       " 'Whitakerbury',\n",
       " 'New Cindychester',\n",
       " 'West Jamesview',\n",
       " 'New Russellton',\n",
       " 'New Cindychester',\n",
       " 'New Russellton',\n",
       " 'North Melissafurt',\n",
       " 'West Jamesview',\n",
       " 'Ricardomouth',\n",
       " 'West Jamesview',\n",
       " 'Whitakerbury',\n",
       " 'Whitakerbury',\n",
       " 'Wardfort',\n",
       " 'Wardfort',\n",
       " 'Kristaburgh',\n",
       " 'North Melissafurt',\n",
       " 'Whitakerbury',\n",
       " 'New Cindychester',\n",
       " 'Whitakerbury',\n",
       " 'New Russellton',\n",
       " 'New Russellton',\n",
       " 'Wardfort',\n",
       " 'New Cindychester',\n",
       " 'North Melissafurt',\n",
       " 'Wardfort',\n",
       " 'Ricardomouth',\n",
       " 'Kristaburgh',\n",
       " 'North Melissafurt',\n",
       " 'Aliciafort',\n",
       " 'Whiteside',\n",
       " 'Whitakerbury',\n",
       " 'Ricardomouth',\n",
       " 'Ricardomouth',\n",
       " 'Ricardomouth',\n",
       " 'North Melissafurt',\n",
       " 'Ricardomouth',\n",
       " 'West Jamesview',\n",
       " 'Wardfort',\n",
       " 'Wardfort',\n",
       " 'New Cindychester',\n",
       " 'North Melissafurt',\n",
       " 'North Melissafurt',\n",
       " 'New Cindychester',\n",
       " 'Whiteside',\n",
       " 'North Melissafurt',\n",
       " 'West Jamesview',\n",
       " 'New Russellton',\n",
       " 'New Russellton',\n",
       " 'North Melissafurt',\n",
       " 'Whitakerbury',\n",
       " 'Wardfort',\n",
       " 'Aliciafort',\n",
       " 'Whitakerbury',\n",
       " 'Whiteside',\n",
       " 'Aliciafort',\n",
       " 'Ricardomouth',\n",
       " 'Ricardomouth',\n",
       " 'New Russellton',\n",
       " 'Whitakerbury',\n",
       " 'Whiteside',\n",
       " 'Whiteside',\n",
       " 'Whiteside',\n",
       " 'Kristaburgh',\n",
       " 'Wardfort',\n",
       " 'Kristaburgh',\n",
       " 'Whitakerbury',\n",
       " 'Whiteside',\n",
       " 'New Cindychester',\n",
       " 'New Russellton',\n",
       " 'North Melissafurt',\n",
       " 'New Russellton',\n",
       " 'Wardfort',\n",
       " 'New Cindychester',\n",
       " 'Kristaburgh',\n",
       " 'Wardfort',\n",
       " 'Kristaburgh',\n",
       " 'North Melissafurt',\n",
       " 'Whitakerbury',\n",
       " 'Whitakerbury',\n",
       " 'Wardfort',\n",
       " 'Whiteside',\n",
       " 'Kristaburgh',\n",
       " 'Ricardomouth',\n",
       " 'Aliciafort',\n",
       " 'North Melissafurt',\n",
       " 'Kristaburgh',\n",
       " 'Whitakerbury',\n",
       " 'Whitakerbury',\n",
       " 'Wardfort',\n",
       " 'Aliciafort',\n",
       " 'Ricardomouth',\n",
       " 'Kristaburgh',\n",
       " 'Wardfort',\n",
       " 'New Russellton',\n",
       " 'North Melissafurt',\n",
       " 'Wardfort',\n",
       " 'Kristaburgh',\n",
       " 'Kristaburgh',\n",
       " 'Whitakerbury',\n",
       " 'North Melissafurt',\n",
       " 'West Jamesview',\n",
       " 'Whitakerbury',\n",
       " 'Ricardomouth',\n",
       " 'Whitakerbury',\n",
       " 'Wardfort',\n",
       " 'North Melissafurt',\n",
       " 'Kristaburgh',\n",
       " 'Whiteside',\n",
       " 'New Cindychester',\n",
       " 'Ricardomouth',\n",
       " 'New Cindychester',\n",
       " 'Whitakerbury',\n",
       " 'Whiteside',\n",
       " 'Whiteside',\n",
       " 'New Russellton',\n",
       " 'Whiteside',\n",
       " 'Whiteside',\n",
       " 'Ricardomouth',\n",
       " 'New Russellton',\n",
       " 'New Cindychester',\n",
       " 'Kristaburgh',\n",
       " 'Aliciafort',\n",
       " 'New Russellton',\n",
       " 'Wardfort',\n",
       " 'New Russellton',\n",
       " 'Whitakerbury',\n",
       " 'Aliciafort',\n",
       " 'Kristaburgh',\n",
       " ...]"
      ]
     },
     "execution_count": 54,
     "metadata": {},
     "output_type": "execute_result"
    }
   ],
   "source": [
    "df['Employee_City'].tolist()"
   ]
  },
  {
   "cell_type": "markdown",
   "metadata": {
    "cell_id": "1135bbca720c4f7d975ea6120d4c6ffe",
    "deepnote_cell_type": "text-cell-h3",
    "formattedRanges": [],
    "is_collapsed": false,
    "tags": []
   },
   "source": [
    "### 87. Are the number of employees in 'Scott Inc' company greater than that in 'Andrade LLC'? Print True/False"
   ]
  },
  {
   "cell_type": "code",
   "execution_count": 55,
   "metadata": {
    "cell_id": "d9c48e593e02467ea191a6cc56f5113e",
    "deepnote_cell_height": 61,
    "deepnote_cell_type": "code",
    "execution_context_id": "0f47c3fb-5162-489e-a3a4-f4fc5f716c6d",
    "execution_millis": 0,
    "execution_start": 1734960063109,
    "source_hash": "78161dd",
    "tags": []
   },
   "outputs": [
    {
     "data": {
      "text/plain": [
       "True"
      ]
     },
     "execution_count": 55,
     "metadata": {},
     "output_type": "execute_result"
    }
   ],
   "source": [
    "filt1 = df['Company_Name'] == 'Scott Inc'\n",
    "filt2 = df['Company_Name'] == 'Andrade LLC'\n",
    "df[filt1].shape[0] > df[filt2].shape[0]"
   ]
  },
  {
   "cell_type": "markdown",
   "metadata": {
    "cell_id": "da4494a09e5a450ea6becff747c42153",
    "deepnote_cell_type": "text-cell-h3",
    "formattedRanges": [],
    "is_collapsed": false,
    "tags": []
   },
   "source": [
    "### 88. Which is the most common first name in the dataframe?"
   ]
  },
  {
   "cell_type": "code",
   "execution_count": 56,
   "metadata": {
    "cell_id": "b2d51a0d0d8a4a1aa98b55b97955b45d",
    "deepnote_cell_height": 61,
    "deepnote_cell_type": "code",
    "execution_context_id": "0f47c3fb-5162-489e-a3a4-f4fc5f716c6d",
    "execution_millis": 973,
    "execution_start": 1734960158333,
    "source_hash": "cd264b78",
    "tags": []
   },
   "outputs": [
    {
     "data": {
      "text/plain": [
       "'Michael'"
      ]
     },
     "execution_count": 56,
     "metadata": {},
     "output_type": "execute_result"
    }
   ],
   "source": [
    "new_df = df['Name'].str.split(' ', n=1, expand=True)\n",
    "new_df[0].value_counts().idxmax()"
   ]
  },
  {
   "cell_type": "markdown",
   "metadata": {
    "cell_id": "46d94ec7e6f746a8976d03639877c3e0",
    "deepnote_cell_type": "text-cell-h3",
    "formattedRanges": [],
    "is_collapsed": false,
    "tags": []
   },
   "source": [
    "### 89. Which is the least common last name in the dataframe?"
   ]
  },
  {
   "cell_type": "code",
   "execution_count": 57,
   "metadata": {
    "cell_id": "86e427d01936469b8443f637936e887e",
    "deepnote_cell_height": 61,
    "deepnote_cell_type": "code",
    "execution_context_id": "0f47c3fb-5162-489e-a3a4-f4fc5f716c6d",
    "execution_millis": 1073,
    "execution_start": 1734960224085,
    "source_hash": "220729b4",
    "tags": []
   },
   "outputs": [
    {
     "data": {
      "text/plain": [
       "'Terrance'"
      ]
     },
     "execution_count": 57,
     "metadata": {},
     "output_type": "execute_result"
    }
   ],
   "source": [
    "new_df = df['Name'].str.split(' ', n=1, expand=True)\n",
    "new_df[0].value_counts().idxmin()"
   ]
  },
  {
   "cell_type": "markdown",
   "metadata": {
    "cell_id": "6580b5d2c68d40a28304c42f7079f4b0",
    "deepnote_cell_type": "text-cell-h3",
    "formattedRanges": [],
    "is_collapsed": false,
    "tags": []
   },
   "source": [
    "### 90. What is the average name length? "
   ]
  },
  {
   "cell_type": "code",
   "execution_count": 58,
   "metadata": {
    "cell_id": "747923e2a5c343129d0899a2c465c097",
    "deepnote_cell_height": 61,
    "deepnote_cell_type": "code",
    "execution_context_id": "0f47c3fb-5162-489e-a3a4-f4fc5f716c6d",
    "execution_millis": 42,
    "execution_start": 1734960320455,
    "source_hash": "4ec72199",
    "tags": []
   },
   "outputs": [
    {
     "data": {
      "text/plain": [
       "13.1079"
      ]
     },
     "execution_count": 58,
     "metadata": {},
     "output_type": "execute_result"
    }
   ],
   "source": [
    "df['Name'].str.len().mean()"
   ]
  }
 ],
 "metadata": {
  "deepnote_notebook_id": "3c32df88e83d4067ae46df6217bdfcb0",
  "kernelspec": {
   "display_name": "base",
   "language": "python",
   "name": "python3"
  },
  "language_info": {
   "codemirror_mode": {
    "name": "ipython",
    "version": 3
   },
   "file_extension": ".py",
   "mimetype": "text/x-python",
   "name": "python",
   "nbconvert_exporter": "python",
   "pygments_lexer": "ipython3",
   "version": "3.12.7"
  }
 },
 "nbformat": 4,
 "nbformat_minor": 0
}

{
 "cells": [
  {
   "cell_type": "markdown",
   "metadata": {
    "cell_id": "5488bd93a792425bb1efe4c3edd0f0df",
    "deepnote_cell_type": "text-cell-h1",
    "formattedRanges": [],
    "is_collapsed": false,
    "tags": []
   },
   "source": [
    "# Pandas Notebook 1"
   ]
  },
  {
   "cell_type": "code",
   "execution_count": 1,
   "metadata": {
    "allow_embed": "code",
    "cell_id": "8744164d0e4242cd9d1e3abcbad7967d",
    "deepnote_cell_type": "code",
    "deepnote_to_be_reexecuted": false,
    "execution_context_id": "00281ed3-7711-43f6-b474-b84c68005fad",
    "execution_millis": 2,
    "execution_start": 1734925733284,
    "source_hash": "c76c7c51",
    "tags": []
   },
   "outputs": [],
   "source": [
    "import pandas as pd\n",
    "import numpy as np"
   ]
  },
  {
   "cell_type": "markdown",
   "metadata": {
    "cell_id": "c23b083f17854270923cf35207e864f7",
    "deepnote_cell_type": "text-cell-h2",
    "formattedRanges": [],
    "is_collapsed": false,
    "tags": []
   },
   "source": [
    "## Create a Pandas DataFrame"
   ]
  },
  {
   "cell_type": "markdown",
   "metadata": {
    "cell_id": "c1c25ae3be3643d5b62a40c00bd0c234",
    "deepnote_cell_type": "text-cell-h3",
    "formattedRanges": [],
    "is_collapsed": false,
    "tags": []
   },
   "source": [
    "### 1. Create a DataFrame from a list of lists. Name the columns \"col1\", \"col2\" and \"col3\"."
   ]
  },
  {
   "cell_type": "code",
   "execution_count": 2,
   "metadata": {
    "cell_id": "7389689f77fb4b4299cd996e98fa276f",
    "deepnote_cell_height": 115,
    "deepnote_cell_type": "code",
    "execution_context_id": "00281ed3-7711-43f6-b474-b84c68005fad",
    "execution_millis": 1,
    "execution_start": 1734925901161,
    "source_hash": "360d2797",
    "tags": []
   },
   "outputs": [
    {
     "name": "stdout",
     "output_type": "stream",
     "text": [
      "   col1  col2  col3\n",
      "0     1     2     3\n",
      "1     4     5     6\n"
     ]
    }
   ],
   "source": [
    "data_list = [[1,2,3], [4,5,6]]\n",
    "\n",
    "df = pd.DataFrame(data_list, columns=['col1', 'col2', 'col3'])\n",
    "print(df)"
   ]
  },
  {
   "cell_type": "markdown",
   "metadata": {
    "cell_id": "733a67616e5145a5863054fc5aa962d1",
    "deepnote_cell_type": "text-cell-h3",
    "formattedRanges": [],
    "is_collapsed": false,
    "tags": []
   },
   "source": [
    "### 2. Create a DataFrame from a list of lists. Name the columns \"col1\", \"col2\" and \"col3\". Change the data type of all columns to \"int8\"."
   ]
  },
  {
   "cell_type": "code",
   "execution_count": 3,
   "metadata": {
    "cell_id": "06df6aaf992d4994ab1e7ef0a6481fd9",
    "deepnote_cell_height": 133,
    "deepnote_cell_type": "code",
    "execution_context_id": "00281ed3-7711-43f6-b474-b84c68005fad",
    "execution_millis": 0,
    "execution_start": 1734925955189,
    "source_hash": "ee09771f",
    "tags": []
   },
   "outputs": [
    {
     "name": "stdout",
     "output_type": "stream",
     "text": [
      "   col1  col2  col3\n",
      "0     1     2     3\n",
      "1     4     5     6\n",
      "col1    int8\n",
      "col2    int8\n",
      "col3    int8\n",
      "dtype: object\n"
     ]
    }
   ],
   "source": [
    "data_list = [[1,2,3], [4,5,6]]\n",
    "\n",
    "df = pd.DataFrame(data_list, columns=['col1', 'col2', 'col3'], dtype='int8')\n",
    "print(df) \n",
    "print(df.dtypes)"
   ]
  },
  {
   "cell_type": "markdown",
   "metadata": {
    "cell_id": "03683a84275e4f5c81b107c0594045ef",
    "deepnote_cell_type": "text-cell-h3",
    "formattedRanges": [],
    "is_collapsed": false,
    "tags": []
   },
   "source": [
    "### 3. Create a DataFrame from a dictionary."
   ]
  },
  {
   "cell_type": "code",
   "execution_count": 4,
   "metadata": {
    "cell_id": "d8928b90ecf841c18b9b4e50e35b5a6e",
    "deepnote_cell_height": 115,
    "deepnote_cell_type": "code",
    "execution_context_id": "00281ed3-7711-43f6-b474-b84c68005fad",
    "execution_millis": 0,
    "execution_start": 1734925988773,
    "source_hash": "f2c02f4f",
    "tags": []
   },
   "outputs": [
    {
     "name": "stdout",
     "output_type": "stream",
     "text": [
      "   col1  col2\n",
      "0     1     3\n",
      "1     2     4\n"
     ]
    }
   ],
   "source": [
    "data_dict = {'col1': [1, 2], 'col2': [3, 4]}\n",
    "\n",
    "df = pd.DataFrame(data_dict)\n",
    "print(df)"
   ]
  },
  {
   "cell_type": "markdown",
   "metadata": {
    "cell_id": "f9a47709f38e48bd85a42e3996b39fbb",
    "deepnote_cell_type": "text-cell-h3",
    "formattedRanges": [],
    "is_collapsed": false,
    "tags": []
   },
   "source": [
    "### 4. Create a DataFrame from a dictionary. Change the data type to \"int8\"."
   ]
  },
  {
   "cell_type": "code",
   "execution_count": 5,
   "metadata": {
    "cell_id": "365d905507e848b2ad9d4ad05459e5bb",
    "deepnote_cell_height": 133,
    "deepnote_cell_type": "code",
    "execution_context_id": "00281ed3-7711-43f6-b474-b84c68005fad",
    "execution_millis": 1,
    "execution_start": 1734926010301,
    "source_hash": "a7475352",
    "tags": []
   },
   "outputs": [
    {
     "name": "stdout",
     "output_type": "stream",
     "text": [
      "   col1  col2\n",
      "0     1     3\n",
      "1     2     4\n",
      "col1    int8\n",
      "col2    int8\n",
      "dtype: object\n"
     ]
    }
   ],
   "source": [
    "data_dict = {'col1': [1, 2], 'col2': [3, 4]}\n",
    "\n",
    "df = pd.DataFrame(data_dict, dtype='int8')\n",
    "print(df)\n",
    "print(df.dtypes)"
   ]
  },
  {
   "cell_type": "markdown",
   "metadata": {
    "cell_id": "84425fc248ae443aad2fa7c8a44ef7fe",
    "deepnote_cell_type": "text-cell-h3",
    "formattedRanges": [],
    "is_collapsed": false,
    "tags": []
   },
   "source": [
    "### 5. Create a DataFrame from a numpy array. Name the columns \"col1\", \"col2\" and \"col3\"."
   ]
  },
  {
   "cell_type": "code",
   "execution_count": 6,
   "metadata": {
    "cell_id": "ffb1c0c3ecc04c01b66ec2c1270b6e53",
    "deepnote_cell_height": 115,
    "deepnote_cell_type": "code",
    "execution_context_id": "00281ed3-7711-43f6-b474-b84c68005fad",
    "execution_millis": 0,
    "execution_start": 1734926038617,
    "source_hash": "53599b1a",
    "tags": []
   },
   "outputs": [
    {
     "name": "stdout",
     "output_type": "stream",
     "text": [
      "   col1  col2  col3\n",
      "0     1     2     3\n",
      "1     4     5     6\n"
     ]
    }
   ],
   "source": [
    "data_nparray = np.array([[1,2,3], [4,5,6]])\n",
    "\n",
    "df = pd.DataFrame(data_nparray, columns=['col1', 'col2', 'col3'])\n",
    "print(df)"
   ]
  },
  {
   "cell_type": "markdown",
   "metadata": {
    "cell_id": "743338f476e348ce95f9b4c72ba7499a",
    "deepnote_cell_type": "text-cell-h2",
    "formattedRanges": [],
    "is_collapsed": false,
    "tags": []
   },
   "source": [
    "## Input Operations from CSV in Pandas"
   ]
  },
  {
   "cell_type": "markdown",
   "metadata": {
    "cell_id": "3f3a300f637e418e9baa001f002a2095",
    "deepnote_cell_type": "text-cell-h3",
    "formattedRanges": [],
    "is_collapsed": false,
    "tags": []
   },
   "source": [
    "### 6. Read a CSV File."
   ]
  },
  {
   "cell_type": "code",
   "execution_count": 7,
   "metadata": {
    "cell_id": "9b8b010d6f2548409a60a157bf7f7e71",
    "deepnote_cell_type": "code",
    "deepnote_to_be_reexecuted": false,
    "execution_context_id": "00281ed3-7711-43f6-b474-b84c68005fad",
    "execution_millis": 316,
    "execution_start": 1734926067645,
    "source_hash": "588ba20d",
    "tags": []
   },
   "outputs": [
    {
     "name": "stdout",
     "output_type": "stream",
     "text": [
      "   col1  col2  col3\n",
      "0     1     2     3\n",
      "1     4     5     6\n",
      "2     7     8     9\n"
     ]
    }
   ],
   "source": [
    "csv_file = \"input_data/file1.csv\"\n",
    "\n",
    "df = pd.read_csv(csv_file)\n",
    "print(df)"
   ]
  },
  {
   "cell_type": "markdown",
   "metadata": {
    "cell_id": "559278e4075a445fb9bd264a320b14fe",
    "deepnote_cell_type": "text-cell-h3",
    "formattedRanges": [],
    "is_collapsed": false,
    "tags": []
   },
   "source": [
    "### 7. Read a CSV file with delimiter \"|\"."
   ]
  },
  {
   "cell_type": "code",
   "execution_count": 8,
   "metadata": {
    "cell_id": "4fafaa0059f04a309c497ac9c67005b0",
    "deepnote_cell_height": 115,
    "deepnote_cell_type": "code",
    "execution_context_id": "00281ed3-7711-43f6-b474-b84c68005fad",
    "execution_millis": 186,
    "execution_start": 1734926128965,
    "source_hash": "ff24010b",
    "tags": []
   },
   "outputs": [
    {
     "name": "stdout",
     "output_type": "stream",
     "text": [
      "   col1  col2  col3\n",
      "0     1     2     3\n",
      "1     4     5     6\n",
      "2     7     8     9\n"
     ]
    }
   ],
   "source": [
    "csv_file = \"input_data/file2.csv\"\n",
    "\n",
    "df = pd.read_csv(csv_file, delimiter=\"|\")\n",
    "print(df)"
   ]
  },
  {
   "cell_type": "markdown",
   "metadata": {
    "cell_id": "b3b047629379427d9785e9d791783c22",
    "deepnote_cell_type": "text-cell-h3",
    "formattedRanges": [],
    "is_collapsed": false,
    "tags": []
   },
   "source": [
    "### 8. Read a CSV file with no header column and use \"col1\", \"col2\" and \"col3\" as column names. The delimiter is \",\"."
   ]
  },
  {
   "cell_type": "code",
   "execution_count": 9,
   "metadata": {
    "cell_id": "faa9cb1bca07448d8ccb0ab873d28de4",
    "deepnote_cell_height": 115,
    "deepnote_cell_type": "code",
    "execution_context_id": "00281ed3-7711-43f6-b474-b84c68005fad",
    "execution_millis": 265,
    "execution_start": 1734926283765,
    "source_hash": "9718de1",
    "tags": []
   },
   "outputs": [
    {
     "name": "stdout",
     "output_type": "stream",
     "text": [
      "   col1  col2  col3\n",
      "0     1     2     3\n",
      "1     4     5     6\n",
      "2     7     8     9\n"
     ]
    }
   ],
   "source": [
    "csv_file = \"input_data/file3.csv\"\n",
    "\n",
    "df = pd.read_csv(csv_file, delimiter=\",\", header=None, names=[\"col1\", \"col2\", \"col3\"])\n",
    "print(df)"
   ]
  },
  {
   "cell_type": "markdown",
   "metadata": {
    "cell_id": "b373325c15e74de2a624ce366bb4b276",
    "deepnote_cell_type": "text-cell-h3",
    "formattedRanges": [],
    "is_collapsed": false,
    "tags": []
   },
   "source": [
    "### 9. There are 3 columns in the file, namely \"col1\", \"col2\", and \"col3\". You have to read only \"col1\" and \"col3\"."
   ]
  },
  {
   "cell_type": "code",
   "execution_count": 10,
   "metadata": {
    "cell_id": "d1b67a1f5ff84a769c0fa577cb304a45",
    "deepnote_cell_height": 115,
    "deepnote_cell_type": "code",
    "execution_context_id": "00281ed3-7711-43f6-b474-b84c68005fad",
    "execution_millis": 216,
    "execution_start": 1734926371381,
    "source_hash": "82928988",
    "tags": []
   },
   "outputs": [
    {
     "name": "stdout",
     "output_type": "stream",
     "text": [
      "   col1  col3\n",
      "0     1     3\n",
      "1     4     6\n",
      "2     7     9\n"
     ]
    }
   ],
   "source": [
    "csv_file = \"input_data/file1.csv\"\n",
    "\n",
    "df = pd.read_csv(csv_file, usecols=[\"col1\", \"col3\"])\n",
    "print(df)"
   ]
  },
  {
   "cell_type": "markdown",
   "metadata": {
    "cell_id": "53c2675c32d449139920e758067b7e47",
    "deepnote_cell_type": "text-cell-h3",
    "formattedRanges": [],
    "is_collapsed": false,
    "tags": []
   },
   "source": [
    "### 10. There are 3 columns in the file, namely \"col1\", \"col2\", and \"col3\". You have to read only \"col1\" and \"col3\". Moreover, the delimiter is \"|\"."
   ]
  },
  {
   "cell_type": "code",
   "execution_count": 11,
   "metadata": {
    "cell_id": "209d9c04bf024611a52c2089a6f4f01a",
    "deepnote_cell_height": 115,
    "deepnote_cell_type": "code",
    "execution_context_id": "00281ed3-7711-43f6-b474-b84c68005fad",
    "execution_millis": 192,
    "execution_start": 1734926458213,
    "source_hash": "fc555a21",
    "tags": []
   },
   "outputs": [
    {
     "name": "stdout",
     "output_type": "stream",
     "text": [
      "   col1  col3\n",
      "0     1     3\n",
      "1     4     6\n",
      "2     7     9\n"
     ]
    }
   ],
   "source": [
    "csv_file = \"input_data/file2.csv\"\n",
    "\n",
    "df = pd.read_csv(csv_file, usecols=['col1', 'col3'], delimiter=\"|\")\n",
    "print(df)"
   ]
  },
  {
   "cell_type": "markdown",
   "metadata": {
    "cell_id": "7e909bbb76f547a097f41b73fec5b62e",
    "deepnote_cell_type": "text-cell-h3",
    "formattedRanges": [],
    "is_collapsed": false,
    "tags": []
   },
   "source": [
    "### 11. The file \"file4.csv\" has junk characters in the first two lines. You have to read the CSV file from the 3rd line."
   ]
  },
  {
   "cell_type": "code",
   "execution_count": 12,
   "metadata": {
    "cell_id": "b4210bc6076049059f21c0ee85edb043",
    "deepnote_cell_height": 115,
    "deepnote_cell_type": "code",
    "execution_context_id": "00281ed3-7711-43f6-b474-b84c68005fad",
    "execution_millis": 260,
    "execution_start": 1734926578677,
    "source_hash": "fe22068e",
    "tags": []
   },
   "outputs": [
    {
     "name": "stdout",
     "output_type": "stream",
     "text": [
      "   col1  col2  col3\n",
      "0     1     2     3\n",
      "1     4     5     6\n",
      "2     7     8     9\n"
     ]
    }
   ],
   "source": [
    "csv_file = \"input_data/file4.csv\"\n",
    "\n",
    "df = pd.read_csv(csv_file, skiprows=2)\n",
    "print(df)"
   ]
  },
  {
   "cell_type": "markdown",
   "metadata": {
    "cell_id": "eccd2d2fafbf42cdb16c2b9df212b9cd",
    "deepnote_cell_type": "text-cell-h3",
    "formattedRanges": [],
    "is_collapsed": false,
    "tags": []
   },
   "source": [
    "### 12. There are 3 columns in the file, namely \"col1\", \"col2\", and \"col3\". While reading the CSV file, specify the data type of \"col1\" as 'int32'."
   ]
  },
  {
   "cell_type": "code",
   "execution_count": 13,
   "metadata": {
    "cell_id": "1327072cdc2d40e49049f410c36c431b",
    "deepnote_cell_height": 115,
    "deepnote_cell_type": "code",
    "execution_context_id": "00281ed3-7711-43f6-b474-b84c68005fad",
    "execution_millis": 139,
    "execution_start": 1734926664045,
    "source_hash": "c93058af",
    "tags": []
   },
   "outputs": [
    {
     "name": "stdout",
     "output_type": "stream",
     "text": [
      "   col1  col2  col3\n",
      "0     1     2     3\n",
      "1     4     5     6\n",
      "2     7     8     9\n"
     ]
    }
   ],
   "source": [
    "csv_file = \"input_data/file1.csv\"\n",
    "\n",
    "df = pd.read_csv(csv_file, dtype={'col1': 'int32'})\n",
    "print(df)"
   ]
  },
  {
   "cell_type": "markdown",
   "metadata": {
    "cell_id": "85b6bc515e4d425b915b1451ab3880f4",
    "deepnote_cell_type": "text-cell-h3",
    "formattedRanges": [],
    "is_collapsed": false,
    "tags": []
   },
   "source": [
    "### 13. The first column in the CSV file holds index values of the dataframe. Read it so that the first column goes as the index column of the dataframe."
   ]
  },
  {
   "cell_type": "code",
   "execution_count": 14,
   "metadata": {
    "cell_id": "208c4daa4a8044c5a38eb36c59c1e4a4",
    "deepnote_cell_type": "code",
    "deepnote_to_be_reexecuted": false,
    "execution_context_id": "00281ed3-7711-43f6-b474-b84c68005fad",
    "execution_millis": 204,
    "execution_start": 1734926794297,
    "source_hash": "f576aa5",
    "tags": []
   },
   "outputs": [
    {
     "name": "stdout",
     "output_type": "stream",
     "text": [
      "   col1  col2  col3\n",
      "0     1     2     3\n",
      "1     4     5     6\n",
      "2     7     8     9\n"
     ]
    }
   ],
   "source": [
    "csv_file = \"input_data/file5.csv\"\n",
    "\n",
    "df = pd.read_csv(csv_file, index_col=0)\n",
    "print(df)"
   ]
  },
  {
   "cell_type": "markdown",
   "metadata": {
    "cell_id": "5be9339144dc439d9db70003dc37f1d6",
    "deepnote_cell_type": "text-cell-h3",
    "formattedRanges": [],
    "is_collapsed": false,
    "tags": []
   },
   "source": [
    "### 14. There are 9 data rows in the CSV file. Read only the first 4 of them."
   ]
  },
  {
   "cell_type": "markdown",
   "metadata": {
    "cell_id": "0fb4ece022314f8b888a8d1e8dba6e26",
    "deepnote_cell_type": "text-cell-p",
    "formattedRanges": [
     {
      "fromCodePoint": 0,
      "marks": {
       "bold": true
      },
      "toCodePoint": 100
     }
    ],
    "is_collapsed": false,
    "tags": []
   },
   "source": [
    "Note: You should NOT read the whole CSV file and use the head() method to select the first 4 rows. 🚫"
   ]
  },
  {
   "cell_type": "code",
   "execution_count": 15,
   "metadata": {
    "cell_id": "82db76eae1034117942d28f5d2ad2aaf",
    "deepnote_cell_height": 115,
    "deepnote_cell_type": "code",
    "execution_context_id": "00281ed3-7711-43f6-b474-b84c68005fad",
    "execution_millis": 152,
    "execution_start": 1734926899085,
    "source_hash": "26a146ef",
    "tags": []
   },
   "outputs": [
    {
     "name": "stdout",
     "output_type": "stream",
     "text": [
      "   col1  col2  col3\n",
      "0     1     2     3\n",
      "1     4     5     6\n",
      "2     7     8     9\n",
      "3     1     2     3\n"
     ]
    }
   ],
   "source": [
    "csv_file = \"input_data/file6.csv\"\n",
    "\n",
    "df = pd.read_csv(csv_file, nrows=4)\n",
    "print(df)"
   ]
  },
  {
   "cell_type": "markdown",
   "metadata": {
    "cell_id": "a672172ffdbe4619a18739d1900d6908",
    "deepnote_cell_type": "text-cell-h3",
    "formattedRanges": [],
    "is_collapsed": false,
    "tags": []
   },
   "source": [
    "### 15. There are some blank lines in the CSV file. While reading the CSV, you should skip these blank lines."
   ]
  },
  {
   "cell_type": "code",
   "execution_count": 16,
   "metadata": {
    "cell_id": "c2fcaf33e88f41dd8c15c98f653ff3dc",
    "deepnote_cell_height": 115,
    "deepnote_cell_type": "code",
    "execution_context_id": "00281ed3-7711-43f6-b474-b84c68005fad",
    "execution_millis": 239,
    "execution_start": 1734927372877,
    "source_hash": "9cf6d8ea",
    "tags": []
   },
   "outputs": [
    {
     "name": "stdout",
     "output_type": "stream",
     "text": [
      "   col1  col2  col3\n",
      "0     1     2     3\n",
      "1     4     5     6\n",
      "2     7     8     9\n",
      "3     1     2     3\n",
      "4     4     5     6\n",
      "5     7     8     9\n"
     ]
    }
   ],
   "source": [
    "csv_file = \"input_data/file7.csv\"\n",
    "\n",
    "df = pd.read_csv(csv_file, skip_blank_lines=True)\n",
    "print(df)"
   ]
  },
  {
   "cell_type": "markdown",
   "metadata": {
    "cell_id": "11d4656a8d61448dacb822bebd8105a7",
    "deepnote_cell_type": "text-cell-h2",
    "formattedRanges": [],
    "is_collapsed": false,
    "tags": []
   },
   "source": [
    "## Output Operations to CSV in Pandas"
   ]
  },
  {
   "cell_type": "markdown",
   "metadata": {
    "cell_id": "afa4a25cb98248e2a8de0a89f1bd6d06",
    "deepnote_cell_type": "text-cell-h3",
    "formattedRanges": [],
    "is_collapsed": false,
    "tags": []
   },
   "source": [
    "### 16. Given the dataframe \"df\", store it to a CSV File (with the index values)."
   ]
  },
  {
   "cell_type": "code",
   "execution_count": 17,
   "metadata": {
    "cell_id": "cdbe73688061486ca244428a8e313d73",
    "deepnote_cell_type": "code",
    "deepnote_to_be_reexecuted": false,
    "execution_context_id": "00281ed3-7711-43f6-b474-b84c68005fad",
    "execution_millis": 10,
    "execution_start": 1734928468105,
    "source_hash": "234e3064",
    "tags": []
   },
   "outputs": [
    {
     "name": "stderr",
     "output_type": "stream",
     "text": [
      "'cat' is not recognized as an internal or external command,\n",
      "operable program or batch file.\n"
     ]
    }
   ],
   "source": [
    "import os\n",
    "\n",
    "# Create the 'output_data' directory to solve the issue\n",
    "if not os.path.exists('output_data'):\n",
    "    os.makedirs('output_data')\n",
    "\n",
    "df = pd.DataFrame([[1,2,3], [4,5,6]], \n",
    "                  columns = [\"col1\", \"col2\", \"col3\"])\n",
    "\n",
    "csv_file = \"output_data/file1.csv\"\n",
    "\n",
    "df.to_csv(csv_file, index=True)\n",
    "\n",
    "## Preview the file (DO NOT CHANGE!)\n",
    "!cat \"{csv_file}\""
   ]
  },
  {
   "cell_type": "markdown",
   "metadata": {
    "cell_id": "7142846917b64fbbb26c57b2a37de46e",
    "deepnote_cell_type": "text-cell-h3",
    "formattedRanges": [],
    "is_collapsed": false,
    "tags": []
   },
   "source": [
    "### 17. Given the dataframe \"df\", store it to a CSV File without the index column this time."
   ]
  },
  {
   "cell_type": "code",
   "execution_count": 18,
   "metadata": {
    "cell_id": "d1c457dfbdbc47958b3c00d5e1c53c8d",
    "deepnote_cell_height": 241,
    "deepnote_cell_type": "code",
    "execution_context_id": "00281ed3-7711-43f6-b474-b84c68005fad",
    "execution_millis": 11,
    "execution_start": 1734928506673,
    "source_hash": "a29e9b70",
    "tags": []
   },
   "outputs": [
    {
     "name": "stderr",
     "output_type": "stream",
     "text": [
      "'cat' is not recognized as an internal or external command,\n",
      "operable program or batch file.\n"
     ]
    }
   ],
   "source": [
    "df = pd.DataFrame([[1,2,3], [4,5,6]], \n",
    "                  columns = [\"col1\", \"col2\", \"col3\"])\n",
    "\n",
    "csv_file = \"output_data/file2.csv\"\n",
    "\n",
    "df.to_csv(csv_file, index=False)\n",
    "\n",
    "## Preview the file (DO NOT CHANGE!)\n",
    "!cat \"{csv_file}\""
   ]
  },
  {
   "cell_type": "markdown",
   "metadata": {
    "cell_id": "18118a5b16b04632aa46ea7db642448b",
    "deepnote_cell_type": "text-cell-h3",
    "formattedRanges": [],
    "is_collapsed": false,
    "tags": []
   },
   "source": [
    "### 18. Given the dataframe \"df\", store it to a CSV File with delimiter as \"|\". (without the index values)"
   ]
  },
  {
   "cell_type": "code",
   "execution_count": 19,
   "metadata": {
    "cell_id": "f047e4a4fb0a429cbcd9563eb27368bc",
    "deepnote_cell_height": 241,
    "deepnote_cell_type": "code",
    "execution_context_id": "00281ed3-7711-43f6-b474-b84c68005fad",
    "execution_millis": 12,
    "execution_start": 1734928645317,
    "source_hash": "b4871d4d",
    "tags": []
   },
   "outputs": [
    {
     "name": "stderr",
     "output_type": "stream",
     "text": [
      "'cat' is not recognized as an internal or external command,\n",
      "operable program or batch file.\n"
     ]
    }
   ],
   "source": [
    "df = pd.DataFrame([[1,2,3], [4,5,6]], \n",
    "                  columns = [\"col1\", \"col2\", \"col3\"])\n",
    "\n",
    "csv_file = \"output_data/file3.csv\"\n",
    "\n",
    "df.to_csv(csv_file, sep=\"|\", index=False)\n",
    "\n",
    "## Preview the file (DO NOT CHANGE!)\n",
    "!cat \"{csv_file}\""
   ]
  },
  {
   "cell_type": "markdown",
   "metadata": {
    "cell_id": "f1dff0e39d964fa390c5041b5710bc6e",
    "deepnote_cell_type": "text-cell-h3",
    "formattedRanges": [],
    "is_collapsed": false,
    "tags": []
   },
   "source": [
    "### 19. Given a dataframe \"df\" with three columns -- \"col1\", \"col2\" and \"col3\". Store only \"col1\" and \"col3\" to a CSV file (without the index values)"
   ]
  },
  {
   "cell_type": "code",
   "execution_count": 20,
   "metadata": {
    "cell_id": "c163b05194e34848b8bc7561260289fa",
    "deepnote_cell_type": "code",
    "deepnote_to_be_reexecuted": false,
    "execution_context_id": "00281ed3-7711-43f6-b474-b84c68005fad",
    "execution_millis": 10,
    "execution_start": 1734928754401,
    "source_hash": "edc36e77",
    "tags": []
   },
   "outputs": [
    {
     "name": "stderr",
     "output_type": "stream",
     "text": [
      "'cat' is not recognized as an internal or external command,\n",
      "operable program or batch file.\n"
     ]
    }
   ],
   "source": [
    "df = pd.DataFrame([[1,2,3], [4,5,6]], \n",
    "                  columns = [\"col1\", \"col2\", \"col3\"])\n",
    "\n",
    "csv_file = \"output_data/file4.csv\"\n",
    "\n",
    "df.to_csv(csv_file, columns=['col1', 'col3'], index=False)\n",
    "\n",
    "## Preview the file (DO NOT CHANGE!)\n",
    "!cat \"{csv_file}\""
   ]
  },
  {
   "cell_type": "markdown",
   "metadata": {
    "cell_id": "6f29a5fe4c6d4a26b3bbd5fbaf3aac36",
    "deepnote_cell_type": "text-cell-h3",
    "formattedRanges": [],
    "is_collapsed": false,
    "tags": []
   },
   "source": [
    "### 20. Given a dataframe \"df\" with three columns -- \"col1\", \"col2\" and \"col3\". Store the DataFrame to a CSV file without the column row ( and without the index values)."
   ]
  },
  {
   "cell_type": "code",
   "execution_count": 21,
   "metadata": {
    "cell_id": "03cb485a950440b19b6d6ea6a5bd9dd6",
    "deepnote_cell_height": 241,
    "deepnote_cell_type": "code",
    "execution_context_id": "00281ed3-7711-43f6-b474-b84c68005fad",
    "execution_millis": 5,
    "execution_start": 1734928835581,
    "source_hash": "a75c058c",
    "tags": []
   },
   "outputs": [
    {
     "name": "stderr",
     "output_type": "stream",
     "text": [
      "'cat' is not recognized as an internal or external command,\n",
      "operable program or batch file.\n"
     ]
    }
   ],
   "source": [
    "df = pd.DataFrame([[1,2,3], [4,5,6]], \n",
    "                  columns = [\"col1\", \"col2\", \"col3\"])\n",
    "\n",
    "csv_file = \"output_data/file5.csv\"\n",
    "\n",
    "df.to_csv(csv_file, header=False, index=False)\n",
    "\n",
    "## Preview the file (DO NOT CHANGE!)\n",
    "!cat \"{csv_file}\""
   ]
  },
  {
   "cell_type": "markdown",
   "metadata": {
    "cell_id": "045a63e028244e89aa9e692f35dc9993",
    "deepnote_cell_type": "text-cell-h2",
    "formattedRanges": [],
    "is_collapsed": false,
    "tags": []
   },
   "source": [
    "## Input Operations from other file formats in Pandas"
   ]
  },
  {
   "cell_type": "markdown",
   "metadata": {
    "cell_id": "3131bedb418f444ba7726f4422dd46d2",
    "deepnote_cell_type": "text-cell-h3",
    "formattedRanges": [],
    "is_collapsed": false,
    "tags": []
   },
   "source": [
    "### 21. Read a DataFrame from a Pickle File."
   ]
  },
  {
   "cell_type": "code",
   "execution_count": 22,
   "metadata": {
    "cell_id": "b466a4cb66b34fc1b3cac3532083c9c2",
    "deepnote_cell_height": 115,
    "deepnote_cell_type": "code",
    "execution_context_id": "00281ed3-7711-43f6-b474-b84c68005fad",
    "execution_millis": 256,
    "execution_start": 1734928925569,
    "source_hash": "c55c1af",
    "tags": []
   },
   "outputs": [
    {
     "name": "stdout",
     "output_type": "stream",
     "text": [
      "   col1  col2  col3\n",
      "0     1     2     3\n",
      "1     4     5     6\n",
      "2     7     8     9\n"
     ]
    }
   ],
   "source": [
    "pickle_file = \"input_data/file1.pickle\"\n",
    "\n",
    "df = pd.read_pickle(pickle_file)\n",
    "print(df)"
   ]
  },
  {
   "cell_type": "markdown",
   "metadata": {
    "cell_id": "76813878ecef44a9b96edb17c7fd3104",
    "deepnote_cell_type": "text-cell-h3",
    "formattedRanges": [],
    "is_collapsed": false,
    "tags": []
   },
   "source": [
    "### 22. Read a DataFrame from a Parquet File."
   ]
  },
  {
   "cell_type": "code",
   "execution_count": 23,
   "metadata": {
    "cell_id": "1a40ad903b1d45e7adf85022de165955",
    "deepnote_cell_height": 115,
    "deepnote_cell_type": "code",
    "execution_context_id": "00281ed3-7711-43f6-b474-b84c68005fad",
    "execution_millis": 351,
    "execution_start": 1734928951205,
    "source_hash": "ed3eedc0",
    "tags": []
   },
   "outputs": [
    {
     "name": "stdout",
     "output_type": "stream",
     "text": [
      "   col1  col2  col3\n",
      "0     1     2     3\n",
      "1     4     5     6\n",
      "2     7     8     9\n"
     ]
    }
   ],
   "source": [
    "parquet_file = \"input_data/file1.parquet\"\n",
    "\n",
    "df = pd.read_parquet(parquet_file)\n",
    "print(df)"
   ]
  },
  {
   "cell_type": "markdown",
   "metadata": {
    "cell_id": "1f3d0bb74fd24841844b646070cfca16",
    "deepnote_cell_type": "text-cell-h3",
    "formattedRanges": [],
    "is_collapsed": false,
    "tags": []
   },
   "source": [
    "### 23. Read a DataFrame from a Parquet File. The file has three columns, \"col1\", \"col2\" and \"col3\". Read only \"col1\" and \"col3\"."
   ]
  },
  {
   "cell_type": "code",
   "execution_count": 24,
   "metadata": {
    "cell_id": "ed7a6fcb191b4ae09ec9e5003b88719c",
    "deepnote_cell_height": 115,
    "deepnote_cell_type": "code",
    "execution_context_id": "00281ed3-7711-43f6-b474-b84c68005fad",
    "execution_millis": 178,
    "execution_start": 1734928999765,
    "source_hash": "b45694f1",
    "tags": []
   },
   "outputs": [
    {
     "name": "stdout",
     "output_type": "stream",
     "text": [
      "   col1  col3\n",
      "0     1     3\n",
      "1     4     6\n",
      "2     7     9\n"
     ]
    }
   ],
   "source": [
    "parquet_file = \"input_data/file1.parquet\"\n",
    "\n",
    "df = pd.read_parquet(parquet_file, columns=['col1', 'col3'])\n",
    "print(df)"
   ]
  },
  {
   "cell_type": "markdown",
   "metadata": {
    "cell_id": "c8c435a783dd4f059c71e65ff2c12f98",
    "deepnote_cell_type": "text-cell-h3",
    "formattedRanges": [],
    "is_collapsed": false,
    "tags": []
   },
   "source": [
    "### 24. Read a DataFrame from a Feather File."
   ]
  },
  {
   "cell_type": "code",
   "execution_count": 25,
   "metadata": {
    "cell_id": "c1be3b48cf194d718b1bb13913990768",
    "deepnote_cell_height": 115,
    "deepnote_cell_type": "code",
    "execution_context_id": "00281ed3-7711-43f6-b474-b84c68005fad",
    "execution_millis": 320,
    "execution_start": 1734929015441,
    "source_hash": "62d5c4d0",
    "tags": []
   },
   "outputs": [
    {
     "name": "stdout",
     "output_type": "stream",
     "text": [
      "   col1  col2  col3\n",
      "0     1     2     3\n",
      "1     4     5     6\n",
      "2     7     8     9\n"
     ]
    }
   ],
   "source": [
    "feather_file = \"input_data/file1.feather\"\n",
    "\n",
    "df = pd.read_feather(feather_file)\n",
    "print(df)"
   ]
  },
  {
   "cell_type": "markdown",
   "metadata": {
    "cell_id": "d14e6e385732407da86089463fd249a6",
    "deepnote_cell_type": "text-cell-h3",
    "formattedRanges": [],
    "is_collapsed": false,
    "tags": []
   },
   "source": [
    "### 25. Read a DataFrame from a Feather File. The file has three columns, \"col1\", \"col2\" and \"col3\". Read only \"col1\" and \"col3\"."
   ]
  },
  {
   "cell_type": "code",
   "execution_count": 26,
   "metadata": {
    "cell_id": "c7a908713c66414e95880f51e47047e1",
    "deepnote_cell_height": 115,
    "deepnote_cell_type": "code",
    "execution_context_id": "00281ed3-7711-43f6-b474-b84c68005fad",
    "execution_millis": 179,
    "execution_start": 1734929028209,
    "source_hash": "9e1650f9",
    "tags": []
   },
   "outputs": [
    {
     "name": "stdout",
     "output_type": "stream",
     "text": [
      "   col1  col3\n",
      "0     1     3\n",
      "1     4     6\n",
      "2     7     9\n"
     ]
    }
   ],
   "source": [
    "feather_file = \"input_data/file1.feather\"\n",
    "\n",
    "df = pd.read_feather(feather_file, columns=['col1', 'col3'])\n",
    "print(df)"
   ]
  },
  {
   "cell_type": "markdown",
   "metadata": {
    "cell_id": "415949a33d3c4f43b532aec19c261077",
    "deepnote_cell_type": "text-cell-h2",
    "formattedRanges": [],
    "is_collapsed": false,
    "tags": []
   },
   "source": [
    "## Output Operations to other file formats in Pandas"
   ]
  },
  {
   "cell_type": "markdown",
   "metadata": {
    "cell_id": "af5a7638c3b149af8729f38e3059b75f",
    "deepnote_cell_type": "text-cell-h3",
    "formattedRanges": [],
    "is_collapsed": false,
    "tags": []
   },
   "source": [
    "### 26. Save the DataFrame to a Pickle File."
   ]
  },
  {
   "cell_type": "code",
   "execution_count": 27,
   "metadata": {
    "cell_id": "6d6c776f3d9e4ff98e943e26909695aa",
    "deepnote_cell_height": 241,
    "deepnote_cell_type": "code",
    "execution_context_id": "00281ed3-7711-43f6-b474-b84c68005fad",
    "execution_millis": 41,
    "execution_start": 1734929071266,
    "source_hash": "7ead67a8",
    "tags": []
   },
   "outputs": [
    {
     "name": "stderr",
     "output_type": "stream",
     "text": [
      "'cat' is not recognized as an internal or external command,\n",
      "operable program or batch file.\n"
     ]
    }
   ],
   "source": [
    "df = pd.DataFrame([[1,2,3], [4,5,6]], \n",
    "                  columns = [\"col1\", \"col2\", \"col3\"])\n",
    "\n",
    "pickle_file = \"output_data/file1.pickle\"\n",
    "\n",
    "df.to_pickle(pickle_file)\n",
    "\n",
    "## Preview the file (DO NOT CHANGE!)\n",
    "!cat \"{pickle_file}\""
   ]
  },
  {
   "cell_type": "markdown",
   "metadata": {
    "cell_id": "727666e8bba445ad83d65f1d848464d0",
    "deepnote_cell_type": "text-cell-h3",
    "formattedRanges": [],
    "is_collapsed": false,
    "tags": []
   },
   "source": [
    "### 27. Save the DataFrame to a Parquet File."
   ]
  },
  {
   "cell_type": "code",
   "execution_count": 28,
   "metadata": {
    "cell_id": "1f18757584f84390b61ea8fdf232c223",
    "deepnote_cell_height": 241,
    "deepnote_cell_type": "code",
    "execution_context_id": "00281ed3-7711-43f6-b474-b84c68005fad",
    "execution_millis": 888,
    "execution_start": 1734929094933,
    "source_hash": "540f0154",
    "tags": []
   },
   "outputs": [
    {
     "name": "stderr",
     "output_type": "stream",
     "text": [
      "'cat' is not recognized as an internal or external command,\n",
      "operable program or batch file.\n"
     ]
    }
   ],
   "source": [
    "df = pd.DataFrame([[1,2,3], [4,5,6]], \n",
    "                  columns = [\"col1\", \"col2\", \"col3\"])\n",
    "\n",
    "parquet_file = \"output_data/file1.parquet\"\n",
    "\n",
    "df.to_parquet(parquet_file)\n",
    "\n",
    "## Preview the file (DO NOT CHANGE!)\n",
    "!cat \"{pickle_file}\""
   ]
  },
  {
   "cell_type": "markdown",
   "metadata": {
    "cell_id": "5285f7656b224253b8cf9ef2892750f2",
    "deepnote_cell_type": "text-cell-h3",
    "formattedRanges": [],
    "is_collapsed": false,
    "tags": []
   },
   "source": [
    "### 28. Save the DataFrame to a Parquet File without the index column"
   ]
  },
  {
   "cell_type": "code",
   "execution_count": 29,
   "metadata": {
    "cell_id": "30009f66a408493389935630369e43e2",
    "deepnote_cell_height": 241,
    "deepnote_cell_type": "code",
    "execution_context_id": "00281ed3-7711-43f6-b474-b84c68005fad",
    "execution_millis": 23,
    "execution_start": 1734929120461,
    "source_hash": "fe117f96",
    "tags": []
   },
   "outputs": [
    {
     "name": "stderr",
     "output_type": "stream",
     "text": [
      "'cat' is not recognized as an internal or external command,\n",
      "operable program or batch file.\n"
     ]
    }
   ],
   "source": [
    "df = pd.DataFrame([[1,2,3], [4,5,6]], \n",
    "                  columns = [\"col1\", \"col2\", \"col3\"])\n",
    "\n",
    "parquet_file = \"output_data/file2.parquet\"\n",
    "\n",
    "df.to_parquet(parquet_file, index=False)\n",
    "\n",
    "## Preview the file (DO NOT CHANGE!)\n",
    "!cat \"{pickle_file}\""
   ]
  },
  {
   "cell_type": "markdown",
   "metadata": {
    "cell_id": "949a259abd59431a8e4aff70e71b95b9",
    "deepnote_cell_type": "text-cell-h3",
    "formattedRanges": [],
    "is_collapsed": false,
    "tags": []
   },
   "source": [
    "### 29. Save the DataFrame to a Feather File."
   ]
  },
  {
   "cell_type": "code",
   "execution_count": 30,
   "metadata": {
    "cell_id": "a82599b543ef406f8a26e327494002a0",
    "deepnote_cell_height": 241,
    "deepnote_cell_type": "code",
    "execution_context_id": "00281ed3-7711-43f6-b474-b84c68005fad",
    "execution_millis": 54,
    "execution_start": 1734929141006,
    "source_hash": "ce8b57f3",
    "tags": []
   },
   "outputs": [
    {
     "name": "stderr",
     "output_type": "stream",
     "text": [
      "'cat' is not recognized as an internal or external command,\n",
      "operable program or batch file.\n"
     ]
    }
   ],
   "source": [
    "df = pd.DataFrame([[1,2,3], [4,5,6]], \n",
    "                  columns = [\"col1\", \"col2\", \"col3\"])\n",
    "\n",
    "feather_file = \"output_data/file1.feather\"\n",
    "\n",
    "df.to_feather(feather_file)\n",
    "\n",
    "## Preview the file (DO NOT CHANGE!)\n",
    "!cat \"{feather_file}\""
   ]
  },
  {
   "cell_type": "markdown",
   "metadata": {
    "cell_id": "936ed1cf35a2435391fc8a99d0a4f495",
    "deepnote_cell_type": "text-cell-h3",
    "formattedRanges": [],
    "is_collapsed": false,
    "tags": []
   },
   "source": [
    "### 30. Save the DataFrame to a Feather File without the index column."
   ]
  },
  {
   "cell_type": "code",
   "execution_count": 32,
   "metadata": {
    "cell_id": "73cd0872f21a4643b5d5b06b366f8fea",
    "deepnote_cell_height": 241,
    "deepnote_cell_type": "code",
    "execution_context_id": "00281ed3-7711-43f6-b474-b84c68005fad",
    "execution_millis": 13,
    "execution_start": 1734929168465,
    "source_hash": "c034b5bc",
    "tags": []
   },
   "outputs": [
    {
     "name": "stderr",
     "output_type": "stream",
     "text": [
      "'cat' is not recognized as an internal or external command,\n",
      "operable program or batch file.\n"
     ]
    }
   ],
   "source": [
    "df = pd.DataFrame([[1,2,3], [4,5,6]], \n",
    "                  columns = [\"col1\", \"col2\", \"col3\"])\n",
    "\n",
    "feather_file = \"output_data/file2.feather\"\n",
    "\n",
    "df.to_feather(feather_file)\n",
    "\n",
    "## Preview the file (DO NOT CHANGE!)\n",
    "!cat \"{feather_file}\""
   ]
  },
  {
   "cell_type": "code",
   "execution_count": null,
   "metadata": {},
   "outputs": [],
   "source": []
  }
 ],
 "metadata": {
  "deepnote_notebook_id": "277b1afcdeb44153ba555efe1a1459e5",
  "kernelspec": {
   "display_name": "base",
   "language": "python",
   "name": "python3"
  },
  "language_info": {
   "codemirror_mode": {
    "name": "ipython",
    "version": 3
   },
   "file_extension": ".py",
   "mimetype": "text/x-python",
   "name": "python",
   "nbconvert_exporter": "python",
   "pygments_lexer": "ipython3",
   "version": "3.12.7"
  }
 },
 "nbformat": 4,
 "nbformat_minor": 0
}
